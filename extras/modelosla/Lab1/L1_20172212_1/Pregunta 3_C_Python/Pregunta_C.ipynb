{
  "cells": [
    {
      "cell_type": "code",
      "execution_count": 87,
      "metadata": {
        "colab": {
          "base_uri": "https://localhost:8080/"
        },
        "id": "_Mj4r8853qfb",
        "outputId": "5a957238-5de5-4270-b8cb-2ea5fd5e6c4d"
      },
      "outputs": [
        {
          "name": "stdout",
          "output_type": "stream",
          "text": [
            "Writing primo_div_kprimo.c\n"
          ]
        }
      ],
      "source": [
        "%%file primo_div_kprimo.c\n",
        "\n",
        "#include <stdio.h>\n",
        "#include <stdlib.h>\n",
        "#include <math.h>\n",
        "\n",
        "int num_es_primo(int num){\n",
        "    int i , bandera ,cant_div=0;\n",
        "    for(i=1;i<=num;i++){\n",
        "        if(num%i==0)\n",
        "            cant_div++;\n",
        "    }\n",
        "    if(cant_div == 2){\n",
        "        bandera = 1; //Variable para identificar si el numero es primo\n",
        "    }\n",
        "    else{\n",
        "        bandera = 0; //Variable para identificar si el numero no es primo\n",
        "    }\n",
        "\n",
        "    return bandera;\n",
        "\n",
        "}\n",
        "\n",
        "int num_divisible_k_primo(int num, int k){\n",
        "    int i, bandera, primo ,cant_div_primo=0;\n",
        "    for(i=1;i<=num;i++){\n",
        "        primo = num_es_primo(i);\n",
        "        if(primo == 1){\n",
        "            if(num%i==0)\n",
        "                cant_div_primo++;\n",
        "        }\n",
        "    }\n",
        "    if(cant_div_primo == k){\n",
        "        bandera = 1; //Variable para verificar la cantidad de divisores primos de un numero segun el valor de C\n",
        "    }\n",
        "    else{    \n",
        "       bandera = 0;\n",
        "    }\n",
        "\n",
        "    return bandera;\n",
        "}\n",
        "\n",
        "int main (int argc , char const *argv[]){\n",
        "    \n",
        "    if(argc != 4){ //Condicional para verificar los 3 argumentos de entrada \n",
        "        \n",
        "        printf(\"Cantidad de argumentos incorrecta \\n\");\n",
        "\n",
        "        printf(\"Lea el enunciado \\n\");\n",
        "\n",
        "        return 0;\n",
        "    }\n",
        "    \n",
        "    int A = atoi(argv[1]); //Limite inferior\n",
        "\n",
        "    int B = atoi(argv[2]); //Limite superior\n",
        "\n",
        "    int C = atoi(argv[3]); //Opcion\n",
        "\n",
        "    if (A > B){\n",
        "        \n",
        "        printf(\" A debe ser menor que B \\n\");\n",
        "\n",
        "        return 0;\n",
        "    }\n",
        "\n",
        "    if (C > B){\n",
        "        \n",
        "        printf(\" C debe ser menor que B \\n\");\n",
        "\n",
        "        return 0;\n",
        "    }\n",
        "\n",
        "    int contador_primos = 0;\n",
        "\n",
        "    if(C == 0){ //Condicional para hallar la cantidad de numeros primos entre A y B\n",
        "        while(A<=B){\n",
        "            int i = 2;\n",
        "            while(i<=A){\n",
        "                if(A == 2){\n",
        "                    contador_primos = contador_primos + 1;\n",
        "                }\n",
        "                if(A % i == 0){\n",
        "                   i = A;\n",
        "                }\n",
        "                else if(i == (A - 1)){\n",
        "                    contador_primos = contador_primos + 1;\n",
        "                }\n",
        "             i = i + 1;   \n",
        "            }\n",
        "            A = A + 1;\n",
        "        }\n",
        "      printf(\"Hay %d numeros primos \\n\", contador_primos);\n",
        "    }\n",
        "    int num_en_rango=A;\n",
        "    int num_nums_div_k_primo=0;\n",
        "    int primo, divisor;\n",
        "\n",
        "    if(C > 0){ //Condicional para hallar la cantidad de divisores primos segun el valor de C\n",
        "       while(num_en_rango <= B){\n",
        "           primo = num_es_primo(num_en_rango);\n",
        "            if(primo == 0){\n",
        "                divisor = num_divisible_k_primo(num_en_rango, C);\n",
        "                if(divisor == 1){\n",
        "                    num_nums_div_k_primo++;\n",
        "                }\n",
        "            }\n",
        "            num_en_rango++;\n",
        "        }\n",
        "        printf(\"Hay %d numeros divisibles por %d primo(s)\", num_nums_div_k_primo, C);\n",
        "    }\n",
        "\n",
        " return 0;   \n",
        "}\n"
      ]
    },
    {
      "cell_type": "code",
      "execution_count": 88,
      "metadata": {
        "colab": {
          "base_uri": "https://localhost:8080/"
        },
        "id": "xX_VgTkO48KD",
        "outputId": "c92621af-865f-4ce9-f39b-7743092263ba"
      },
      "outputs": [
        {
          "name": "stdout",
          "output_type": "stream",
          "text": [
            "primo_div_kprimo.c  primo_div_kprimo.py  sample_data\n"
          ]
        },
        {
          "data": {
            "text/plain": []
          },
          "execution_count": 88,
          "metadata": {},
          "output_type": "execute_result"
        }
      ],
      "source": [
        "%%shell \n",
        "ls"
      ]
    },
    {
      "cell_type": "code",
      "execution_count": 89,
      "metadata": {
        "colab": {
          "base_uri": "https://localhost:8080/"
        },
        "id": "Vgjc7IFD5PSd",
        "outputId": "114ee3f5-a31d-43ab-8a6a-147be861bfb3"
      },
      "outputs": [
        {
          "data": {
            "text/plain": []
          },
          "execution_count": 89,
          "metadata": {},
          "output_type": "execute_result"
        }
      ],
      "source": [
        "%%shell\n",
        "gcc primo_div_kprimo.c -o primo_div_kprimo"
      ]
    },
    {
      "cell_type": "code",
      "execution_count": 94,
      "metadata": {
        "colab": {
          "base_uri": "https://localhost:8080/"
        },
        "id": "xEb_meEw5V7z",
        "outputId": "f60349c4-d406-4766-e7a5-51dc290f3a08"
      },
      "outputs": [
        {
          "name": "stdout",
          "output_type": "stream",
          "text": [
            "Hay 0 numeros divisibles por 3 primo(s)"
          ]
        },
        {
          "data": {
            "text/plain": []
          },
          "execution_count": 94,
          "metadata": {},
          "output_type": "execute_result"
        }
      ],
      "source": [
        "%%shell \n",
        "./primo_div_kprimo 1 12 3"
      ]
    },
    {
      "cell_type": "code",
      "execution_count": 95,
      "metadata": {
        "colab": {
          "base_uri": "https://localhost:8080/"
        },
        "id": "oqFA4rTApxE7",
        "outputId": "e809a85f-d7b9-4c6f-aff4-65fe4466b93f"
      },
      "outputs": [
        {
          "name": "stdout",
          "output_type": "stream",
          "text": [
            "Overwriting primo_div_kprimo.py\n"
          ]
        }
      ],
      "source": [
        "%%file primo_div_kprimo.py\n",
        "\n",
        "import sys\n",
        "\n",
        "def num_es_primo(num):\n",
        "  cant_div=0\n",
        "  for i in range(1,num+1):\n",
        "    if(num%i==0):\n",
        "      cant_div = cant_div + 1   \n",
        "\n",
        "  if(cant_div == 2):\n",
        "    primo = 1 #Variable para identificar si el numero es primo\n",
        "    \n",
        "  else:\n",
        "    primo = 0 #Variable para identificar si el numero no es primo\n",
        "    \n",
        "  return primo\n",
        "\n",
        "def num_divisible_k_primo(num, k):\n",
        "  cant_div_primo=0\n",
        "  for i in range(1,num+1):\n",
        "    primo = num_es_primo(i)\n",
        "    if(primo == 1):\n",
        "      if(num%i==0):\n",
        "        cant_div_primo = cant_div_primo + 1\n",
        "        \n",
        "  if(cant_div_primo == k):\n",
        "    bandera = 1 #Variable para verificar la cantidad de divisores primos de un numero segun el valor de C\n",
        "    \n",
        "  else:\n",
        "    bandera = 0\n",
        "\n",
        "  return bandera\n",
        "\n",
        "\n",
        "\n",
        "\n",
        "A = int(sys.argv[1]) #Limite inferior\n",
        "B = int(sys.argv[2]) #Limite superior\n",
        "C = int(sys.argv[3]) #Opcion\n",
        "\n",
        "if (A > B):\n",
        "        \n",
        "      print(\" A debe ser menor que B \")\n",
        "\n",
        "if (C > B):\n",
        "        \n",
        "      print(\" C debe ser menor que B \")\n",
        "\n",
        "contador_primos = 0  \n",
        "num_en_rango = A\n",
        "num_nums_div_k_primo = 0\n",
        "\n",
        "if(C == 0): #Condicional para hallar la cantidad de numeros primos entre A y B\n",
        "  while(A <= B):\n",
        "    i = 2\n",
        "    while(i <= A):\n",
        "      if(A==2):\n",
        "        contador_primos = contador_primos + 1 \n",
        "      if (A % i == 0):\n",
        "          i = A + 1\n",
        "      elif (i == (A - 1)):\n",
        "        contador_primos = contador_primos + 1 \n",
        "      i+=1   \n",
        "    A+=1\n",
        "  print(f\"Hay {contador_primos} numeros primos\")\n",
        "\n",
        "if(C > 0): #Condicional para hallar la cantidad de divisores primos segun el valor de C\n",
        "  while(num_en_rango <= B):\n",
        "    primos = num_es_primo(num_en_rango) \n",
        "    if(primos == 0):\n",
        "      divisor = num_divisible_k_primo(num_en_rango, C)\n",
        "      if(divisor == 1):\n",
        "        num_nums_div_k_primo = num_nums_div_k_primo + 1\n",
        "                \n",
        "    num_en_rango+=1\n",
        "  print(f\"Hay {num_nums_div_k_primo} numeros divisibles por {C} primo(s)\")\n",
        "    \n",
        "  \n"
      ]
    },
    {
      "cell_type": "code",
      "execution_count": 100,
      "metadata": {
        "colab": {
          "base_uri": "https://localhost:8080/"
        },
        "id": "5oO7FC4eqF-6",
        "outputId": "140c31b1-6056-4f16-b8e3-ee241e80ec29"
      },
      "outputs": [
        {
          "name": "stdout",
          "output_type": "stream",
          "text": [
            "Hay 0 numeros divisibles por 3 primo(s)\n"
          ]
        },
        {
          "data": {
            "text/plain": []
          },
          "execution_count": 100,
          "metadata": {},
          "output_type": "execute_result"
        }
      ],
      "source": [
        "%%shell\n",
        "python3 primo_div_kprimo.py 1 12 3"
      ]
    }
  ],
  "metadata": {
    "colab": {
      "collapsed_sections": [],
      "name": "Pregunta C.ipynb",
      "provenance": []
    },
    "kernelspec": {
      "display_name": "Python 3",
      "name": "python3"
    },
    "language_info": {
      "name": "python"
    }
  },
  "nbformat": 4,
  "nbformat_minor": 0
}
