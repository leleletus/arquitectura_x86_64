{
  "cells": [
    {
      "cell_type": "code",
      "execution_count": 23,
      "metadata": {
        "colab": {
          "base_uri": "https://localhost:8080/"
        },
        "id": "kv3OOG8YhZMB",
        "outputId": "3f9a2555-b83b-4e75-ee22-9a1c5028da39"
      },
      "outputs": [
        {
          "name": "stdout",
          "output_type": "stream",
          "text": [
            "Overwriting downsampling.c\n"
          ]
        }
      ],
      "source": [
        "%%file downsampling.c\n",
        "\n",
        "#include <stdio.h>\n",
        "#include <stdlib.h>\n",
        "#include <math.h>\n",
        "#include <time.h>\n",
        "\n",
        "int main(){\n",
        "    \n",
        "  int **A;\n",
        "  int N = 8;\n",
        "  int i,j;\n",
        "  int n1 = 0;\n",
        "  struct timespec ti , tf;\n",
        "  double elapsed;\n",
        "\n",
        "  int longitud = (2*N) + 1;\n",
        "\n",
        "  A = (int**)malloc(longitud*sizeof(int*));\n",
        "\n",
        "  for(i = 0; i < longitud*longitud; i++){\n",
        "        A[i] = (int*)malloc(longitud*sizeof(int));\n",
        "  }\n",
        "\n",
        "  int cad1[longitud*longitud]; \n",
        "\n",
        "  clock_gettime ( CLOCK_REALTIME , &ti); // medicion del tiempo empieza ahora\n",
        "\n",
        "  for ( i = 0; i < longitud*longitud; i++){\n",
        "      cad1[i] = i;\n",
        "\n",
        "  }\n",
        "\n",
        "  for(i = 0; i < longitud; i++){\n",
        "        for(j = 0; j < longitud; j++){\n",
        "            A[i][j] = cad1[n1];\n",
        "            n1++;\n",
        "        }\n",
        "    } \n",
        "\n",
        "  clock_gettime ( CLOCK_REALTIME , &tf); // medicion del tiempo termina ahora  \n",
        "\n",
        "  for(i = 0; i < longitud; i++){\n",
        "        for(j = 0; j < longitud; j++){\n",
        "            \n",
        "          printf(\" %d \", A[i][j]);\n",
        "        }\n",
        "      printf(\"\\n\");\n",
        "    }\n",
        "\n",
        "  printf(\"\\n\");\n",
        "  printf(\"Downsampling :\\n\");\n",
        "  printf(\"\\n\");\n",
        "\n",
        "  for(i = 0; i < longitud; i = i + 2){\n",
        "        for(j = 0; j < longitud; j = j + 2){\n",
        "            \n",
        "          printf(\" %d \", A[i][j]);\n",
        "        }\n",
        "      printf(\"\\n\");\n",
        "    }\n",
        "\n",
        "  printf(\"\\n\");\n",
        "\n",
        "  elapsed = (tf.tv_nsec - ti.tv_nsec ) ;\n",
        "\n",
        "  printf (\" El tiempo de operacion en ns que toma la funcion es %lf \\n\", elapsed ) ;  \n",
        "\n",
        "\n",
        "\n",
        "\n",
        "  return 0;\n",
        "}"
      ]
    },
    {
      "cell_type": "code",
      "execution_count": 24,
      "metadata": {
        "colab": {
          "base_uri": "https://localhost:8080/"
        },
        "id": "XEegGrchk_V5",
        "outputId": "0be18bea-5be0-4353-e713-02db24e58fb9"
      },
      "outputs": [
        {
          "name": "stdout",
          "output_type": "stream",
          "text": [
            "downsampling  downsampling.c  sample_data\n"
          ]
        },
        {
          "data": {
            "text/plain": []
          },
          "execution_count": 24,
          "metadata": {},
          "output_type": "execute_result"
        }
      ],
      "source": [
        "%%shell\n",
        "ls"
      ]
    },
    {
      "cell_type": "code",
      "execution_count": 25,
      "metadata": {
        "colab": {
          "base_uri": "https://localhost:8080/"
        },
        "id": "z1BY7XJ15lIR",
        "outputId": "4addf6ff-18fe-46fc-e407-0742ae0693ed"
      },
      "outputs": [
        {
          "name": "stdout",
          "output_type": "stream",
          "text": [
            " 0  1  2  3  4  5  6  7  8  9  10  11  12  13  14  15  16 \n",
            " 17  18  19  20  21  22  23  24  25  26  27  28  29  30  31  32  33 \n",
            " 34  35  36  37  38  39  40  41  42  43  44  45  46  47  48  49  50 \n",
            " 51  52  53  54  55  56  57  58  59  60  61  62  63  64  65  66  67 \n",
            " 68  69  70  71  72  73  74  75  76  77  78  79  80  81  82  83  84 \n",
            " 85  86  87  88  89  90  91  92  93  94  95  96  97  98  99  100  101 \n",
            " 102  103  104  105  106  107  108  109  110  111  112  113  114  115  116  117  118 \n",
            " 119  120  121  122  123  124  125  126  127  128  129  130  131  132  133  134  135 \n",
            " 136  137  138  139  140  141  142  143  144  145  146  147  148  149  150  151  152 \n",
            " 153  154  155  156  157  158  159  160  161  162  163  164  165  166  167  168  169 \n",
            " 170  171  172  173  174  175  176  177  178  179  180  181  182  183  184  185  186 \n",
            " 187  188  189  190  191  192  193  194  195  196  197  198  199  200  201  202  203 \n",
            " 204  205  206  207  208  209  210  211  212  213  214  215  216  217  218  219  220 \n",
            " 221  222  223  224  225  226  227  228  229  230  231  232  233  234  235  236  237 \n",
            " 238  239  240  241  242  243  244  245  246  247  248  249  250  251  252  253  254 \n",
            " 255  256  257  258  259  260  261  262  263  264  265  266  267  268  269  270  271 \n",
            " 272  273  274  275  276  277  278  279  280  281  282  283  284  285  286  287  288 \n",
            "\n",
            "Downsampling :\n",
            "\n",
            " 0  2  4  6  8  10  12  14  16 \n",
            " 34  36  38  40  42  44  46  48  50 \n",
            " 68  70  72  74  76  78  80  82  84 \n",
            " 102  104  106  108  110  112  114  116  118 \n",
            " 136  138  140  142  144  146  148  150  152 \n",
            " 170  172  174  176  178  180  182  184  186 \n",
            " 204  206  208  210  212  214  216  218  220 \n",
            " 238  240  242  244  246  248  250  252  254 \n",
            " 272  274  276  278  280  282  284  286  288 \n",
            "\n",
            " El tiempo de operacion en ns que toma la funcion es 2000.000000 \n"
          ]
        },
        {
          "data": {
            "text/plain": []
          },
          "execution_count": 25,
          "metadata": {},
          "output_type": "execute_result"
        }
      ],
      "source": [
        "%%shell\n",
        "gcc downsampling.c -o downsampling && ./downsampling"
      ]
    }
  ],
  "metadata": {
    "colab": {
      "collapsed_sections": [],
      "provenance": []
    },
    "kernelspec": {
      "display_name": "Python 3",
      "name": "python3"
    },
    "language_info": {
      "name": "python"
    }
  },
  "nbformat": 4,
  "nbformat_minor": 0
}
