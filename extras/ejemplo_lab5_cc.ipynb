{
 "cells": [
  {
   "cell_type": "markdown",
   "metadata": {
    "id": "wC4lfCGQ1kik"
   },
   "source": [
    "# Laboratorio 5 - Arquitectura de Computadoras 23-1\n",
    "\n",
    "\n",
    "Indicaciones generales:\n",
    "\n",
    "* Los puntajes de ítems relacionados con mediciones de tiempo y presentación de gráficos solo serán asignados en caso sus funciones estén correctamente implementadas.\n",
    "\n",
    "* Las funciones implementadas solo deberán tener los argumentos mencionados en su respectivo ítem.\n",
    "\n",
    "* Los resultados de la función `py_` serán las referencias para medir los speedups.\n",
    "\n",
    "* Puede emplear apuntes, clases y hacer consultas en foros de internet.\n",
    "\n",
    "* No se puede emplear ChatGPT, ni ningún modelo de lenguaje."
   ]
  },
  {
   "cell_type": "markdown",
   "metadata": {
    "id": "odOOruL01s48"
   },
   "source": [
    "## Ejercicio\n",
    "\n",
    "Sea $v$ un arreglo que cumple:\n",
    "\n",
    "$$\n",
    "v \\in Z^{n}\n",
    "$$\n",
    "\n",
    "Al mismo tiempo:\n",
    "\n",
    "$$\n",
    "v_{i} \\in [0 , 9]\n",
    "$$\n",
    "\n",
    "Se le pide encontrar las parejas:\n",
    "\n",
    "$$\n",
    "(x_{p}, y_{p})\n",
    "$$\n",
    "\n",
    "De manera que:\n",
    "$$\n",
    "x_{p} \\in v \\\\\n",
    "y_{p} \\in v \\\\\n",
    "x_{p} * y_{p} \\equiv k^{2}\n",
    "$$\n",
    "\n",
    "Al encontrar una pareja se cumple:\n",
    "$$\n",
    "x_{p} = v_{i} \\\\\n",
    "y_{p} = v_{j} \\\\\n",
    "i \\ne j\n",
    "$$\n",
    "\n",
    "Observación:\n",
    "\n",
    "* El producto debe ser un cuadrado perfecto, `k` no es variable local, ni nada."
   ]
  },
  {
   "cell_type": "code",
   "execution_count": 1,
   "metadata": {
    "id": "5NygcsSc8Acc"
   },
   "outputs": [],
   "source": [
    "! rm *.asm\n",
    "! rm *.c\n",
    "! rm *.o\n",
    "! rm *.so"
   ]
  },
  {
   "cell_type": "markdown",
   "metadata": {
    "id": "3AOiAEzK2HNW"
   },
   "source": [
    "## Parte 1 - Implementación en Python\n",
    "\n",
    "1. Implementar una función en `Python` que resuelva lo solicitado en el enunciado.\n",
    "\n",
    "Nombre de la función: `py_cont_parej_cuad_perf`\n",
    "\n",
    "Argumentos:\n",
    "* `v`: Arreglo de `numpy`\n",
    "\n",
    "Resultados:\n",
    "* `q`: Cantidad de parejas\n",
    "* `x`: Elementos válidos de `x`\n",
    "* `y`: Elementos válidos de `y`"
   ]
  },
  {
   "cell_type": "code",
   "execution_count": 2,
   "metadata": {
    "id": "EfbV-rS8wea9"
   },
   "outputs": [],
   "source": [
    "import numpy as np\n",
    "import random\n",
    "\n",
    "def crear_arreglo(N):\n",
    "    #Función que nos permitirá crear un arreglo aleatorio de enteros entre 0 y 9\n",
    "    #Argumento de entrada: Tamaño (variable)\n",
    "    return np.asarray([random.randint(0, 9) for _ in range(N)], dtype=np.int32)\n",
    "\n",
    "\n",
    "#Función que recibe un arreglo de tamaño variable de enteros del 0 al 9 y cuenta parejas de factores en posiciones diferentes que forman cuadrados perfectos:\n",
    "def py_cont_parej_cuad_perf(v):\n",
    "    q = 0 #variable donde guardaremos la cantidad de parejas que cumplen, inicializada en 0\n",
    "    x = [] #lista vacía donde guardaremos los primeros elementos de las parejas que cumplen\n",
    "    y = [] #lista vacía donde guardaremos los segundos elementos de las parejas que cumplen\n",
    "    N1 = 0 #variable donde guardaremos el número de iteraciones del primer bucle, para evitar repetición por misma posición\n",
    "    for element in v:\n",
    "        N2 = 0 #variable donde guardaremos el número de iteraciones del segundo bucle, para evitar repetición por misma posición\n",
    "        N1 += 1 #actualizamos el contador de iteraciones del bucle externo\n",
    "        for element2 in v:\n",
    "            N2 += 1 #actualizamos el contador de iteraciones del bucle interno\n",
    "            if N2 != N1: #si es que no están en la misma posición\n",
    "                if (element*element2)**0.5 == int((element*element2)**0.5):\n",
    "                    #si es que cumple la condición de que sea cuadrado perfecto\n",
    "                    x.append(element)\n",
    "                    y.append(element2)\n",
    "                    q += 1\n",
    "    return q,x,y"
   ]
  },
  {
   "cell_type": "code",
   "execution_count": 3,
   "metadata": {
    "colab": {
     "base_uri": "https://localhost:8080/"
    },
    "id": "5ZYLatyQwea-",
    "outputId": "731ca953-0d2c-4d61-ac7e-5e40b628cabe"
   },
   "outputs": [
    {
     "name": "stdout",
     "output_type": "stream",
     "text": [
      "El arreglo creado es: [0 1 2 3 4 5 6 7 8 9]\n",
      "La cantidad de parejas que cumplen es: 26\n",
      "La lista con los primeros elementos de las parejas que cumplen es: [0, 0, 0, 0, 0, 0, 0, 0, 0, 1, 1, 1, 2, 2, 3, 4, 4, 4, 5, 6, 7, 8, 8, 9, 9, 9]\n",
      "La lista con los segundos elementos de las parejas que cumplen es: [1, 2, 3, 4, 5, 6, 7, 8, 9, 0, 4, 9, 0, 8, 0, 0, 1, 9, 0, 0, 0, 0, 2, 0, 1, 4]\n"
     ]
    }
   ],
   "source": [
    "#v_test=crear_arreglo(8)\n",
    "v_test = np.array([0,1,2,3,4,5,6,7,8,9], dtype=np.int32) #para testear únicamente, que no se repitan\n",
    "print(f\"El arreglo creado es: {v_test}\")\n",
    "q_test,x_test,y_test = py_cont_parej_cuad_perf(v_test)\n",
    "print(f\"La cantidad de parejas que cumplen es: {q_test}\")\n",
    "print(f\"La lista con los primeros elementos de las parejas que cumplen es: {x_test}\")\n",
    "print(f\"La lista con los segundos elementos de las parejas que cumplen es: {y_test}\")"
   ]
  },
  {
   "cell_type": "markdown",
   "metadata": {
    "id": "mYdjzJ2gwea-"
   },
   "source": [
    "Vemos que funciona correctamente nuestra función implementada en Python"
   ]
  },
  {
   "cell_type": "markdown",
   "metadata": {
    "id": "a-wD9rWy2Lhc"
   },
   "source": [
    "## Partes 2 y 3 - Implementación en C\n",
    "\n",
    "2. En una celda mágica hacer el archivo `cont_parej_cuad_perf.c`. Dentro de este archivo implementar la función que resuelva el enunciado.\n",
    "\n",
    "Nombre de la función: `cont_parej_cuad_perf`\n",
    "\n",
    "Argumentos:\n",
    "\n",
    "* `v`: Puntero\n",
    "* `tam`: Tamaño de `v`\n",
    "* `x`: Puntero (Modificado por referencia)\n",
    "* `y`: Puntero (Modificado por referencia)\n",
    "\n",
    "Resultado:\n",
    "\n",
    "* `q`: Cantidad de parejas"
   ]
  },
  {
   "cell_type": "code",
   "execution_count": 4,
   "metadata": {
    "colab": {
     "base_uri": "https://localhost:8080/"
    },
    "id": "v0UIjc-fwebA",
    "outputId": "32b1c851-bd3c-4ff1-d4d7-df61ee087d04"
   },
   "outputs": [
    {
     "name": "stdout",
     "output_type": "stream",
     "text": [
      "Writing cont_parej_cuad_perf.c\n"
     ]
    }
   ],
   "source": [
    "%%file cont_parej_cuad_perf.c\n",
    "\n",
    "#include <math.h>\n",
    "\n",
    "//Ahora implementaremos en C lo que previamente implementamos en Python:\n",
    "int cont_parej_cuad_perf(int *v, int tam, int *x, int *y){\n",
    "    int q = 0; //variable donde guardaremos la cantidad de parejas que cumplen, inicializada en 0\n",
    "    int N1 = 0; //variable donde guardaremos el número de iteraciones del primer bucle, para evitar repetición por misma posición\n",
    "    for (int i = 0; i < tam; i++){\n",
    "        int N2 = 0; //variable donde guardaremos el número de iteraciones del segundo bucle, para evitar repetición por misma posición\n",
    "        N1 += 1; //actualizamos el contador de iteraciones del bucle externo\n",
    "        for (int j = 0; j < tam; j++){\n",
    "            N2 += 1; //actualizamos el contador de iteraciones del bucle interno\n",
    "            if (N2 != N1){ //si es que no están en la misma posición\n",
    "                if (sqrt(v[i]*v[j]) == (int)sqrt(v[i]*v[j])){\n",
    "                    //si es que cumple la condición de que sea cuadrado perfecto\n",
    "                    x[q] = v[i];\n",
    "                    y[q] = v[j];\n",
    "                    q += 1;\n",
    "                }\n",
    "            }\n",
    "        }\n",
    "    return q; //retornamos la cantidad de parejas que cumplen\n",
    "    }\n",
    "}"
   ]
  },
  {
   "cell_type": "markdown",
   "metadata": {
    "id": "cPOzQtaF2dO_"
   },
   "source": [
    "3. Coloque los comandos para crear el *object file* y la *shared library* a partir del archivo `cont_parej_cuad_perf.c`"
   ]
  },
  {
   "cell_type": "markdown",
   "metadata": {
    "id": "29FVcvOKwebC"
   },
   "source": [
    "Creamos ahora el *object file* y la *shared library* a partir del archivo que habíamos generado:"
   ]
  },
  {
   "cell_type": "code",
   "execution_count": 5,
   "metadata": {
    "id": "KvzGRfiFwebD"
   },
   "outputs": [],
   "source": [
    "# para generar mi object file, usamos también -lm porque he usado la librería <math.h>\n",
    "! gcc -c cont_parej_cuad_perf.c -o cont_parej_cuad_perf.o -lm\n",
    "# para generar mi shared library\n",
    "! gcc -shared cont_parej_cuad_perf.o -o cont_parej_cuad_perf.so"
   ]
  },
  {
   "cell_type": "markdown",
   "metadata": {
    "id": "uekPuSSTwebD"
   },
   "source": [
    "# Partes 4 y 5 - Implementación en ASM x86"
   ]
  },
  {
   "cell_type": "markdown",
   "metadata": {
    "id": "_2tdFygUdi-8"
   },
   "source": [
    "* v - rdi\n",
    "* tam - rsi\n",
    "* x - rdx\n",
    "* y - rcx"
   ]
  },
  {
   "cell_type": "markdown",
   "metadata": {
    "id": "pwo0b71Z2juf"
   },
   "source": [
    "4. En una celda mágica hacer el archivo `cont_parej_cuad_perf.asm`. Dentro de este archivo implementar la función que resuelva el enunciado.\n",
    "\n",
    "Nombre de la función: `cont_parej_cuad_perf`\n",
    "\n",
    "Argumentos:\n",
    "\n",
    "* `v`: Puntero\n",
    "* `tam`: Tamaño de `v`\n",
    "* `x`: Puntero (Modificado por referencia)\n",
    "* `y`: Puntero (Modificado por referencia)\n",
    "\n",
    "Resultado:\n",
    "\n",
    "* `q`: Cantidad de parejas\n",
    "\n",
    "Observación: Coloque en un comentario que registro corresponde a cada argumento"
   ]
  },
  {
   "cell_type": "code",
   "execution_count": 6,
   "metadata": {
    "colab": {
     "base_uri": "https://localhost:8080/"
    },
    "id": "uzAZRdJ-webE",
    "outputId": "b0101801-e345-4b1d-e786-eb9dbe15b534"
   },
   "outputs": [
    {
     "name": "stdout",
     "output_type": "stream",
     "text": [
      "Writing cont_parej_cuad_perf.asm\n"
     ]
    }
   ],
   "source": [
    "%%file cont_parej_cuad_perf.asm\n",
    "\n",
    ";Implementaremos ahora en ASM x86 lo que previamente implementamos en C:\n",
    "global cont_parej_cuad_perf_asm\n",
    "section .text\n",
    "cont_parej_cuad_perf_asm:\n",
    "    ;sabemos que v estará en rdi, tam en rsi, x en rdx y y en rcx\n",
    "    ;usaremos cuando tengamos que asignar valores los respectivos registros de 32 bits menos significativos de los mencionados anteriormente\n",
    "    ;(esto pues se trata de enteros tipo int, es decir de 32 bits)\n",
    "    ;v -> edi\n",
    "    ;tam -> esi\n",
    "    ;x -> edx\n",
    "    ;y -> ecx\n",
    "    mov r8, 0 ;variable donde guardaremos la cantidad de parejas que cumplen, inicializada en 0\n",
    "    mov r9, 0 ;variable donde guardaremos el número de iteraciones del primer bucle, para evitar repetición por misma posición\n",
    "    mov r10, 0 ;variable donde guardaremos el número de iteraciones del segundo bucle, para evitar repetición por misma posición\n",
    "\n",
    "    bucle_externo:\n",
    "        mov r9, [rdi + 4*r8] ;actualizamos el contador de iteraciones del bucle externo\n",
    "        mov r10, 0 ;reiniciamos el contador de iteraciones del bucle interno\n",
    "        bucle_interno:\n",
    "            mov r10, [rdi + 4*r8] ;actualizamos el contador de iteraciones del bucle interno\n",
    "            cmp r10, r9 ;\n",
    "            je no_cumple\n",
    "            mov eax, [rdi + 4*r8] ;\n",
    "            imul eax, [rdi + 4*r10] ;, multiplicación con signo\n",
    "            cmp eax, 0 ;\n",
    "            jl no_cumple ;\n",
    "            mov eax, [rdi + 4*r8] ;\n",
    "            imul eax, [rdi + 4*r10] ;, multiplicación con signo\n",
    "            cmp eax, 0 ;\n",
    "            jg no_cumple ;\n",
    "            mov eax, [rdi + 4*r8] ;\n",
    "            imul eax, [rdi + 4*r10] ;, multiplicación con signo\n",
    "            cmp eax, 0 ;\n",
    "            je cumple ;\n",
    "            no_cumple:\n",
    "                inc r10 ;\n",
    "                cmp r10, rsi ;\n",
    "                jl bucle_interno ;\n",
    "                jmp fin_bucle_interno ;\n",
    "            cumple:\n",
    "                mov eax, [rdi + 4*r8] ;\n",
    "                mov [rdx + 4*r8], eax ;\n",
    "                mov eax, [rdi + 4*r10] ;\n",
    "                mov [rcx + 4*r8], eax ;\n",
    "                inc r8 ;\n",
    "                fin_bucle_interno:\n",
    "                    inc r10 \n",
    "                    cmp r10, rsi \n",
    "                    jl bucle_interno \n",
    "                    jmp fin_bucle_externo \n",
    "    fin_bucle_externo:\n",
    "        mov rax, r8\n",
    "        ret "
   ]
  },
  {
   "cell_type": "markdown",
   "metadata": {
    "id": "Y3LhRAU_20GE"
   },
   "source": [
    "5. Coloque los comandos para crear el *object file* y la *shared library* a partir del archivo `cont_parej_cuad_perf.asm`."
   ]
  },
  {
   "cell_type": "code",
   "execution_count": 7,
   "metadata": {
    "colab": {
     "base_uri": "https://localhost:8080/"
    },
    "id": "3pLWcyc5wpSe",
    "outputId": "dd1b4288-a2fd-4d47-c2fc-451918cf825f"
   },
   "outputs": [
    {
     "name": "stdout",
     "output_type": "stream",
     "text": [
      "Reading package lists... Done\n",
      "Building dependency tree       \n",
      "Reading state information... Done\n",
      "nasm is already the newest version (2.14.02-1).\n",
      "0 upgraded, 0 newly installed, 0 to remove and 24 not upgraded.\n"
     ]
    }
   ],
   "source": [
    "! apt install nasm -y"
   ]
  },
  {
   "cell_type": "code",
   "execution_count": 8,
   "metadata": {
    "id": "g8ZUoaLEwebF"
   },
   "outputs": [],
   "source": [
    "! nasm -f elf64 cont_parej_cuad_perf.asm -o cont_parej_cuad_perf.o\n",
    "! gcc -shared cont_parej_cuad_perf.o -o cont_parej_cuad_perf_asm.so"
   ]
  },
  {
   "cell_type": "markdown",
   "metadata": {
    "id": "9-cA2ZEywebF"
   },
   "source": [
    "## Partes 6 a 10 - Vinculación de Shared Libraries y creación de Instancias"
   ]
  },
  {
   "cell_type": "markdown",
   "metadata": {
    "id": "biWLKTPd3AbT"
   },
   "source": [
    "6. Haga una función que vincule las dos *shared libraries* creadas anteriormente con `Python` mediante `ctypes`.\n",
    "\n",
    "Nombre de la función: `ctypes_link`\n",
    "\n",
    "Argumentos: No tiene\n",
    "\n",
    "Resultados:\n",
    "* Función en `C` vinculada y configurada\n",
    "* Función en `ASM` vinculada y configurada\n"
   ]
  },
  {
   "cell_type": "code",
   "execution_count": 9,
   "metadata": {
    "id": "1oosDYuqwebG"
   },
   "outputs": [],
   "source": [
    "import ctypes"
   ]
  },
  {
   "cell_type": "code",
   "execution_count": 10,
   "metadata": {
    "id": "RcDLZXAawebG"
   },
   "outputs": [],
   "source": [
    "def ctypes_link():\n",
    "    #cargamos la shared library\n",
    "    lib_C = ctypes.CDLL('./cont_parej_cuad_perf.so')\n",
    "    lib_ASM = ctypes.CDLL('./cont_parej_cuad_perf_asm.so')\n",
    "\n",
    "    #definimos el tipo de dato de los argumentos\n",
    "    #Para la función en C:\n",
    "    lib_C.cont_parej_cuad_perf.argtypes = [\n",
    "        np.ctypeslib.ndpointer(dtype=np.int32),\n",
    "        ctypes.c_int,\n",
    "        np.ctypeslib.ndpointer(dtype=np.int32),\n",
    "        np.ctypeslib.ndpointer(dtype=np.int32),\n",
    "    ]\n",
    "    #Para la función en ASM:\n",
    "    lib_ASM.cont_parej_cuad_perf_asm.argtypes = [\n",
    "        np.ctypeslib.ndpointer(dtype=np.int32),\n",
    "        ctypes.c_int,\n",
    "        np.ctypeslib.ndpointer(dtype=np.int32),\n",
    "        np.ctypeslib.ndpointer(dtype=np.int32),\n",
    "    ]\n",
    "\n",
    "    #definimos el tipo de dato de la salida\n",
    "    #Para la función en C:\n",
    "    lib_C.cont_parej_cuad_perf.restype = ctypes.c_int\n",
    "    #Para la función en ASM:\n",
    "    lib_ASM.cont_parej_cuad_perf_asm.restype = ctypes.c_int\n",
    "\n",
    "    return lib_C.cont_parej_cuad_perf,lib_ASM.cont_parej_cuad_perf_asm"
   ]
  },
  {
   "cell_type": "markdown",
   "metadata": {
    "id": "9y9ECRkUwebG"
   },
   "source": [
    "Ahora procedemos a probar, usando python y Ctypes, esta función implementada en C:"
   ]
  },
  {
   "cell_type": "markdown",
   "metadata": {
    "id": "6_zWfA0q3FWI"
   },
   "source": [
    "7. Llame a la función `ctypes_link` y asigne los resultados a instancias para cada función. \n",
    "\n",
    "* Instancia de C: `c_cont_parej_cuad_perf_raw`\n",
    "* Instancia de ASM: `asm_cont_parej_cuad_perf_raw`"
   ]
  },
  {
   "cell_type": "code",
   "execution_count": 11,
   "metadata": {
    "id": "ZKSFEQWZwebH"
   },
   "outputs": [],
   "source": [
    "c_cont_parej_cuad_perf_raw,asm_cont_parej_cuad_perf_raw = ctypes_link()"
   ]
  },
  {
   "cell_type": "markdown",
   "metadata": {
    "id": "nzgtB_C93Nu7"
   },
   "source": [
    "8. Haga una función que envuelva la instancia de `C`.\n",
    "\n",
    "Nombre de la función: `c_cont_parej_cuad_perf`\n",
    "\n",
    "Argumentos:\n",
    "* `v`: Arreglo de `numpy`\n",
    "\n",
    "Resultados:\n",
    "* `q`: Cantidad de parejas\n",
    "* `x`: Elementos válidos de `x`\n",
    "* `y`: Elementos válidos de `y`"
   ]
  },
  {
   "cell_type": "code",
   "execution_count": 12,
   "metadata": {
    "id": "bUhfuUfjwebH"
   },
   "outputs": [],
   "source": [
    "def c_cont_parej_cuad_perf(v):\n",
    "    tam = len(v)\n",
    "    num_zeros = tam*(tam-1)//2 #siempre este va a ser el número de parejas que cumplirán la condición, división con floor para entero\n",
    "    x = np.zeros(num_zeros,dtype=np.int32)\n",
    "    y = np.zeros(num_zeros,dtype=np.int32)\n",
    "    q = c_cont_parej_cuad_perf_raw(v,tam,x,y)\n",
    "    return q,x,y"
   ]
  },
  {
   "cell_type": "markdown",
   "metadata": {
    "id": "Mo9euTS830lp"
   },
   "source": [
    "9. Haga una función que envuelva la instancia de `ASM`.\n",
    "\n",
    "Nombre de la función: `asm_cont_parej_cuad_perf`\n",
    "\n",
    "Argumentos:\n",
    "* `v`: Arreglo de `numpy`\n",
    "\n",
    "Resultados:\n",
    "* `q`: Cantidad de parejas\n",
    "* `x`: Elementos válidos de `x`\n",
    "* `y`: Elementos válidos de `y`"
   ]
  },
  {
   "cell_type": "code",
   "execution_count": 13,
   "metadata": {
    "id": "WO99KU6cwebI"
   },
   "outputs": [],
   "source": [
    "def asm_cont_parej_cuad_perf(v):\n",
    "    tam = len(v)\n",
    "    num_zeros = tam*(tam-1)//2 #siempre este va a ser el número de parejas que cumplirán la condición, división con floor para entero\n",
    "    x = np.zeros(num_zeros,dtype=np.int32)\n",
    "    y = np.zeros(num_zeros,dtype=np.int32)\n",
    "    q = asm_cont_parej_cuad_perf_raw(v,tam,x,y)\n",
    "    return q,x,y"
   ]
  },
  {
   "cell_type": "markdown",
   "metadata": {
    "id": "YPnW_bq54Cup"
   },
   "source": [
    "10. Presente los resultados de las funciones `py_cont_parej_cuad_perf`, `c_cont_parej_cuad_perf` y `asm_cont_parej_cuad_perf` para el arreglo `[1, 1, 1, 1]`."
   ]
  },
  {
   "cell_type": "code",
   "execution_count": 14,
   "metadata": {
    "colab": {
     "base_uri": "https://localhost:8080/"
    },
    "id": "mA733tcmwebI",
    "outputId": "d1cef0bb-9512-469e-8273-7613676e5e51"
   },
   "outputs": [
    {
     "name": "stdout",
     "output_type": "stream",
     "text": [
      "El arreglo creado para la prueba es: [1 1 1 1]\n",
      "Test con implementación en C: La cantidad de parejas que cumplen es: 3\n",
      "Test con implementación en C: La lista con los primeros elementos de las parejas que cumplen es: [1 1 1 0 0 0]\n",
      "Test con implementación en C: La lista con los segundos elementos de las parejas que cumplen es: [1 1 1 0 0 0]\n"
     ]
    }
   ],
   "source": [
    "arr = np.array([1,1,1,1],dtype=np.int32)\n",
    "print(f\"El arreglo creado para la prueba es: {arr}\")\n",
    "q_test_C,x_test_C,y_test_C = c_cont_parej_cuad_perf(arr)\n",
    "print(f\"Test con implementación en C: La cantidad de parejas que cumplen es: {q_test_C}\")\n",
    "print(f\"Test con implementación en C: La lista con los primeros elementos de las parejas que cumplen es: {x_test_C}\")\n",
    "print(f\"Test con implementación en C: La lista con los segundos elementos de las parejas que cumplen es: {y_test_C}\")"
   ]
  },
  {
   "cell_type": "code",
   "execution_count": 15,
   "metadata": {
    "colab": {
     "base_uri": "https://localhost:8080/"
    },
    "id": "oL9Z3hkJwebI",
    "outputId": "13f2cf2b-6e58-48ac-8fda-f9e733dfa5a8"
   },
   "outputs": [
    {
     "name": "stdout",
     "output_type": "stream",
     "text": [
      "El arreglo creado para la prueba es: [1 1 1 1]\n",
      "Test con implementación en C: La cantidad de parejas que cumplen es: 0\n",
      "Test con implementación en C: La lista con los primeros elementos de las parejas que cumplen es: [0 0 0 0 0 0]\n",
      "Test con implementación en C: La lista con los segundos elementos de las parejas que cumplen es: [0 0 0 0 0 0]\n"
     ]
    }
   ],
   "source": [
    "print(f\"El arreglo creado para la prueba es: {arr}\")\n",
    "q_test_asm,x_test_asm,y_test_asm = asm_cont_parej_cuad_perf(arr)\n",
    "print(f\"Test con implementación en C: La cantidad de parejas que cumplen es: {q_test_asm}\")\n",
    "print(f\"Test con implementación en C: La lista con los primeros elementos de las parejas que cumplen es: {x_test_asm}\")\n",
    "print(f\"Test con implementación en C: La lista con los segundos elementos de las parejas que cumplen es: {y_test_asm}\")"
   ]
  },
  {
   "cell_type": "markdown",
   "metadata": {
    "id": "nIhI36AOwebJ"
   },
   "source": [
    "## Partes 11 a 14 - Gráficas de Tiempo de Ejecución y de Speedup"
   ]
  },
  {
   "cell_type": "markdown",
   "metadata": {
    "id": "gMYVYarP4ZXn"
   },
   "source": [
    "11. Realizar mediciones de tiempo de sus funciones para los tamaños `[32, 64, 128, 256, 512, 1024]`. Por cada tamaño realizar 50 mediciones, y luego encontrar la mediana de las mediciones."
   ]
  },
  {
   "cell_type": "code",
   "execution_count": 16,
   "metadata": {
    "id": "KqWLpilpwebJ"
   },
   "outputs": [],
   "source": [
    "import statistics\n",
    "\n",
    "def filtro_mediana(sign, ventana):\n",
    "    #Filtro mediana para calcular la mediana de un arreglo\n",
    "    signc = []\n",
    "    tam = len(sign)\n",
    "    offs = int((ventana-1)/2)\n",
    "    for i in range(tam):\n",
    "        inicio = i - offs if (i - offs > 0) else i\n",
    "        fin = i + offs if (i + offs < tam) else tam\n",
    "        signc.append(statistics.median(sign[inicio:fin]))\n",
    "    return signc"
   ]
  },
  {
   "cell_type": "code",
   "execution_count": 17,
   "metadata": {
    "id": "Kys3D_2PwebJ"
   },
   "outputs": [],
   "source": [
    "import time\n",
    "#Cantidad de mediciones:\n",
    "mediciones = 50\n",
    "\n",
    "#Tamaños de los arreglos\n",
    "Ns = [32, 64, 128, 256, 512, 1024]\n",
    "\n",
    "# Lista que contendrá los tiempos de la implementación en Python\n",
    "tpy = []\n",
    "\n",
    "# Lista que contendrá los tiempos de la implementación en C\n",
    "tc = []\n",
    "\n",
    "# Lista que contendrá los tiempos de la implementación en ASM\n",
    "tasm = []"
   ]
  },
  {
   "cell_type": "code",
   "execution_count": 18,
   "metadata": {
    "colab": {
     "base_uri": "https://localhost:8080/"
    },
    "id": "_q6MtKWVwebJ",
    "outputId": "630d3961-3b3f-4803-c582-2c0bddb1dc6d"
   },
   "outputs": [
    {
     "name": "stdout",
     "output_type": "stream",
     "text": [
      "Tamaño de arreglo actual: 32\n",
      "Tamaño de arreglo actual: 64\n",
      "Tamaño de arreglo actual: 128\n",
      "Tamaño de arreglo actual: 256\n",
      "Tamaño de arreglo actual: 512\n",
      "Tamaño de arreglo actual: 1024\n"
     ]
    }
   ],
   "source": [
    "#Iteramos Respecto a todos los tamaños de arreglos:\n",
    "for N in Ns:\n",
    "    tpyi = []\n",
    "    tci = []\n",
    "    tasmi = []\n",
    "    print(f\"Tamaño de arreglo actual: {N}\")\n",
    "\n",
    "    for j in range(mediciones):\n",
    "        # arreglo de entrada\n",
    "        arr = crear_arreglo(N)\n",
    "        \n",
    "        # tiempo PY\n",
    "        t = time.perf_counter()\n",
    "        py_cont_parej_cuad_perf(arr)\n",
    "        tpyi.append(time.perf_counter() - t)\n",
    "        \n",
    "        # tiempo C\n",
    "        t = time.perf_counter()\n",
    "        c_cont_parej_cuad_perf(arr)\n",
    "        tci.append(time.perf_counter() - t)        \n",
    "\n",
    "        # tiempo ASM\n",
    "        #t = time.perf_counter()\n",
    "        #asm_cont_parej_cuad_perf(arr)\n",
    "        #tasmi.append(time.perf_counter() - t) \n",
    "        \n",
    "    tpy.append(statistics.median(filtro_mediana(tpyi, 3)))\n",
    "    tc.append(statistics.median(filtro_mediana(tci, 3)))\n",
    "    #tasm.append(statistics.median(filtro_mediana(tasmi, 3)))"
   ]
  },
  {
   "cell_type": "markdown",
   "metadata": {
    "id": "xBq4H2_z4hgQ"
   },
   "source": [
    "12. Presentar una gráfica de tiempo de ejecución para cada tamaño con los mediciones realizadas a las funciones `py_cont_parej_cuad_perf`, `c_cont_parej_cuad_perf` y `asm_cont_parej_cuad_perf`."
   ]
  },
  {
   "cell_type": "code",
   "execution_count": 19,
   "metadata": {
    "colab": {
     "base_uri": "https://localhost:8080/",
     "height": 487
    },
    "id": "CAQ9tVwKwebK",
    "outputId": "15a828e8-7a7a-4b99-80b7-29b58d2fb3ef"
   },
   "outputs": [
    {
     "data": {
      "image/png": "[encoded data removed]",
      "text/plain": [
       "<Figure size 640x480 with 1 Axes>"
      ]
     },
     "metadata": {},
     "output_type": "display_data"
    }
   ],
   "source": [
    "import matplotlib.pyplot as plt\n",
    "\n",
    "plt.plot(Ns, tpy, 'r-o', label='tiempo PY')\n",
    "plt.plot(Ns, tc, 'g-o', label='tiempo C')\n",
    "#plt.plot(Ns, tasm, 'y-o', label='tiempo ASM')\n",
    "plt.title('tiempo vs tamaño')\n",
    "plt.xlabel('tamaño')\n",
    "plt.ylabel('tiempo')\n",
    "plt.legend()\n",
    "plt.tight_layout()"
   ]
  },
  {
   "cell_type": "markdown",
   "metadata": {
    "id": "VKrsrZt64u6R"
   },
   "source": [
    "13. Presentar una gráfica de tiempo de ejecución para cada tamaño con los mediciones realizadas a las funciones `c_cont_parej_cuad_perf` y `asm_cont_parej_cuad_perf`."
   ]
  },
  {
   "cell_type": "code",
   "execution_count": 20,
   "metadata": {
    "colab": {
     "base_uri": "https://localhost:8080/",
     "height": 487
    },
    "id": "2f6VTLp5webK",
    "outputId": "40b7a599-fcfc-4dd6-ab35-4d96eb12ac4f"
   },
   "outputs": [
    {
     "data": {
      "image/png": "[encoded data removed]",
      "text/plain": [
       "<Figure size 640x480 with 1 Axes>"
      ]
     },
     "metadata": {},
     "output_type": "display_data"
    }
   ],
   "source": [
    "plt.plot(Ns, tc, 'g-o', label='tiempo C')\n",
    "#plt.plot(Ns, tasm, 'y-o', label='tiempo ASM')\n",
    "plt.title('tiempo vs tamaño')\n",
    "plt.xlabel('tamaño')\n",
    "plt.ylabel('tiempo')\n",
    "plt.legend()\n",
    "plt.tight_layout()"
   ]
  },
  {
   "cell_type": "markdown",
   "metadata": {
    "id": "OXA0zwWb43B0"
   },
   "source": [
    "14. Presentar una gráfica de speedup para cada tamaño a partir de las mediciones realizadas a las funciones. Considere la función `py_cont_parej_cuad_perf` como referencia."
   ]
  },
  {
   "cell_type": "code",
   "execution_count": 21,
   "metadata": {
    "colab": {
     "base_uri": "https://localhost:8080/",
     "height": 487
    },
    "id": "A_m7Ju1mwebK",
    "outputId": "ca53e485-bf44-4224-d73d-1b00a34cfd72"
   },
   "outputs": [
    {
     "data": {
      "image/png": "[encoded data removed]",
      "text/plain": [
       "<Figure size 640x480 with 1 Axes>"
      ]
     },
     "metadata": {},
     "output_type": "display_data"
    }
   ],
   "source": [
    "plt.plot(Ns, np.asarray(tpy)/np.asarray(tc), 'g-o', label='SpeedUp C' )\n",
    "#plt.plot(Ns, np.asarray(tpy)/np.asarray(tasm), 'y-o', label='SpeedUp ASM' )\n",
    "plt.title('SpeedUp vs tamaño')\n",
    "plt.xlabel('tamaño')\n",
    "plt.ylabel('SpeedUp')\n",
    "plt.legend()\n",
    "plt.tight_layout()"
   ]
  },
  {
   "cell_type": "markdown",
   "metadata": {
    "id": "MkuVU42G6mE_"
   },
   "source": [
    "## Distribución de puntaje"
   ]
  },
  {
   "cell_type": "markdown",
   "metadata": {
    "id": "_H5IrV5nwebL"
   },
   "source": [
    "| ítem | puntos |\n",
    "|:----:|:------:|\n",
    "|   1  |   2.0  |\n",
    "|   2  |   3.0  |\n",
    "|   3  |   0.5  |\n",
    "|   4  |   5.0  |\n",
    "|   5  |   0.5  |\n",
    "|   6  |   2.0  |\n",
    "|   7  |   0.5  |\n",
    "|   8  |   0.5  |\n",
    "|   9  |   0.5  |\n",
    "|  10  |   1.0  |\n",
    "|  11  |   3.0  |\n",
    "|  12  |   0.5  |\n",
    "|  13  |   0.5  |\n",
    "|  14  |   0.5  |"
   ]
  }
 ],
 "metadata": {
  "colab": {
   "provenance": []
  },
  "kernelspec": {
   "display_name": "Python 3 (ipykernel)",
   "language": "python",
   "name": "python3"
  },
  "language_info": {
   "codemirror_mode": {
    "name": "ipython",
    "version": 3
   },
   "file_extension": ".py",
   "mimetype": "text/x-python",
   "name": "python",
   "nbconvert_exporter": "python",
   "pygments_lexer": "ipython3",
   "version": "3.10.11"
  }
 },
 "nbformat": 4,
 "nbformat_minor": 4
}
