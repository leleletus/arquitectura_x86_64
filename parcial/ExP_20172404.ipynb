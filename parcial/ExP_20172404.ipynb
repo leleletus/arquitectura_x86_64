{
 "cells": [
  {
   "attachments": {},
   "cell_type": "markdown",
   "metadata": {},
   "source": [
    "Diego Vera 20172404"
   ]
  },
  {
   "cell_type": "markdown",
   "metadata": {},
   "source": [
    "Dado el arreglo L, se le pide encontrar y contar cuántos números son multiplos y divisores de un número N.\n",
    "\n",
    "Por ejemplo:\n",
    "\n",
    "L = [4, 10, 8, 35.3, 19, -5, 2, 32]\n",
    "\n",
    "N = 4\n",
    "\n",
    "arreglo_output = [1, 0, 1, 0, 0, 0, 1, 1]\n",
    "\n",
    "cantidad = 4"
   ]
  },
  {
   "attachments": {},
   "cell_type": "markdown",
   "metadata": {},
   "source": [
    "# a) (1.0 punto) Codificar la función en Python"
   ]
  },
  {
   "cell_type": "code",
   "execution_count": 5,
   "metadata": {},
   "outputs": [
    {
     "name": "stdout",
     "output_type": "stream",
     "text": [
      "arreglo_output = [1, 0, 1, 0, 0, 0, 1, 1]\n",
      "cantidad = 4\n"
     ]
    }
   ],
   "source": [
    "# Colocar librerías de python\n",
    "import numpy as np\n",
    "\n",
    "# Colocar sus argumentos de entrada y retorno\n",
    "def funcion_python(L,N): #l es un arreglo y el numero al cual le hayaremos sus div y mul\n",
    "    cantidad=0 #cuantos son multiplos y/divisores\n",
    "    salida = np.array([]) #mi arreglo vacio\n",
    "    tam=len(L) #calculo su  tamaño\n",
    "\n",
    "    for i in range (tam): #desde 0 hasta ese valor\n",
    "        if L[i] % (N) == 0  or  (N) % L[i] == 0: #compruebo si es multiplo o divisor\n",
    "            cantidad+=1 #aumento su cantidad\n",
    "            salida=np.append(salida,1)        \n",
    "        else:\n",
    "            salida=np.append(salida,0)\n",
    "        \n",
    "\n",
    "    return (salida,cantidad)\n",
    "\n",
    "\n",
    "\n",
    "#probando el codigo:\n",
    "L = [4, 10, 8, 35.3, 19, -5, 2, 32]\n",
    "L1=[2,5,4,5,5,8,32]\n",
    "N=4\n",
    "arreglo_output,cantidad=funcion_python(L,N)\n",
    "print(f\"arreglo_output = {arreglo_output.astype(int).tolist()}\") #para verlo sin punto decimal astyé\n",
    "#para verlo con comas deseparacion tolist\n",
    "print(f\"cantidad = {cantidad}\")"
   ]
  },
  {
   "attachments": {},
   "cell_type": "markdown",
   "metadata": {},
   "source": [
    "# b) (2.0 puntos) Codificar la función en C"
   ]
  },
  {
   "cell_type": "code",
   "execution_count": 17,
   "metadata": {},
   "outputs": [
    {
     "name": "stdout",
     "output_type": "stream",
     "text": [
      "Overwriting libreria.c\n"
     ]
    }
   ],
   "source": []
  },
  {
   "attachments": {},
   "cell_type": "markdown",
   "metadata": {},
   "source": [
    "# c) (3.0 puntos) Codificar la función en ASM"
   ]
  },
  {
   "cell_type": "code",
   "execution_count": null,
   "metadata": {},
   "outputs": [],
   "source": []
  },
  {
   "attachments": {},
   "cell_type": "markdown",
   "metadata": {},
   "source": [
    "# d) (1.0 puntos) Llenar lo requerido por los espacios correspondientes "
   ]
  },
  {
   "cell_type": "code",
   "execution_count": null,
   "metadata": {},
   "outputs": [],
   "source": []
  },
  {
   "attachments": {},
   "cell_type": "markdown",
   "metadata": {},
   "source": [
    "# e) (1.0 puntos) Análisis temporal: En 50 iteraciones generar una gráfica en donde se vea el tiempo de ejecución para un N = 1024. Crear una celda de texto y comentar acerca de la gráfica."
   ]
  },
  {
   "cell_type": "code",
   "execution_count": null,
   "metadata": {},
   "outputs": [],
   "source": []
  },
  {
   "attachments": {},
   "cell_type": "markdown",
   "metadata": {},
   "source": [
    " # f)(2.0 puntos) Hallar el tiempo de ejecución y SpeedUP para un tamaño de arreglo de N = 512, 1024, 2048 y 4096. Crear una celda de texto y comentar acerca de sus resultados."
   ]
  },
  {
   "cell_type": "code",
   "execution_count": null,
   "metadata": {},
   "outputs": [],
   "source": []
  }
 ],
 "metadata": {
  "kernelspec": {
   "display_name": "Python 3",
   "language": "python",
   "name": "python3"
  },
  "language_info": {
   "codemirror_mode": {
    "name": "ipython",
    "version": 3
   },
   "file_extension": ".py",
   "mimetype": "text/x-python",
   "name": "python",
   "nbconvert_exporter": "python",
   "pygments_lexer": "ipython3",
   "version": "3.10.6"
  },
  "orig_nbformat": 4
 },
 "nbformat": 4,
 "nbformat_minor": 2
}
