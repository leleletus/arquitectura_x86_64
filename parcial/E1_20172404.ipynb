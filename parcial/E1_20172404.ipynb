{
  "cells": [
    {
      "attachments": {},
      "cell_type": "markdown",
      "metadata": {
        "id": "j05io74u5vwX"
      },
      "source": [
        "# Parte práctica (10 puntos)\n",
        "# Guardar su archivo como E1_codigoPUCP.ipynb (codigoPUCP representa su código PUCP, por favor, no llame el archivo literalmente E1_codigoPUCP.ipynb)\n",
        "\n",
        "Dado el arreglo L, se le pide encontrar y contar cuántos números son multiplos y divisores de un número N.\n",
        "\n",
        "Por ejemplo:\n",
        "\n",
        "L = [4, 10, 8, 35.3, 19, -5, 2, 32]\n",
        "\n",
        "N = 4\n",
        "\n",
        "arreglo_output = [1, 0, 1, 0, 0, 0, 1, 1]\n",
        "\n",
        "cantidad = 4\n"
      ]
    },
    {
      "attachments": {},
      "cell_type": "markdown",
      "metadata": {
        "id": "xbCJiYVu-Ral"
      },
      "source": [
        "a) (1.0 punto) Codificar la función en Python"
      ]
    },
    {
      "cell_type": "code",
      "execution_count": 30,
      "metadata": {
        "id": "uPrp3y9R59UV"
      },
      "outputs": [
        {
          "name": "stdout",
          "output_type": "stream",
          "text": [
            "arreglo_output = [1, 0, 1, 0, 0, 0, 1, 1]\n",
            "cantidad = 4\n"
          ]
        }
      ],
      "source": [
        "# Colocar librerías de python\n",
        "import numpy as np\n",
        "\n",
        "# Colocar sus argumentos de entrada y retorno\n",
        "def funcion_python(L,N): #l es un arreglo y el numero al cual le hayaremos sus div y mul\n",
        "    cantidad=0 #cuantos son multiplos y/divisores\n",
        "    salida = np.array([]) #mi arreglo vacio\n",
        "    tam=len(L) #calculo su  tamaño\n",
        "\n",
        "    for i in range (tam): #desde 0 hasta ese valor\n",
        "        if L[i] % (N) == 0  or  (N) % L[i] == 0: #compruebo si es multiplo o divisor\n",
        "            cantidad+=1 #aumento su cantidad\n",
        "            salida=np.append(salida,1)        \n",
        "        else:\n",
        "            salida=np.append(salida,0)\n",
        "        \n",
        "\n",
        "    return (salida,cantidad)\n",
        "\n",
        "\n",
        "\n",
        "#probando el codigo:\n",
        "L = [4, 10, 8, 35.3, 19, -5, 2, 32]\n",
        "L1=[2,5,4,5,5,8,32]\n",
        "N=4\n",
        "arreglo_output,cantidad=funcion_python(L,N)\n",
        "print(f\"arreglo_output = {arreglo_output.astype(int).tolist()}\") #para verlo sin punto decimal astyé\n",
        "#para verlo con comas deseparacion tolist\n",
        "print(f\"cantidad = {cantidad}\")"
      ]
    },
    {
      "attachments": {},
      "cell_type": "markdown",
      "metadata": {
        "id": "am_s_u9C-Yd8"
      },
      "source": [
        "b) (2.0 puntos) Codificar la función en C\n",
        "\n",
        "c) (3.0 puntos) Codificar la función en ASM\n",
        "\n",
        "Nota: Debe realizar el llamado de ASM desde el programa en C"
      ]
    },
    {
      "cell_type": "code",
      "execution_count": 31,
      "metadata": {
        "id": "KHhzWpS4-dds"
      },
      "outputs": [
        {
          "name": "stdout",
          "output_type": "stream",
          "text": [
            "Writing solo_c.c\n"
          ]
        }
      ],
      "source": [
        "%%file solo_c.c\n",
        "\n",
        "#include <stdio.h>\n",
        "#include <stdlib.h>\n",
        "\n",
        "//L(entrada) arreglo de numeros a comparar\n",
        "//N (entrada) el numero a analizar\n",
        "//tam (entrada) cuantos numeros hay en el arreglo n\n",
        "//arreglo_output(salida) vector que sale\n",
        "//cantidad (salida) un entero de los numeros que salen\n",
        "void funcion_c(int *L, int tam, int N, int *arreglo_output, int *cantidad) {\n",
        "    *cantidad = 0; // inicializamos en 0\n",
        "    for (int i = 0; i < tam; i++) { //iteramos en toda la extencion del arreglo\n",
        "        if (L[i] % N == 0) { //pregunto si el numero en el arreglo es divisible (modulo 0)\n",
        "            (*cantidad)++; \n",
        "            arreglo_output[i] = 1;\n",
        "        } else if (N % L[i] == 0) {//pregunto si el numero es divisiple por uno de l\n",
        "            (*cantidad)++;\n",
        "            arreglo_output[i] = 1;\n",
        "        } else { //en caso que no cumpla ninguno anterior\n",
        "            arreglo_output[i] = 0; \n",
        "        }\n",
        "    }\n",
        "}\n",
        "\n",
        "void main() {\n",
        "    int L[] = {4, 10, 8, 35, 19, -5, 2, 32}; //arreglo de prueba\n",
        "    int N = 4; //numero a evaluar sus div y mul\n",
        "    int tam = sizeof(L) / sizeof(L[0]);\n",
        "    int arreglo_output[tam]; // tendra el mismo tamaño que el de entrada\n",
        "    int cantidad; //para saber la cantidad\n",
        "\n",
        "\n",
        "    printf(\"Utilizando la funcion en c:\\n\");\n",
        "    funcion_c(L, tam, N, arreglo_output, &cantidad); //llamamos a la funcion\n",
        "    printf(\"arreglo_output = [\"); //imprimimos el output\n",
        "    for (int i = 0; i < tam; i++) {\n",
        "        printf(\"%d\", arreglo_output[i]);\n",
        "        if (i < tam - 1) {\n",
        "            printf(\", \");\n",
        "        }\n",
        "    }\n",
        "    printf(\"]\\n\");\n",
        "    printf(\"cantidad = %d\\n\", cantidad); //imprimimos cantidad\n",
        "\n",
        "\n",
        "}"
      ]
    },
    {
      "cell_type": "code",
      "execution_count": 32,
      "metadata": {},
      "outputs": [
        {
          "name": "stdout",
          "output_type": "stream",
          "text": [
            "Utilizando la funcion en c:\n",
            "arreglo_output = [1, 0, 1, 0, 0, 0, 1, 1]\n",
            "cantidad = 4\n"
          ]
        }
      ],
      "source": [
        "! gcc -o solo_c solo_c.c && ./solo_c"
      ]
    },
    {
      "cell_type": "code",
      "execution_count": 37,
      "metadata": {},
      "outputs": [
        {
          "name": "stdout",
          "output_type": "stream",
          "text": [
            "Overwriting funcion_asm.asm\n"
          ]
        }
      ],
      "source": [
        "%%file funcion_asm.asm\n",
        "\n",
        "; SEGMENTO DE DATOS\n",
        ";como usaremos como funcion externa no sera necesario\n",
        "\n",
        "; SEGMENTO BSS (Block Started by Symbol)\n",
        ";reserva espacio para un valor no inicializado\n",
        "\n",
        "; SEGMENTO DE TEXTO\n",
        "section .text\n",
        "\tglobal _start   ; hace el _start visible al linkeador\n",
        "\n",
        "_start: ;definimos la etiqueta start como se establecio en .text la global\n",
        "\n",
        "    push ebp ; guarda el valor del puntero de la pila\n",
        "    mov ebp, esp ; mueve el puntero de la pila al marco de la pila actual\n",
        "    push ebx ; guarda el valor de ebx\n",
        "    push esi ; guarda el valor de esi\n",
        "    push edi ; guarda el valor de edi\n",
        "    mov eax, [ebp+8] ; mueve el primer argumento (L) a eax\n",
        "    mov ecx, [ebp+12] ; mueve el segundo argumento (tam) a ecx\n",
        "    xor edx, edx ; inicializa edx en 0\n",
        "    mov [ebp+20], edx ; inicializa cantidad en 0\n",
        "    xor ebx, ebx ; inicializa ebx en 0 (contador del bucle)\n",
        ".loop:\n",
        "    cmp ebx, ecx ; compara el contador con tam\n",
        "    jge .endloop ; si el contador es mayor o igual a tam, salta al final del bucle\n",
        "    mov edx, [eax+ebx*4] ; mueve L[i] a edx\n",
        "    xor edi, edi ; inicializa edi en 0\n",
        "    div dword [ebp+16] ; divide L[i] por N y guarda el resto en edi\n",
        "    cmp edi, 0 ; compara el resto con 0\n",
        "    jne .nodivisible ; si el resto no es 0, salta a .nodivisible\n",
        "    inc dword [ebp+20] ; incrementa cantidad en 1\n",
        "    mov eax, [ebp+24] ; mueve arreglo_output a eax\n",
        "    mov dword [eax+ebx*4], 1 ; establece arreglo_output[i] en 1\n",
        "    jmp .next ; salta a .next\n",
        ".nodivisible:\n",
        "    mov eax, [ebp+16] ; mueve N a eax\n",
        "    xor edx, edx ; inicializa edx en 0\n",
        "    div dword [eax+ebx*4] ; divide N por L[i] y guarda el resto en edx\n",
        "    cmp edx, 0 ; compara el resto con 0\n",
        "    jne .nomultiplo ; si el resto no es 0, salta a .nomultiplo\n",
        "    inc dword [ebp+20] ; incrementa cantidad en 1\n",
        "    mov eax, [ebp+24] ; mueve arreglo_output a eax\n",
        "    mov dword [eax+ebx*4], 1; establece arreglo_output[i] en 1\n",
        "    jmp .next; salta a .next\n",
        ".nomultiplo:\n",
        "    mov eax, [ebp+24]; mueve arreglo_output a eax\n",
        "    mov dword [eax+ebx*4], 0; establece arreglo_output[i] en 0 \n",
        ".next:\n",
        "    inc ebx; incrementa el contador del bucle en 1 \n",
        "    mov eax, [ebp+8]; mueve L a eax \n",
        "    jmp .loop; salta al inicio del bucle \n",
        ".endloop:\n",
        "    pop edi; restaura el valor de edi \n",
        "    pop esi; restaura el valor de esi \n",
        "    pop ebx; restaura el valor de ebx \n",
        "    pop ebp; restaura el valor de ebp \n",
        "    ret; devuelve el control al código que llamó a la función\n"
      ]
    },
    {
      "cell_type": "code",
      "execution_count": 38,
      "metadata": {},
      "outputs": [
        {
          "name": "stdout",
          "output_type": "stream",
          "text": [
            "funcion_asm.asm:14: error: instruction not supported in 64-bit mode\n",
            "funcion_asm.asm:16: error: instruction not supported in 64-bit mode\n",
            "funcion_asm.asm:17: error: instruction not supported in 64-bit mode\n",
            "funcion_asm.asm:18: error: instruction not supported in 64-bit mode\n",
            "funcion_asm.asm:54: error: instruction not supported in 64-bit mode\n",
            "funcion_asm.asm:55: error: instruction not supported in 64-bit mode\n",
            "funcion_asm.asm:56: error: instruction not supported in 64-bit mode\n",
            "funcion_asm.asm:57: error: instruction not supported in 64-bit mode\n",
            "ld: cannot find funcion_asm.o: No such file or directory\n",
            "/bin/bash: line 1: ./funcion_asm: No such file or directory\n"
          ]
        }
      ],
      "source": [
        "#creo el objet file (compilo)\n",
        "#-g para mas info de depuracion\n",
        "! nasm -f elf64 -g funcion_asm.asm -o funcion_asm.o \n",
        "\n",
        "# enlazo (creo archivo ejecutable),\n",
        "! ld funcion_asm.o -o funcion_asm \n",
        "\n",
        "\n",
        "#solo sirve si tienes algun output por terminal, si no usar la depuracion con el gdb\n",
        "# ejecuto\n",
        "! ./funcion_asm"
      ]
    },
    {
      "cell_type": "code",
      "execution_count": null,
      "metadata": {},
      "outputs": [],
      "source": [
        "#para depurarlo\n",
        "\n",
        "#! gdb solo_asm\n",
        "\n",
        "#una vez dentro usar:\n",
        "#dentrooo del gdb:\n",
        "#set disassembly-flavor intel    \n",
        "#break     (name del apodo) ejemplo _start\n",
        "\n",
        "#info break           para borrar un breakpoint \n",
        "#delete 2 3\n",
        "\n",
        "#  c     para continuar corriendo hasta el proximo breakpoint\n",
        "\n",
        "#run \n",
        "#disassemble    (para ver en donde está)\n",
        "\n",
        "#ni                       ára avanzar una instruccion\n",
        "#disassemble\n",
        "\n",
        "#info r rax            para ver info de un registro\n"
      ]
    },
    {
      "cell_type": "code",
      "execution_count": null,
      "metadata": {},
      "outputs": [],
      "source": [
        "%%file solo_asm.c\n",
        "//Completar con los prototipos adecuadamente\n",
        "\n",
        "\n",
        "#include <stdio.h>\n",
        "#include <stdlib.h>\n",
        "\n",
        "//L(entrada) arreglo de numeros a comparar\n",
        "//N (entrada) el numero a analizar\n",
        "//tam (entrada) cuantos numeros hay en el arreglo n\n",
        "//arreglo_output(salida) vector que sale\n",
        "//cantidad (salida) un entero de los numeros que salen\n",
        "extern void funcion_asm(int *L, int tam, int N, int *arreglo_output, int *cantidad);\n",
        "\n",
        "\n",
        "void main() {\n",
        "    int L[] = {4, 10, 8, 35, 19, -5, 2, 32}; //arreglo de prueba\n",
        "    int N = 4; //numero a evaluar sus div y mul\n",
        "    int tam = sizeof(L) / sizeof(L[0]);\n",
        "    int arreglo_output[tam]; // tendra el mismo tamaño que el de entrada\n",
        "    int cantidad; //para saber la cantidad\n",
        "\n",
        "\n",
        "    printf(\"\\nUtilizando la funcion en asm:\");\n",
        "    funcion_asm((L, tam, N, arreglo_output, &cantidad); //llamamos a la funcion\n",
        "    printf(\"arreglo_output = [\"); //imprimimos el output\n",
        "    for (int i = 0; i < tam; i++) {\n",
        "        printf(\"%d\", arreglo_output[i]);\n",
        "        if (i < tam - 1) {\n",
        "            printf(\", \");\n",
        "        }\n",
        "    }\n",
        "    printf(\"]\\n\");\n",
        "    printf(\"cantidad = %d\\n\", cantidad); //imprimimos cantidad\n",
        "\n",
        "\n",
        "}"
      ]
    },
    {
      "cell_type": "code",
      "execution_count": 35,
      "metadata": {},
      "outputs": [
        {
          "name": "stdout",
          "output_type": "stream",
          "text": [
            "\u001b[01m\u001b[Kcc1:\u001b[m\u001b[K \u001b[01;31m\u001b[Kfatal error: \u001b[m\u001b[Ksolo_asm.c: No such file or directory\n",
            "compilation terminated.\n"
          ]
        }
      ],
      "source": [
        "#primero compilamos y creamos nuestro object file del asm\n",
        "! nasm -f elf64 -g funcion_asm.asm -o funcion_asm.o\n",
        "\n",
        "#compilamos nuestro codigo en c enlazando el object file de assembly para poder usar la funcion externa\n",
        "! gcc solo_asm.c funcion_asm.o -o solo_asm\n",
        "\n",
        "#ejecutando y  probando la funcion en c y la funcion en asm mediante el main c\n",
        "./solo_asm"
      ]
    },
    {
      "cell_type": "code",
      "execution_count": null,
      "metadata": {},
      "outputs": [],
      "source": [
        "%%file libreria.c\n",
        "\n",
        "#include <stdio.h>\n",
        "#include <stdlib.h>\n",
        "\n",
        "\n",
        "//L(entrada) arreglo de numeros a comparar\n",
        "//N (entrada) el numero a analizar\n",
        "//tam (entrada) cuantos numeros hay en el arreglo n\n",
        "//arreglo_output(salida) vector que sale\n",
        "//cantidad (salida) un entero de los numeros que salen\n",
        "\n",
        "extern void funcion_asm(int *L, int tam, int N, int *arreglo_output, int *cantidad);\n",
        "\n",
        "void funcion_c(int *L, int tam, int N, int *arreglo_output, int *cantidad) {\n",
        "    *cantidad = 0; // inicializamos en 0\n",
        "    for (int i = 0; i < tam; i++) { //iteramos en toda la extencion del arreglo\n",
        "        if (L[i] % N == 0) { //pregunto si el numero en el arreglo es divisible (modulo 0)\n",
        "            (*cantidad)++; \n",
        "            arreglo_output[i] = 1;\n",
        "        } else if (N % L[i] == 0) {//pregunto si el numero es divisiple por uno de l\n",
        "            (*cantidad)++;\n",
        "            arreglo_output[i] = 1;\n",
        "        } else { //en caso que no cumpla ninguno anterior\n",
        "            arreglo_output[i] = 0; \n",
        "        }\n",
        "    }\n",
        "}\n",
        "\n",
        "void main() {\n",
        "    int L[] = {4, 10, 8, 35, 19, -5, 2, 32}; //arreglo de prueba\n",
        "    int N = 4; //numero a evaluar sus div y mul\n",
        "    int tam = sizeof(L) / sizeof(L[0]);\n",
        "    int arreglo_output[tam]; // tendra el mismo tamaño que el de entrada\n",
        "    int cantidad; //para saber la cantidad\n",
        "\n",
        "\n",
        "    printf(\"\\nutilizando la funcion en c:\");\n",
        "    funcion_c(L, tam, N, arreglo_output, &cantidad); //llamamos a la funcion\n",
        "    printf(\"arreglo_output = [\"); //imprimimos el output\n",
        "    for (int i = 0; i < tam; i++) {\n",
        "        printf(\"%d\", arreglo_output[i]);\n",
        "        if (i < tam - 1) {\n",
        "            printf(\", \");\n",
        "        }\n",
        "    }\n",
        "    printf(\"]\\n\");\n",
        "    printf(\"cantidad = %d\\n\", cantidad); //imprimimos cantidad\n",
        "\n",
        "\n",
        "\n",
        "    printf(\"\\nutilizando la funcion en asm:\");\n",
        "    funcion_asm((L, tam, N, arreglo_output, &cantidad); //llamamos a la funcion\n",
        "    printf(\"arreglo_output = [\"); //imprimimos el output\n",
        "    for (int i = 0; i < tam; i++) {\n",
        "        printf(\"%d\", arreglo_output[i]);\n",
        "        if (i < tam - 1) {\n",
        "            printf(\", \");\n",
        "        }\n",
        "    }\n",
        "    printf(\"]\\n\");\n",
        "    printf(\"cantidad = %d\\n\", cantidad); //imprimimos cantidad\n",
        "\n",
        "\n",
        "}"
      ]
    },
    {
      "cell_type": "code",
      "execution_count": null,
      "metadata": {},
      "outputs": [],
      "source": [
        "nasm -f elf64 medArm.asm -o medArm.o && gcc medArm.c medArm.o -o main && ./main"
      ]
    },
    {
      "cell_type": "code",
      "execution_count": 123,
      "metadata": {},
      "outputs": [],
      "source": [
        "#creo mi objet file de la libreria c\n",
        "! gcc -c libreria.c -o libreria.o\n",
        "\n",
        "#creo mi shared library para para usarla en python\n",
        "! gcc -fPIC -shared libreria.o -o libreria.so"
      ]
    },
    {
      "cell_type": "code",
      "execution_count": null,
      "metadata": {},
      "outputs": [],
      "source": [
        "#creo mi objet file de la libreria asm\n",
        "! nasm -f elf64 funcion_asm.asm -o funcion_asm.o\n",
        "\n",
        "#creo mi shared library para para usarla en python\n",
        "! gcc -fPIC -shared funcion_asm.o -o funcion_asm.so"
      ]
    },
    {
      "attachments": {},
      "cell_type": "markdown",
      "metadata": {
        "id": "zjxt7Y28CboD"
      },
      "source": [
        "(1.0 puntos) Llenar lo requerido por los espacios correspondientes "
      ]
    },
    {
      "cell_type": "code",
      "execution_count": 141,
      "metadata": {
        "colab": {
          "base_uri": "https://localhost:8080/"
        },
        "id": "U6MkOWZ1CnNh",
        "outputId": "7ad15bd0-2325-404c-f8e6-77994cafdfe0"
      },
      "outputs": [
        {
          "name": "stdout",
          "output_type": "stream",
          "text": [
            "Resultado en python\n",
            "Reemplazar por output de su función en Python\n",
            "Resultado en C\n",
            "Reemplazar por output de su función en C\n",
            "Resultado en ASM\n",
            "Reemplazar por output de su función en ASM\n"
          ]
        }
      ],
      "source": [
        "# (0.5 punto) Llamado a ambas funciones a través de ctypes - Colocar adecuadamente el tipo de dato\n",
        "def ctypes_link():\n",
        "    #cargamos la shared library\n",
        "    lib_C = ctypes.CDLL('./libreria.so')\n",
        "    lib_ASM = ctypes.CDLL('./funcion_asm.so')\n",
        "\n",
        "    #definimos los tipos de datos de cada uno\n",
        "    lib_C.libreria.argtypes = [\n",
        "        np.ctypeslib.ndpointer(dtype=np.float32),\n",
        "        ctypes.c_int,\n",
        "        np.ctypeslib.ndpointer(dtype=np.int32),\n",
        "        ctypes.c_int,\n",
        "    ]\n",
        "    #Para la función en ASM:\n",
        "    lib_ASM.funcion_asm.argtypes = [\n",
        "        np.ctypeslib.ndpointer(dtype=np.float32),\n",
        "        ctypes.c_int,\n",
        "        np.ctypeslib.ndpointer(dtype=np.int32),\n",
        "        ctypes.c_int,\n",
        "    ]\n",
        "\n",
        "    #definimos el tipo de dato de la salida para cada uno\n",
        "    lib_C.libreria.restype = ctypes.c_int #la cantidad de terminos\n",
        "\n",
        "    lib_ASM.funcion_asm.restype = ctypes.c_int  #la cantidad de terminos\n",
        "\n",
        "    return lib_C.libreria,lib_ASM.funcion_asm\n",
        "\n",
        "# (0.5 punto) Validación del funcionamiento de las funciones\n",
        "\n",
        "c_funcion,asm_funcion = ctypes_link()\n",
        "\n",
        "#Nota: Esta sección puede ser editada en la medida que le permita trabajar con sus funciones en ctypes\n",
        "# Por ejemplo, puede crear un nuevo L que haga el cast a un tipo numpy del tipo de dato que escoja\n",
        "# Arreglo\n",
        "L = [4, 10, 8, 35.3, 19, -5, 2, 32]\n",
        "# Valor de entrada\n",
        "N = 4\n",
        "\n",
        "print(\"Resultado en python\")\n",
        "print(\"Reemplazar por output de su función en Python\")\n",
        "\n",
        "print(\"Resultado en C\")\n",
        "print(\"Reemplazar por output de su función en C\")\n",
        "\n",
        "print(\"Resultado en ASM\")\n",
        "print(\"Reemplazar por output de su función en ASM\")\n",
        "\n"
      ]
    },
    {
      "attachments": {},
      "cell_type": "markdown",
      "metadata": {
        "id": "NBPZ-hkIN_Gz"
      },
      "source": [
        "(1.0 puntos) Análisis temporal: En 50 iteraciones generar una gráfica en donde se vea el tiempo de ejecución para un N = 1024. Crear una celda de texto y comentar acerca de la gráfica."
      ]
    },
    {
      "cell_type": "code",
      "execution_count": null,
      "metadata": {
        "id": "oOUP8_SAOE-b"
      },
      "outputs": [],
      "source": [
        "# Considerar que el arreglo podría no ser de enteros pero se puede utilizar la\n",
        "# función aleatoria de solo enteros para analizar temporalmente lo que sucede.\n",
        "# con el algoritmo. Puede hacer el cast que considere conveniente.\n",
        "Nuevo_L = np.random.randint(\"completar\")\n",
        "iteraciones = 50\n",
        "lista_py = []\n",
        "lista_c = []\n",
        "lista_asm = []\n",
        "for it in range(iteraciones):\n",
        "  \n",
        "  tic1 = time.perf_counter()\n",
        "  #colocar su función en python\n",
        "  toc1 = time.perf_counter()\n",
        "  lista_py.append(1e6*(toc1-tic1))\n",
        "\n",
        "  tic2 = time.perf_counter()\n",
        "  #colocar su función en C\n",
        "  toc2 = time.perf_counter()\n",
        "  lista_c.append(1e6*(toc2-tic2))\n",
        "\n",
        "  tic3 = time.perf_counter()\n",
        "  #colocar su función en ASM\n",
        "  toc3 = time.perf_counter()\n",
        "  lista_asm.append(1e6*(toc3-tic3))\n",
        "\n",
        "plt.plot(lista_py)\n",
        "plt.plot(lista_c)\n",
        "plt.plot(lista_asm)\n",
        "plt.legend(['Tiempo en Python, Tiempo en C', 'Tiempo en ASM'])\n",
        "plt.xlabel('iteraciones')\n",
        "plt.ylabel('[us]')\n",
        "plt.grid()\n",
        "plt.show()"
      ]
    },
    {
      "attachments": {},
      "cell_type": "markdown",
      "metadata": {
        "id": "xGqiFkhAPV-F"
      },
      "source": [
        " (2.0 puntos) Hallar el tiempo de ejecución y SpeedUP para un tamaño de arreglo de N = 512, 1024, 2048 y 4096. Crear una celda de texto y comentar acerca de sus resultados."
      ]
    },
    {
      "cell_type": "code",
      "execution_count": null,
      "metadata": {
        "id": "Sw3XWDbIPej-"
      },
      "outputs": [],
      "source": [
        "iteraciones = 30\n",
        "N_total = [512,1024,2048,4096]\n",
        "lista_py_total = []\n",
        "lista_c_total = []\n",
        "lista_asm_total = []\n",
        "for N in N_total:\n",
        "  Nuevo_L = np.random.randint(\"completar\")\n",
        "  lista_py = []\n",
        "  lista_c = []\n",
        "  lista_asm = []\n",
        "  for it in range(iteraciones):\n",
        "    \n",
        "    tic1 = time.perf_counter()\n",
        "    #colocar su función en python\n",
        "    toc1 = time.perf_counter()\n",
        "    lista_py.append(1e6*(toc1-tic1))\n",
        "\n",
        "    tic2 = time.perf_counter()\n",
        "    #colocar su función en C\n",
        "    toc2 = time.perf_counter()\n",
        "    lista_c.append(1e6*(toc2-tic2))\n",
        "\n",
        "    tic3 = time.perf_counter()\n",
        "    #colocar su función en ASM\n",
        "    toc3 = time.perf_counter()\n",
        "    lista_asm.append(1e6*(toc3-tic3))\n",
        "  lista_py_total.append(statistics.median(lista_py))\n",
        "  lista_c_total.append(statistics.median(lista_c))\n",
        "  lista_asm_total.append(statistics.median(lista_asm))\n",
        "\n",
        "  plt.plot(N_total, lista_py_total)\n",
        "  plt.plot(N_total, lista_c_total)\n",
        "  plt.plot(N_total, lista_asm_total)\n",
        "  plt.xlabel('N')\n",
        "  plt.ylabel('[us]')\n",
        "  plt.grid()\n",
        "  plt.show()"
      ]
    },
    {
      "cell_type": "code",
      "execution_count": null,
      "metadata": {
        "id": "Ci9TytMZR7MF"
      },
      "outputs": [],
      "source": [
        "  lista_SUp1_2 = [i//j for i,j in zip(lista_py_total, lista_c_total)]\n",
        "  lista_SUp1_3 = [i//j for i,j in zip(lista_py_total, lista_asm_total)]\n",
        "  \n",
        "  plt.plot(N_total, lista_py_total)\n",
        "  plt.plot(N_total, lista_c_total)\n",
        "  plt.plot(N_total, lista_asm_total)\n",
        "  plt.xlabel('N')\n",
        "  plt.ylabel('SpeedUP')\n",
        "  plt.grid()\n",
        "  plt.show()"
      ]
    }
  ],
  "metadata": {
    "colab": {
      "provenance": []
    },
    "kernelspec": {
      "display_name": "Python 3",
      "name": "python3"
    },
    "language_info": {
      "codemirror_mode": {
        "name": "ipython",
        "version": 3
      },
      "file_extension": ".py",
      "mimetype": "text/x-python",
      "name": "python",
      "nbconvert_exporter": "python",
      "pygments_lexer": "ipython3",
      "version": "3.10.6"
    }
  },
  "nbformat": 4,
  "nbformat_minor": 0
}
