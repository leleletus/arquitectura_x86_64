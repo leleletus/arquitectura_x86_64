{
 "cells": [
  {
   "attachments": {},
   "cell_type": "markdown",
   "metadata": {},
   "source": [
    "# Practicando para el parcial:"
   ]
  },
  {
   "cell_type": "code",
   "execution_count": null,
   "metadata": {},
   "outputs": [],
   "source": [
    "#se agrego imagen usando ![Imagen](link) "
   ]
  },
  {
   "attachments": {},
   "cell_type": "markdown",
   "metadata": {},
   "source": [
    "## 1.- La media armónica ponderada se define de la siguiente manera:\n",
    "\n",
    "![Imagen](https://snz04pap002files.storage.live.com/y4m3d3D0qGGFnD378itE7nz78xoMU9r5xdTUQ1YYLDfpcf9HBmMaxNSWUYiLkkKjZGJGMksKKV4rcNikCHM9KgwpVdPXJ2gIFUTowbY1KYPgegrfkSNfy8ERl0l2F7SaQIrrFv3IdUgoJNNR9WuyXQZrkm1Dq811ZHXg-m-Hm_lyBoRqJQ93lHPnP3yMgDpig1P?width=463&height=127&cropmode=nonep)\n",
    "\n"
   ]
  },
  {
   "attachments": {},
   "cell_type": "markdown",
   "metadata": {},
   "source": [
    "Donde cada xn es el número de un elemento del arreglo, xp es el peso que se le asigna a\n",
    "ese número y M es la suma de todos los valores de xp.\n",
    "\n",
    "Ejemplo:\n",
    "\n",
    "xn = 5, 4,8, 9\n",
    "\n",
    "xp = 1, 5, 10, 20\n",
    "\n",
    "M = 1+5+10+20 = 36"
   ]
  },
  {
   "cell_type": "code",
   "execution_count": 1,
   "metadata": {},
   "outputs": [
    {
     "name": "stdout",
     "output_type": "stream",
     "text": [
      "La media armónica ponderada es: 7.31\n"
     ]
    }
   ],
   "source": [
    "def media_armonica_ponderada(xn, xp): #creamos la funcion que requiere saber los valors xn y su respectivo peso\n",
    "    M = sum(xp) #m es la suma de todos los pesos\n",
    "    suma_inversas = 0 #inicializamos nuestra respuesta\n",
    "    for i in range(len(xn)): #iteramos la cantidad de valores que hay en xn que son n elementos\n",
    "        suma_inversas += xp[i] / xn[i]  #calculamos el valor de las divisiones 1/(sumas_inversas)\n",
    "    return M / suma_inversas #devolvemos la respuesta\n",
    "\n",
    "# Ejemplo de uso\n",
    "xn = [5, 4, 8, 9]\n",
    "xp = [1, 5, 10, 20]\n",
    "resultado = media_armonica_ponderada(xn, xp)\n",
    "print(f\"La media armónica ponderada es: {resultado:.2f}\")"
   ]
  },
  {
   "attachments": {},
   "cell_type": "markdown",
   "metadata": {},
   "source": [
    "### b) Codificar una función que calcule la media armónica ponderada en C"
   ]
  },
  {
   "cell_type": "code",
   "execution_count": 20,
   "metadata": {},
   "outputs": [
    {
     "name": "stdout",
     "output_type": "stream",
     "text": [
      "Overwriting media_armonica_ponderada.c\n"
     ]
    }
   ],
   "source": [
    "%%file media_armonica_ponderada.c\n",
    "\n",
    "\n",
    "#include <stdio.h>\n",
    "\n",
    "double media_armonica_ponderada(int xn[], int xp[], int n) { //lo mismo que usar *xn y *xp ya que son punteros a los arreglos\n",
    "    int M = 0;\n",
    "    for (int i = 0; i < n; i++) {\n",
    "        M += xp[i]; //calculamos la suma de todos los pesos en M\n",
    "    }\n",
    "    double suma_inversas = 0;\n",
    "    for (int i = 0; i < n; i++) {\n",
    "        suma_inversas += (double)xp[i] / xn[i]; //calculamos la usma de tosas las fracciones m/suma_inversas\n",
    "    }\n",
    "    return M / suma_inversas; //devolvemos resultado\n",
    "}\n",
    "\n",
    "int main() {\n",
    "    // Ejemplo de uso\n",
    "    int xn[] = {5, 4, 8, 9};\n",
    "    int xp[] = {1, 5, 10, 20};\n",
    "    int n = sizeof(xn) / sizeof(xn[0]); //calculamos la cantidad de terminos n\n",
    "    double resultado = media_armonica_ponderada(xn, xp, n); //pasamos los datos a la funcion\n",
    "    printf(\"La media armónica ponderada es: %.2f\\n\", resultado);\n",
    "    \n",
    "    return 0;\n",
    "}"
   ]
  },
  {
   "cell_type": "code",
   "execution_count": 21,
   "metadata": {},
   "outputs": [],
   "source": [
    "! gcc media_armonica_ponderada.c -o media_armonica_ponderada"
   ]
  },
  {
   "cell_type": "code",
   "execution_count": 22,
   "metadata": {},
   "outputs": [
    {
     "name": "stdout",
     "output_type": "stream",
     "text": [
      "La media armónica ponderada es: 7.31\n"
     ]
    }
   ],
   "source": [
    "! ./media_armonica_ponderada"
   ]
  },
  {
   "attachments": {},
   "cell_type": "markdown",
   "metadata": {},
   "source": [
    "### c) Codificar una función que calcule la media armónica ponderada en ASM"
   ]
  },
  {
   "cell_type": "code",
   "execution_count": 6,
   "metadata": {},
   "outputs": [
    {
     "name": "stdout",
     "output_type": "stream",
     "text": [
      "Writing media_armonica_ponderada.nasm\n"
     ]
    }
   ],
   "source": [
    "%%file media_armonica_ponderada.nasm\n",
    "\n",
    "; SEGMENTO DE DATOS\n",
    ";todos seran direcciones de memoria por eso no se usara\n",
    "section .data\n",
    "    xn dd 5, 4, 8, 9 ; de 32 bits variable xn con sus valores\n",
    "    xp dd 1, 5, 10, 20 ; de 32 bits sus pesos correspondientes\n",
    "    n dd 4 ; 32 bits cantidad de elementos n\n",
    "    msg db \"La media armónica ponderada es: \" ; de 8 bits para que sea ascii\n",
    "    len equ $ - msg ; nos da el tamaño de msg\n",
    "\n",
    "\n",
    "; SEGMENTO BSS (Block Started by Symbol)\n",
    "section .bss\n",
    "    result resb 32 ;es de 8bits y reserva 32bytes\n",
    "    ;esta etiqueta es un a direecion de memoria\n",
    "\n",
    "; SEGMENTO DE TEXTO\n",
    "section .text\n",
    "    global _start\n",
    "\n",
    "_start:\n",
    "    ; declaramos punteros a arreglo para la suma de m\n",
    "    xor eax, eax ; ponemos a 0 el registro que es de 32bits enteros\n",
    "    mov ecx, [n] ; contenido de n en el registro ecx (sera nuestro contador del for)\n",
    "                ;los corchetes indican que se esta accediendo al contenido de la direccion de memoria n\n",
    "    mov esi, xp ;carga la dirección del arreglo xp en el registro esi\n",
    "                ;Este registro se utilizará como puntero para acceder a elementos en este arreglo\n",
    "\n",
    ";calcula suma de todos los xp y lo guarda en eax (M) acumulado en eax\n",
    "loop1: \n",
    "    add eax, [esi] ;suma el valor en la ubicacion de memoria apuntado por esi y lo acumula\n",
    "                    ;en suma siempre que se usa [] suma a lo que apunta, si el registro tiene el valor\n",
    "                    ;directamente se pone add eax,ebx\n",
    "    add esi, 4 ; de 32bits= 4bytes van de 4 en 4 cada valor, pasamos al siguiente elemento\n",
    "                ; como de x[0] a x[1]\n",
    "    dec ecx     ;decrementamos el contador\n",
    "    cmp ecx, 0  ;comparamos si ya llego a 0\n",
    "    jne loop1  ; saltamos si la comparacion ecx != 0 (nor equal)\n",
    "\n",
    "\n",
    "\n",
    "    ; declaramos punteros a arreglos para suma_inversas\n",
    "    xorpd xmm0, xmm0    ;limpiamos a 0 xmm0\n",
    "    mov ecx, [n]        ;copiamos el valor dentro de n a ecx\n",
    "    mov esi, xn         ;pasamos la direccion de memoria xn a esi (lo usaremos de puntero)\n",
    "    mov edi, xp         ;pasamos la dir de mem xp a edi (puntero al arreglo)\n",
    "\n",
    ";calcula el xp/xn y acumulamos su suma con el for\n",
    "loop2:\n",
    "    cvtsi2sd xmm1, [esi]    ;convertimos (cvts) entero(i)32bits a(2) double(sd) 64bits\n",
    "    cvtsi2sd xmm2, [edi]    ;convertimos lo de edi(32bits) a 64bits y guardamos en registro\n",
    "    divsd xmm2, xmm1        ; dividimos doubles(divsd) xmm2(xp) entre xmm1(xn) y guardamos en xmm\n",
    "    addsd xmm0, xmm2        ; sum double(addsd) lo de xmm2(xp/xn) y lo acumula en xmm0\n",
    "    add esi, 4              ;aumentamos en 4 bytes, cada valor es de 4bytes para pasar al siguiente\n",
    "    add edi, 4              ; pasamos de xp0 a xp1\n",
    "    dec ecx                 ;disminuimos una unidad (nuestro i-=1)\n",
    "    cmp ecx, 0              ;comparamos con 0 la cuenta\n",
    "    jne loop2               ; si no es igual a 0 -> se repite\n",
    "\n",
    "\n",
    "    ; calculate M / suma_inversas\n",
    "    cvtsi2sd xmm1, eax  ;convertimos entero eax(M) a double xmm1 (lo que contienen)\n",
    "    divsd xmm1, xmm0    ;dividimos xmm1(M) entre xmm0(suma_inversas) y guardamos en xmm1\n",
    "\n",
    "    ; SYS_WRITE (escribo msg)\n",
    "    mov rax, 1\n",
    "\tmov rdi, 1\n",
    "    mov rsi, msg\n",
    "    mov rdx, leng\n",
    "    syscall\n",
    "    \n",
    "    ; (escribo lo demas)\n",
    "    mov rax, 1 \n",
    "    mov rdi, 1 \n",
    "    mov rsi,result \n",
    "    movq [result],xmm1 \n",
    "    cvtsd2si rbx,[result] \n",
    "    add rbx,'0' \n",
    "    mov [result],bl \n",
    "    mov rdx ,1 \n",
    "    syscall \n",
    "\n",
    "\n",
    "    ;SYS_EXIT \n",
    "    mov rax ,60 \n",
    "    mov rdi ,0 \n",
    "    syscall \n"
   ]
  },
  {
   "attachments": {},
   "cell_type": "markdown",
   "metadata": {},
   "source": [
    "mov rax, 1: Esto establece el valor del registro rax en 1, que es el número de llamada al sistema para sys_write en sistemas Linux x86-64.\n",
    "\n",
    "mov rdi, 1: Esto establece el valor del registro rdi en 1, que es el descriptor de archivo para la salida estándar.\n",
    "\n",
    "mov rsi,result: Esto establece el valor del registro rsi en la dirección de la variable result.\n",
    "\n",
    "movq [result],xmm1: Esto mueve el valor en el registro xmm1 a la memoria en la dirección especificada por la variable result.\n",
    "\n",
    "cvtsd2si rbx,[result]: Esto convierte un valor escalar de coma flotante de doble precisión desde la memoria en la dirección especificada por la variable result en un entero con signo y lo almacena en el registro rbx.\n",
    "\n",
    "add rbx,'0': Esto agrega el valor ASCII de ‘0’ al valor en el registro rbx.\n",
    "\n",
    "mov [result],bl: Esto mueve el valor en el byte bajo del registro rbx a la memoria en la dirección especificada por la variable result.\n",
    "\n",
    "mov rdx ,1: Esto establece el valor del registro rdx en 1, lo que especifica que solo se debe escribir un byte.\n",
    "\n",
    "syscall: Esto desencadena una llamada al sistema.\n",
    "\n",
    "En resumen, este código convierte un valor de coma flotante de doble precisión almacenado en xmm1 en un carácter ASCII y lo escribe en la salida estándar."
   ]
  },
  {
   "attachments": {},
   "cell_type": "markdown",
   "metadata": {},
   "source": [
    "### d) En el programa principal, definir el arreglo de los pesos, el arreglo de números y el número de elementos. Posteriormente, imprimir el resultado validando sus funciones"
   ]
  },
  {
   "cell_type": "code",
   "execution_count": null,
   "metadata": {},
   "outputs": [],
   "source": []
  },
  {
   "attachments": {},
   "cell_type": "markdown",
   "metadata": {},
   "source": [
    "### e) Realizar un análisis temporal generando una gráfica para arreglos con un número de elementos N = 1024"
   ]
  },
  {
   "cell_type": "code",
   "execution_count": null,
   "metadata": {},
   "outputs": [],
   "source": []
  },
  {
   "attachments": {},
   "cell_type": "markdown",
   "metadata": {},
   "source": [
    "### f) Realizar análisis temporal variando el valor de N = 16, 32, 64, 128, 256, 512, 1024, 2048, 4096, 8192"
   ]
  },
  {
   "cell_type": "markdown",
   "metadata": {},
   "source": []
  },
  {
   "attachments": {},
   "cell_type": "markdown",
   "metadata": {},
   "source": [
    "### g) Hallar el SpeedUP considerando la función más lenta como la referencia."
   ]
  },
  {
   "cell_type": "code",
   "execution_count": null,
   "metadata": {},
   "outputs": [],
   "source": []
  },
  {
   "attachments": {},
   "cell_type": "markdown",
   "metadata": {},
   "source": [
    "### h) Realizar el mismo ejercicio con diferentes tipos de datos (int, float y double) y validar si se cumplen las mismas estadísticas."
   ]
  },
  {
   "attachments": {},
   "cell_type": "markdown",
   "metadata": {},
   "source": [
    "### i) ¿Cómo se puede aplicar la ley de amdahl en este ejemplo?\n"
   ]
  },
  {
   "attachments": {},
   "cell_type": "markdown",
   "metadata": {},
   "source": [
    "## 2.- La Transformada Discreta de Fourier se define como:\n",
    "\n",
    "![Imagen](https://snz04pap002files.storage.live.com/y4maFJjY0YnWKOCHZX73pao5xCxK_q_D9L4wsVpoKRAbTfs-oG83BTMoZMuAFYKqRKUa3lMrtLvexDHYXuuG1xhtJlU9UHgI6C3AuHb9WOmUp8pieBP7fXMe2hPXOlSkFquWPJxe5Z3qG-grPlRhQ22L6uOApxNLUx1U0fkqfs4bvPVH6mtOE-dIeZ_VDvyYLHr?width=280&height=129&cropmode=none)\n",
    "\n",
    "Sabiendo que xn y XK son números complejos, se le pide:"
   ]
  },
  {
   "attachments": {},
   "cell_type": "markdown",
   "metadata": {},
   "source": [
    "### a) Codificar una función en Python que calcule la dft. Considerar que debe dar como argumentos de entrada un arreglo de números reales y otro de números imaginarios."
   ]
  },
  {
   "cell_type": "code",
   "execution_count": null,
   "metadata": {},
   "outputs": [],
   "source": []
  },
  {
   "attachments": {},
   "cell_type": "markdown",
   "metadata": {},
   "source": [
    "b) Codificar una función en C que calcule la dft.\n",
    "\n",
    "c) Codificar una función en ASM que calcule la dft.\n",
    "\n",
    "d) En el programa principal, generar un arreglo de prueba que tenga componentes\n",
    "reales e imaginarios. Posteriormente, separar el arreglo en dos arreglos(uno con\n",
    "componentes reales y otro con componente imaginario). Validar sus funciones\n",
    "comparando con la función fft de la librería numpy o scipy. Considerar elementos tipo\n",
    "float.\n",
    "\n",
    "e) Realizar un análisis temporal generando una gráfica para arreglos con un número de\n",
    "elementos N = 1024\n",
    "\n",
    "f) Realizar análisis temporal variando el valor de N = 16, 32, 64, 128, 256, 512, 1024,\n",
    "2048, 4096, 8192\n",
    "\n",
    "g) Hallar el SpeedUP considerando la función más lenta como la referencia.\n",
    "\n",
    "h) Realizar el mismo análisis con elementos tipo double\n",
    "\n",
    "i) ¿Cómo se puede aplicar la ley de amdahl en este ejemplo?\n"
   ]
  }
 ],
 "metadata": {
  "kernelspec": {
   "display_name": "Python 3",
   "language": "python",
   "name": "python3"
  },
  "language_info": {
   "codemirror_mode": {
    "name": "ipython",
    "version": 3
   },
   "file_extension": ".py",
   "mimetype": "text/x-python",
   "name": "python",
   "nbconvert_exporter": "python",
   "pygments_lexer": "ipython3",
   "version": "3.10.6"
  },
  "orig_nbformat": 4
 },
 "nbformat": 4,
 "nbformat_minor": 2
}
