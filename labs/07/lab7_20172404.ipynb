{
 "cells": [
  {
   "cell_type": "markdown",
   "metadata": {},
   "source": [
    "Ejercicio 1\n",
    "\n",
    "Se le brinda dos códigos en C: programa1_1.c y Programa1_2.c. Ambos generan el cálculo\n",
    "de la transpuesta de una matriz pero se han implementado de diferentes maneras.\n",
    "Considerar que N = 512 puede ser un número muy grande para su sistema. En caso se\n",
    "genere un error de segmento, use el valor de N que funcione con su código.\n",
    "Se le pide lo siguiente:\n"
   ]
  },
  {
   "cell_type": "markdown",
   "metadata": {},
   "source": [
    "1) (1.0 punto) Incluir la medición de tiempo desde C únicamente para el cálculo de la\n",
    "transpuesta. Utilice las unidades que mejor se ajusten al tiempo de ejecución de su\n",
    "PC. No usar más de dos decimales.\n"
   ]
  },
  {
   "cell_type": "code",
   "execution_count": 63,
   "metadata": {},
   "outputs": [
    {
     "name": "stdout",
     "output_type": "stream",
     "text": [
      "Overwriting programa1_1.c\n"
     ]
    }
   ],
   "source": [
    "\n",
    "%%file programa1_1.c\n",
    "\n",
    "#include <stdio.h>\n",
    "#include <time.h>  //para tomar mediciones del tiempo\n",
    "\n",
    "int main()\n",
    "{\n",
    "    int N = 512; //puede ser muy grande\n",
    "    int matriz[N][N];\n",
    "    int transpuesta[N][N];\n",
    "\n",
    "    struct timespec ti, tf;\n",
    "    double elapsed;\n",
    "\n",
    "    for (int i = 0; i<N; i++){\n",
    "        for(int j = 0; j<N;j++){\n",
    "            matriz[i][j] = i+j*N;\n",
    "        }\n",
    "    }\n",
    "\n",
    "    clock_gettime(CLOCK_REALTIME, &ti);\n",
    "    for (int i = 0; i<N; i++){\n",
    "        for(int j = 0; j<N;j++){\n",
    "            transpuesta[i][j] = matriz[j][i];\n",
    "        }\n",
    "    }\n",
    "    clock_gettime(CLOCK_REALTIME, &tf);\n",
    "    elapsed = (tf.tv_sec - ti.tv_sec) * 1e9 + (tf.tv_nsec - ti.tv_nsec);\n",
    "    printf(\"El tiempo en milisegundos que toma la función en C es %.2lf\\n\", elapsed*1e-6);\n",
    "    \n",
    "    return 0;\n",
    "}\n"
   ]
  },
  {
   "cell_type": "code",
   "execution_count": 19,
   "metadata": {},
   "outputs": [],
   "source": [
    "! gcc programa1_1.c -o programa1_1\n",
    "#compilando"
   ]
  },
  {
   "cell_type": "code",
   "execution_count": 20,
   "metadata": {},
   "outputs": [
    {
     "name": "stdout",
     "output_type": "stream",
     "text": [
      "El tiempo en milisegundos que toma la función en C es 3.93\n"
     ]
    }
   ],
   "source": [
    "! ./programa1_1"
   ]
  },
  {
   "cell_type": "code",
   "execution_count": 23,
   "metadata": {},
   "outputs": [
    {
     "name": "stdout",
     "output_type": "stream",
     "text": [
      "Overwriting programa1_2.c\n"
     ]
    }
   ],
   "source": [
    "%%file programa1_2.c\n",
    "\n",
    "#include <stdio.h>\n",
    "#include <time.h>\n",
    "\n",
    "int main()\n",
    "{\n",
    "    int N = 512;\n",
    "    int matriz[N][N];\n",
    "    int transpuesta[N][N];\n",
    "\n",
    "    struct timespec ti, tf;\n",
    "    double elapsed;\n",
    "\n",
    "    for (int i = 0; i<N; i++){\n",
    "        for(int j = 0; j<N;j++){\n",
    "            matriz[i][j] = i+j*N;\n",
    "        }\n",
    "    }\n",
    "    \n",
    "    clock_gettime(CLOCK_REALTIME, &ti);\n",
    "    for (int i = 0; i<N; i++){\n",
    "        for(int j = 0; j<N;j++){\n",
    "            transpuesta[j][i] = matriz[i][j];\n",
    "        }\n",
    "    }\n",
    "    clock_gettime(CLOCK_REALTIME, &tf);\n",
    "    elapsed = (tf.tv_sec - ti.tv_sec) * 1e9 + (tf.tv_nsec - ti.tv_nsec);\n",
    "    printf(\"El tiempo en milisegundos que toma la función en C es %.2lf\\n\", elapsed*1e-6);\n",
    "    \n",
    "    return 0;\n",
    "}\n"
   ]
  },
  {
   "cell_type": "code",
   "execution_count": 24,
   "metadata": {},
   "outputs": [],
   "source": [
    "! gcc programa1_2.c -o programa1_2"
   ]
  },
  {
   "cell_type": "code",
   "execution_count": 30,
   "metadata": {},
   "outputs": [
    {
     "name": "stdout",
     "output_type": "stream",
     "text": [
      "El tiempo en milisegundos que toma la función en C es 6.58\n"
     ]
    }
   ],
   "source": [
    "! ./programa1_2"
   ]
  },
  {
   "cell_type": "markdown",
   "metadata": {},
   "source": [
    "2) (1.0 punto) Realizar 15 ejecuciones desde el terminal para ambos archivos\n",
    "ejecutables. Realizar una captura de pantalla de su ejecución. Los tiempos en su\n",
    "imagen deben ser visibles. Para ello, se sugiere escribir un código en bash que\n",
    "realice el llamado 15 veces al programa ejecutable (Ver guía de introducción al\n",
    "entorno). El código en bash es opcional.\n"
   ]
  },
  {
   "cell_type": "code",
   "execution_count": 31,
   "metadata": {},
   "outputs": [
    {
     "name": "stdout",
     "output_type": "stream",
     "text": [
      "El tiempo en milisegundos que toma la función en C es 3.46\n",
      "El tiempo en milisegundos que toma la función en C es 3.63\n",
      "El tiempo en milisegundos que toma la función en C es 3.15\n",
      "El tiempo en milisegundos que toma la función en C es 3.39\n",
      "El tiempo en milisegundos que toma la función en C es 3.36\n",
      "El tiempo en milisegundos que toma la función en C es 3.36\n",
      "El tiempo en milisegundos que toma la función en C es 3.35\n",
      "El tiempo en milisegundos que toma la función en C es 2.92\n",
      "El tiempo en milisegundos que toma la función en C es 3.62\n",
      "El tiempo en milisegundos que toma la función en C es 3.37\n",
      "El tiempo en milisegundos que toma la función en C es 3.35\n",
      "El tiempo en milisegundos que toma la función en C es 3.37\n",
      "El tiempo en milisegundos que toma la función en C es 3.34\n",
      "El tiempo en milisegundos que toma la función en C es 3.36\n",
      "El tiempo en milisegundos que toma la función en C es 3.35\n"
     ]
    }
   ],
   "source": [
    "#Un for desde jupyter Para programa1_1\n",
    "for i in range (15):\n",
    "    !./programa1_1"
   ]
  },
  {
   "cell_type": "code",
   "execution_count": 32,
   "metadata": {},
   "outputs": [
    {
     "name": "stdout",
     "output_type": "stream",
     "text": [
      "El tiempo en milisegundos que toma la función en C es 6.74\n",
      "El tiempo en milisegundos que toma la función en C es 6.01\n",
      "El tiempo en milisegundos que toma la función en C es 5.99\n",
      "El tiempo en milisegundos que toma la función en C es 5.99\n",
      "El tiempo en milisegundos que toma la función en C es 6.08\n",
      "El tiempo en milisegundos que toma la función en C es 6.16\n",
      "El tiempo en milisegundos que toma la función en C es 5.54\n",
      "El tiempo en milisegundos que toma la función en C es 5.24\n",
      "El tiempo en milisegundos que toma la función en C es 6.06\n",
      "El tiempo en milisegundos que toma la función en C es 6.05\n",
      "El tiempo en milisegundos que toma la función en C es 5.98\n",
      "El tiempo en milisegundos que toma la función en C es 5.99\n",
      "El tiempo en milisegundos que toma la función en C es 5.97\n",
      "El tiempo en milisegundos que toma la función en C es 5.98\n",
      "El tiempo en milisegundos que toma la función en C es 5.99\n"
     ]
    }
   ],
   "source": [
    "#Un for desde jupyter Para programa1_2\n",
    "for i in range (15):\n",
    "    !./programa1_2"
   ]
  },
  {
   "cell_type": "markdown",
   "metadata": {},
   "source": [
    "3) (1.0 punto) Adjuntar una tabla con todas las mediciones. Enfatizar el tiempo mínimo,\n",
    "máximo y la mediana.\n"
   ]
  },
  {
   "cell_type": "code",
   "execution_count": 46,
   "metadata": {},
   "outputs": [
    {
     "name": "stdout",
     "output_type": "stream",
     "text": [
      "Valores obtenidos: [3.46 3.63 3.15 3.39 3.36 3.36 3.35 2.92 3.62 3.37 3.35 3.37 3.34 3.36\n",
      " 3.35]\n",
      "Valor minimo: 2.92\n",
      "Valor maximo: 3.63\n",
      "Mediana: 3.36\n"
     ]
    }
   ],
   "source": [
    "#Para  programa1_1\n",
    "import numpy as np\n",
    "\n",
    "sentence = \"El tiempo en milisegundos que toma la función en C es 3.46 \\\n",
    "El tiempo en milisegundos que toma la función en C es 3.63 \\\n",
    "El tiempo en milisegundos que toma la función en C es 3.15 \\\n",
    "El tiempo en milisegundos que toma la función en C es 3.39 \\\n",
    "El tiempo en milisegundos que toma la función en C es 3.36 \\\n",
    "El tiempo en milisegundos que toma la función en C es 3.36 \\\n",
    "El tiempo en milisegundos que toma la función en C es 3.35 \\\n",
    "El tiempo en milisegundos que toma la función en C es 2.92 \\\n",
    "El tiempo en milisegundos que toma la función en C es 3.62 \\\n",
    "El tiempo en milisegundos que toma la función en C es 3.37 \\\n",
    "El tiempo en milisegundos que toma la función en C es 3.35 \\\n",
    "El tiempo en milisegundos que toma la función en C es 3.37 \\\n",
    "El tiempo en milisegundos que toma la función en C es 3.34 \\\n",
    "El tiempo en milisegundos que toma la función en C es 3.36 \\\n",
    "El tiempo en milisegundos que toma la función en C es 3.35\"\n",
    "s1 = []\n",
    "for t in sentence.split():\n",
    "    try:\n",
    "        s1.append(float(t))\n",
    "    except ValueError:\n",
    "        pass\n",
    "arr1 = np.array(s1)\n",
    "\n",
    "\n",
    "print(f\"Valores obtenidos: {arr1}\")\n",
    "print(f\"Valor minimo: {np.amin(arr1)}\")\n",
    "print(f\"Valor maximo: {np.amax(arr1)}\")\n",
    "print(f\"Mediana: {np.median(arr1)}\")\n",
    "\n",
    "\n"
   ]
  },
  {
   "cell_type": "code",
   "execution_count": 59,
   "metadata": {},
   "outputs": [
    {
     "name": "stdout",
     "output_type": "stream",
     "text": [
      "Valores obtenidos: [6.74 6.01 5.99 5.99 6.08 6.16 5.54 5.24 6.06 6.05 5.98 5.99 5.97 5.98\n",
      " 5.99]\n",
      "Valor minimo: 5.24\n",
      "Valor maximo: 6.74\n",
      "Mediana: 5.99\n"
     ]
    }
   ],
   "source": [
    "#Para  programa1_2\n",
    "import numpy as np\n",
    "\n",
    "sentence = \"El tiempo en milisegundos que toma la función en C es 6.74 \\\n",
    "El tiempo en milisegundos que toma la función en C es 6.01 \\\n",
    "El tiempo en milisegundos que toma la función en C es 5.99 \\\n",
    "El tiempo en milisegundos que toma la función en C es 5.99 \\\n",
    "El tiempo en milisegundos que toma la función en C es 6.08 \\\n",
    "El tiempo en milisegundos que toma la función en C es 6.16 \\\n",
    "El tiempo en milisegundos que toma la función en C es 5.54 \\\n",
    "El tiempo en milisegundos que toma la función en C es 5.24 \\\n",
    "El tiempo en milisegundos que toma la función en C es 6.06 \\\n",
    "El tiempo en milisegundos que toma la función en C es 6.05 \\\n",
    "El tiempo en milisegundos que toma la función en C es 5.98 \\\n",
    "El tiempo en milisegundos que toma la función en C es 5.99 \\\n",
    "El tiempo en milisegundos que toma la función en C es 5.97 \\\n",
    "El tiempo en milisegundos que toma la función en C es 5.98 \\\n",
    "El tiempo en milisegundos que toma la función en C es 5.99\"\n",
    "s2 = []\n",
    "for t in sentence.split():\n",
    "    try:\n",
    "        s2.append(float(t))\n",
    "    except ValueError:\n",
    "        pass\n",
    "arr2 = np.array(s2)\n",
    "\n",
    "print(f\"Valores obtenidos: {arr2}\")\n",
    "print(f\"Valor minimo: {np.amin(arr2)}\")\n",
    "print(f\"Valor maximo: {np.amax(arr2)}\")\n",
    "print(f\"Mediana: {np.median(arr2)}\")\n",
    "\n"
   ]
  },
  {
   "cell_type": "code",
   "execution_count": 61,
   "metadata": {},
   "outputs": [
    {
     "name": "stdout",
     "output_type": "stream",
     "text": [
      "Tabla:\n",
      "    programa1_1  programa1_2\n",
      "1          3.46         6.74\n",
      "2          3.63         6.01\n",
      "3          3.15         5.99\n",
      "4          3.39         5.99\n",
      "5          3.36         6.08\n",
      "6          3.36         6.16\n",
      "7          3.35         5.54\n",
      "8          2.92         5.24\n",
      "9          3.62         6.06\n",
      "10         3.37         6.05\n",
      "11         3.35         5.98\n",
      "12         3.37         5.99\n",
      "13         3.34         5.97\n",
      "14         3.36         5.98\n",
      "15         3.35         5.99\n"
     ]
    }
   ],
   "source": [
    "\n",
    "import pandas as pd\n",
    "df = pd.DataFrame({'programa1_1':arr1, 'programa1_2':arr2})\n",
    "df.index += 1 \n",
    "\n",
    "print(\"Tabla:\")\n",
    "print(df)"
   ]
  },
  {
   "cell_type": "markdown",
   "metadata": {},
   "source": [
    "Tabla:\n",
    "\n",
    "\n",
    "| programa1_1 (ms) | programa1_2 (ms) |\n",
    "|:-----------:|:-----------:|\n",
    "|3.46|6.74|\n",
    "|3.63|         6.01|\n",
    "|3.15|         5.99|\n",
    "|3.39|         5.99|\n",
    "|3.36|         6.08|\n",
    "|3.36|         6.16|\n",
    "|3.35|         5.54|\n",
    "|2.92|         5.24|\n",
    "|3.62|         6.06|\n",
    "|3.37|         6.05|\n",
    "|3.35|         5.98|\n",
    "|3.37|         5.99|\n",
    "|3.34|         5.97|\n",
    "|3.36|         5.98|\n",
    "|3.35|         5.99|\n",
    "\n",
    "\n",
    "Calculos:\n",
    "\n",
    "|             | programa1_1 | programa1_2 |\n",
    "|:-----------:|:-----------:|:-----------:|\n",
    "|Valor minimo:| 2.92 |5.24|\n",
    "|Valor maximo: |3.63 |6.74|\n",
    "|Mediana: |3.36 |5.99|\n",
    "\n"
   ]
  },
  {
   "cell_type": "markdown",
   "metadata": {},
   "source": [
    "4) (1.0 punto) Explicar cómo se relaciona el programa1_1.c con los conceptos de\n",
    "localidad temporal y localidad espacial.\n"
   ]
  },
  {
   "cell_type": "markdown",
   "metadata": {},
   "source": [
    "Para el programa1_1 \n",
    "\n",
    "Analizandolo, podemos apreciar lo siguente:\n",
    "\n",
    "Inicialmente  se declaran en main la variable n y los arreglos a utilizarse, al declarar el arreglo con nxn terminos , se hace mas facil la localidad espacial ya los espacios de memoria seran reservadors de manera seguida o continua para su futuro uso.\n",
    "Tambien se utiliza un for para guardar valores en nuestra matriz original, luego se utiliza un doble for para poder calcular la transpuesta de nuestra matriz. Esta transpuesta, al utilizar el for y guardar valores se hace buena practica de localidad espacial ya que posiciones de memoria cercanos van a ser accedidos ya que se declaro anteriormente. Entre más pequeño es el bucle , mejor es la localidad espacial.\n",
    "Por la forma en la que se utilizan los for podemos deducir que utiliza el metodo de Row major para el calculo de la transpuesta y al ser c un lenguaje el cual por dejecto suele guardar en memoria de manera continua las variables de jorma row major se aprovecha mucho mejorar la localidad espacial al utlizar cada uno de los valores guardados en row major y asi reducir los tiempos de busqueda de las variables\n"
   ]
  },
  {
   "cell_type": "markdown",
   "metadata": {},
   "source": [
    "5) (1.0 punto) Explicar cómo se relaciona el programa1_2.c con los conceptos de\n",
    "localidad temporal y localidad espacial.\n"
   ]
  },
  {
   "cell_type": "markdown",
   "metadata": {},
   "source": [
    "Analizandolo, podemos apreciar lo siguente:\n",
    "\n",
    "Igualmente que en el anterior:\n",
    "Inicialmente  se declaran en main la variable n y los arreglos a utilizarse, al declarar el arreglo con nxn terminos , se hace mas facil la localidad espacial ya los espacios de memoria seran reservadors de manera seguida o continua para su futuro uso.\n",
    "Tambien se utiliza un for para guardar valores en nuestra matriz original, luego se utiliza un doble for para poder calcular la transpuesta de nuestra matriz. Esta transpuesta, al utilizar el for y guardar valores se hace buena practica de localidad espacial ya que posiciones de memoria cercanos van a ser accedidos ya que se declaro anteriormente. Entre más pequeño es el bucle , mejor es la localidad espacial.\n",
    "\n",
    "\n",
    "Por la forma en la que se utilizan los for podemos deducir que utiliza el metodo de Colum Major, este es un metodo forzado mediante el programa ya que por dejecto en c se suele utilizar el row major. Al no poder utilizar ni aprovechar al maximo la localidad espacial ya que en estos casos tendria que saltar a diferentes bloques de memorio a reemplazarlos buscando en la memoria principal , se estaria desperidicando el veneficio de la localidad espacial y aumentando los tiempos del programa. Esto seria mas notorio si el numero de elementos n fuera mucho mayor o se utilizan mas for ya que esto es secuencial."
   ]
  },
  {
   "cell_type": "markdown",
   "metadata": {},
   "source": [
    "6) (3.0 punto) Sabiendo que la matriz se ha inicializado por filas (row-major), ¿qué\n",
    "pasaría si se inicializa la matriz por columnas (col-major) y se ajusta la función de\n",
    "transpuesta a columnas?Justificar apropiadamente sus respuestas.\n"
   ]
  },
  {
   "cell_type": "markdown",
   "metadata": {},
   "source": [
    "Al estar utilizando el lenguaje C que utiliza y guarda cada variable de manera continua y secuencial, ademas que para arreglos de 2 dimensiones utiliza de manera nativa o por default row mayor estariamos haciendo que el para su mapeo de memoria le cueste mucho mas trabajo encontrar los valores de cada uno de nuestros elementos de la matriz ya que al no seguir la manera secuencial en la cual estaria guardando nuestro arreglo el lenguaje se estariamos buscando los elmentos dando saltos en toda la memoria y en algunoos casos podriamos estar remplazando bloques de memoria al no encontrarse ahi y tener que buscar en la memoria principal y reemplazarlo . No se estaria aprovechando para nada la localidad espacial y llegando a aumentar significativamente los tiempos de ejecucion de nuestro programa. Este tiempo doria ser mucho mas notorio a medida que aumentemos el  valor de N que vendrian a ser los elementes de cada fila y columna."
   ]
  },
  {
   "cell_type": "markdown",
   "metadata": {},
   "source": [
    "7) (0.0 puntos) Utilizar el comando getconf -a | grep CACHE en el terminal y verificar el\n",
    "tamaño de bloque de su computador. Recordar que el tamaño de bloque en el nivel\n",
    "1 se ve en la línea LEVEL1_DCACHE_LINESIZE (en bytes). Adjuntar captura de\n",
    "pantalla. (-1.0 si no lo realiza)\n"
   ]
  },
  {
   "cell_type": "code",
   "execution_count": 62,
   "metadata": {},
   "outputs": [
    {
     "name": "stdout",
     "output_type": "stream",
     "text": [
      "LEVEL1_ICACHE_SIZE                 32768\n",
      "LEVEL1_ICACHE_ASSOC                \n",
      "LEVEL1_ICACHE_LINESIZE             32\n",
      "LEVEL1_DCACHE_SIZE                 32768\n",
      "LEVEL1_DCACHE_ASSOC                8\n",
      "LEVEL1_DCACHE_LINESIZE             64\n",
      "LEVEL2_CACHE_SIZE                  262144\n",
      "LEVEL2_CACHE_ASSOC                 8\n",
      "LEVEL2_CACHE_LINESIZE              64\n",
      "LEVEL3_CACHE_SIZE                  4194304\n",
      "LEVEL3_CACHE_ASSOC                 12\n",
      "LEVEL3_CACHE_LINESIZE              64\n",
      "LEVEL4_CACHE_SIZE                  0\n",
      "LEVEL4_CACHE_ASSOC                 \n",
      "LEVEL4_CACHE_LINESIZE              \n"
     ]
    }
   ],
   "source": [
    "#Se utilizo el comando para no adjuntar captura:\n",
    "!getconf -a | grep CACHE"
   ]
  },
  {
   "cell_type": "markdown",
   "metadata": {},
   "source": [
    "El tamaño de bloque es de 64 bytes tal como lo indica LEVEL1_DCACHE_LINESIZE.\n",
    "El tamaño total de la caché de datos es de 64 KiB\n"
   ]
  },
  {
   "cell_type": "markdown",
   "metadata": {},
   "source": [
    "8) (4.0 puntos) Basándose en todas las respuestas de los incisos anteriores, ¿qué\n",
    "implementación genera mejores tiempos de ejecución? Justificar su respuesta y\n",
    "responder si es que las implementaciones representan realmente una diferencia\n",
    "significativa"
   ]
  },
  {
   "cell_type": "markdown",
   "metadata": {},
   "source": [
    "Despues de todas las mediciones de tiempo, se puede obserbar y afirmar que la implementacion del primer programa jenera mejores tiempos de ejecucion frente al segundo programa ya que podemos ver incluso que el peor de sus tiempos despues de 15 ejecuciones es incluso mas bajo que los tiempos del segundo programa. Esto se debe a principalmente por que el acceso a memoria del arreglo es lo que hace demorar principalmente al programa2 ya que este utiliza un colum major forzado y no aprovecha al maximo todos los veneficios que le otorga la localidad espacial  de haberse usado el row major. Estos tiempos de acceso a memoria del arreglo dependen de como inicialmente el idioma c toma las matrices bidimensionales y los guarda en memoria que es row major. En caso se utilizara un lenguaje en el cual los arreglos los llega a guardar de manera colum major, esta seria una mejor opcion al llegar a hacer este tipo de programas.\n"
   ]
  },
  {
   "cell_type": "markdown",
   "metadata": {},
   "source": [
    "9) (3.0 puntos) ¿Cómo influye el tipo de datos del arreglo en este ejercicio? Esperaría\n",
    "resultados similares para un tipo char, short, long? Comentar acerca de su\n",
    "respuesta."
   ]
  },
  {
   "cell_type": "markdown",
   "metadata": {},
   "source": [
    "Influye bastante ya que para un arreglo o variables seguidas se tiene una posicion de memoria que utliza cierta cantidad de bytes segun el tamaño de su variable. Es decir, que en la memoria cache alcanzarian más bloques de variables si es que estas tuvieran un tipo más pequeño. \n",
    "\n",
    "En el ejemplo se utiliza int para enteros que tiene un tamaño de 32 bits es decir que cada variable ocupa una posicion de memoria de 32 bits que en bytes serian 4.\n",
    "\n",
    "Al tener una memoria cache de 64 bytes por bloque, se podria llegar a alojar en un bloque hasta 16 del tipo int, mientras que por otro lado,  si se utilizara alguno de mayor tamaño ejemplo double de 64 bits = 8 bytes entonces en un bloque solo podrian entrar 8, es decir ocuparian más espacio y habrian menos varibales en la memoria. Para tipos más grandes todavia más, reduciria la cantidad de variables que pueden estar por bloques en la memoria cache y aumentaria los tiempos de lectura y escritura, mientras por otra parte al ser más pequeños podrian llegar a almacenarse mas variables y esto 0eberia ayudar a reducir estos tiempos ya que pueden entrar más valores."
   ]
  }
 ],
 "metadata": {
  "kernelspec": {
   "display_name": "Python 3 (ipykernel)",
   "language": "python",
   "name": "python3"
  },
  "language_info": {
   "codemirror_mode": {
    "name": "ipython",
    "version": 3
   },
   "file_extension": ".py",
   "mimetype": "text/x-python",
   "name": "python",
   "nbconvert_exporter": "python",
   "pygments_lexer": "ipython3",
   "version": "3.10.11"
  }
 },
 "nbformat": 4,
 "nbformat_minor": 4
}
