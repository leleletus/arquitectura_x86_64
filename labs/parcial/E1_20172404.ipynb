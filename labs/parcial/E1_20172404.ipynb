{
  "cells": [
    {
      "attachments": {},
      "cell_type": "markdown",
      "metadata": {
        "id": "j05io74u5vwX"
      },
      "source": [
        "# Parte práctica (10 puntos)\n",
        "# Guardar su archivo como E1_codigoPUCP.ipynb (codigoPUCP representa su código PUCP, por favor, no llame el archivo literalmente E1_codigoPUCP.ipynb)\n",
        "\n",
        "Dado el arreglo L, se le pide encontrar y contar cuántos números son multiplos y divisores de un número N.\n",
        "\n",
        "Por ejemplo:\n",
        "\n",
        "L = [4, 10, 8, 35.3, 19, -5, 2, 32]\n",
        "\n",
        "N = 4\n",
        "\n",
        "arreglo_output = [1, 0, 1, 0, 0, 0, 1, 1]\n",
        "\n",
        "cantidad = 4"
      ]
    },
    {
      "attachments": {},
      "cell_type": "markdown",
      "metadata": {
        "id": "xbCJiYVu-Ral"
      },
      "source": [
        "a) (1.0 punto) Codificar la función en Python"
      ]
    },
    {
      "cell_type": "code",
      "execution_count": 17,
      "metadata": {
        "id": "uPrp3y9R59UV"
      },
      "outputs": [],
      "source": [
        "# Colocar librerías de python\n",
        "import numpy as np\n",
        "import time\n",
        "import matplotlib.pyplot as plt\n",
        "import statistics\n",
        "\n",
        "\n",
        "\n",
        "# Colocar sus argumentos de entrada y retorno\n",
        "def funcion_python(L,N):\n",
        "    cantidad=0 #cuantos son multiplos y/divisores\n",
        "    arreglo_output = np.array([])\n",
        "    tam=len(L)\n",
        "\n",
        "    for i in range (tam):\n",
        "        if L[i] % (N) == 0  or  (N) % L[i] == 0: #compruebo si es multiplo o divisor\n",
        "            cantidad+=1\n",
        "            arreglo_output=np.append(arreglo_output,1)        \n",
        "        else:\n",
        "            arreglo_output=np.append(arreglo_output,0)\n",
        "        \n",
        "\n",
        "    return (arreglo_output,cantidad)\n",
        "\n"
      ]
    },
    {
      "cell_type": "code",
      "execution_count": 18,
      "metadata": {},
      "outputs": [
        {
          "name": "stdout",
          "output_type": "stream",
          "text": [
            "[1. 0. 1. 0. 0. 0. 1. 1.]\n",
            "4\n"
          ]
        }
      ],
      "source": [
        "#probando el codigo:\n",
        "L = [4, 10, 8, 35.3, 19, -5, 2, 32]\n",
        "L1=[2,5,4,5,5,8,32]\n",
        "N=4\n",
        "a,b=funcion_python(L,N)\n",
        "print(a)\n",
        "print(b)"
      ]
    },
    {
      "attachments": {},
      "cell_type": "markdown",
      "metadata": {
        "id": "am_s_u9C-Yd8"
      },
      "source": [
        "b) (2.0 puntos) Codificar la función en C\n",
        "\n",
        "c) (3.0 puntos) Codificar la función en ASM\n",
        "\n",
        "Nota: Debe realizar el llamado de ASM desde el programa en C"
      ]
    },
    {
      "cell_type": "code",
      "execution_count": 136,
      "metadata": {
        "id": "KHhzWpS4-dds"
      },
      "outputs": [
        {
          "name": "stdout",
          "output_type": "stream",
          "text": [
            "Overwriting funcionc_main.c\n"
          ]
        }
      ],
      "source": [
        "%%file funcionc_main.c\n",
        "\n",
        "\n",
        "#include <stdio.h>\n",
        "#include <stdlib.h>\n",
        "extern int funcion_asm(float *L, int N, int *output, int terms);\n",
        "int funcion_c(float *L, int N, int *output, int terms);\n",
        "\n",
        "int main(void){\n",
        "\n",
        "    float L[] = {4, 10, 8, 35.3, 19, -5, 2, 32};\n",
        "    int N=4;\n",
        "\n",
        "    \n",
        "    int nterms=sizeof(L)/sizeof(L[0]);\n",
        "    int *output = (int*)malloc(nterms * sizeof(int));\n",
        "    \n",
        "\n",
        "    int cantidad;\n",
        "    cantidad=funcion_c(L,N,output,nterms);\n",
        "    printf(\"%d\\n\",cantidad);\n",
        "\n",
        "    for (int i=0;i<nterms;i++){\n",
        "        printf(\"%d \",output[i]);\n",
        "    }\n",
        "\n",
        "    printf(\"\\nutilizando la funcion en asm:\");\n",
        "    cantidad=funcion_asm(L,N,output,nterms);\n",
        "    printf(\"%d\\n\",cantidad);\n",
        "\n",
        "    for (int i=0;i<nterms;i++){\n",
        "        printf(\"%d \",output[i]);\n",
        "    }\n",
        "\n",
        "    return 0;\n",
        "}\n",
        "\n",
        "\n",
        "\n",
        "int funcion_c(float *L, int N, int *output,int terms){\n",
        "    int cantidad=0; //cuantos multiplos y/o divisores tiene\n",
        "    float temp;\n",
        "    \n",
        "    for (int i=0; i<terms; i++){\n",
        "        if( ((int)(L[i]) % (N)) == 0  ||  ((N) % (int)L[i] == 0)){\n",
        "            cantidad+=1;\n",
        "            output[i]=1;\n",
        "        }else{\n",
        "            output[i]=0;\n",
        "        }\n",
        "\n",
        "        //printf(\"%d \",output[i]);\n",
        "    }\n",
        "\n",
        "    return cantidad;\n",
        "}"
      ]
    },
    {
      "cell_type": "code",
      "execution_count": 137,
      "metadata": {
        "id": "L600i1QvCT4i"
      },
      "outputs": [
        {
          "name": "stdout",
          "output_type": "stream",
          "text": [
            "Writing funcion_asm.asm\n"
          ]
        }
      ],
      "source": [
        "%%file funcion_asm.asm\n",
        "\n",
        ";empezamos\n",
        "\n"
      ]
    },
    {
      "cell_type": "code",
      "execution_count": null,
      "metadata": {},
      "outputs": [],
      "source": [
        "#compilamos y creamos nuestro object file\n",
        "!nasm -f elf64 funcion_asm.asm -o funcion_asm.o -g"
      ]
    },
    {
      "cell_type": "code",
      "execution_count": 132,
      "metadata": {},
      "outputs": [
        {
          "name": "stdout",
          "output_type": "stream",
          "text": [
            "4\n",
            "1 0 1 0 0 0 1 1 "
          ]
        }
      ],
      "source": [
        "#compilamos nuestro codigo en c utilizando el object file de assembly \n",
        "#para poder usar la funcion externa\n",
        "! gcc funcion_asm.o funcionc_main -o funcionc_main"
      ]
    },
    {
      "cell_type": "code",
      "execution_count": null,
      "metadata": {},
      "outputs": [],
      "source": [
        "#ejecutando y  probando la funcion en c y la funcion en asm mediante el main c\n",
        "! ./funcionc_main"
      ]
    },
    {
      "attachments": {},
      "cell_type": "markdown",
      "metadata": {},
      "source": [
        "Una vez probado creo mi libreria"
      ]
    },
    {
      "cell_type": "code",
      "execution_count": 138,
      "metadata": {},
      "outputs": [
        {
          "name": "stdout",
          "output_type": "stream",
          "text": [
            "Overwriting libreria.c\n"
          ]
        }
      ],
      "source": [
        "%%file libreria.c\n",
        "\n",
        "\n",
        "#include <stdio.h>\n",
        "#include <stdlib.h>\n",
        "extern int funcion_asm(float *L, int N, int *output, int terms);\n",
        "\n",
        "int funcion_c(float *L, int N, int *output,int terms){\n",
        "    int cantidad=0; //cuantos multiplos y/o divisores tiene\n",
        "    float temp;\n",
        "    \n",
        "    for (int i=0; i<terms; i++){\n",
        "        if( ((int)(L[i]) % (N)) == 0  ||  ((N) % (int)L[i] == 0)){\n",
        "            cantidad+=1;\n",
        "            output[i]=1;\n",
        "        }else{\n",
        "            output[i]=0;\n",
        "        }\n",
        "\n",
        "        //printf(\"%d \",output[i]);\n",
        "    }\n",
        "\n",
        "    return cantidad;\n",
        "}"
      ]
    },
    {
      "cell_type": "code",
      "execution_count": 123,
      "metadata": {},
      "outputs": [],
      "source": [
        "#creo mi objet file de la libreria c\n",
        "! gcc -c libreria.c -o libreria.o\n",
        "\n",
        "#creo mi shared library para uarla en python\n",
        "! gcc -fPIC -shared libreria.o -o libreria.so"
      ]
    },
    {
      "cell_type": "code",
      "execution_count": null,
      "metadata": {},
      "outputs": [],
      "source": [
        "#creo mi objet file de la libreria asm\n",
        "! nasm -f elf64 funcion_asm.asm -o funcion_asm.o\n",
        "\n",
        "#creo mi shared library para uarla en python\n",
        "! gcc -fPIC -shared funcion_asm.o -o funcion_asm.so"
      ]
    },
    {
      "attachments": {},
      "cell_type": "markdown",
      "metadata": {
        "id": "zjxt7Y28CboD"
      },
      "source": [
        "(1.0 puntos) Llenar lo requerido por los espacios correspondientes "
      ]
    },
    {
      "cell_type": "code",
      "execution_count": 141,
      "metadata": {
        "colab": {
          "base_uri": "https://localhost:8080/"
        },
        "id": "U6MkOWZ1CnNh",
        "outputId": "7ad15bd0-2325-404c-f8e6-77994cafdfe0"
      },
      "outputs": [
        {
          "name": "stdout",
          "output_type": "stream",
          "text": [
            "Resultado en python\n",
            "Reemplazar por output de su función en Python\n",
            "Resultado en C\n",
            "Reemplazar por output de su función en C\n",
            "Resultado en ASM\n",
            "Reemplazar por output de su función en ASM\n"
          ]
        }
      ],
      "source": [
        "# (0.5 punto) Llamado a ambas funciones a través de ctypes - Colocar adecuadamente el tipo de dato\n",
        "def ctypes_link():\n",
        "    #cargamos la shared library\n",
        "    lib_C = ctypes.CDLL('./libreria.so')\n",
        "    lib_ASM = ctypes.CDLL('./funcion_asm.so')\n",
        "\n",
        "    #definimos los tipos de datos de cada uno\n",
        "    lib_C.libreria.argtypes = [\n",
        "        np.ctypeslib.ndpointer(dtype=np.float32),\n",
        "        ctypes.c_int,\n",
        "        np.ctypeslib.ndpointer(dtype=np.int32),\n",
        "        ctypes.c_int,\n",
        "    ]\n",
        "    #Para la función en ASM:\n",
        "    lib_ASM.funcion_asm.argtypes = [\n",
        "        np.ctypeslib.ndpointer(dtype=np.float32),\n",
        "        ctypes.c_int,\n",
        "        np.ctypeslib.ndpointer(dtype=np.int32),\n",
        "        ctypes.c_int,\n",
        "    ]\n",
        "\n",
        "    #definimos el tipo de dato de la salida para cada uno\n",
        "    lib_C.libreria.restype = ctypes.c_int #la cantidad de terminos\n",
        "\n",
        "    lib_ASM.funcion_asm.restype = ctypes.c_int  #la cantidad de terminos\n",
        "\n",
        "    return lib_C.libreria,lib_ASM.funcion_asm\n",
        "\n",
        "# (0.5 punto) Validación del funcionamiento de las funciones\n",
        "\n",
        "c_funcion,asm_funcion = ctypes_link()\n",
        "\n",
        "#Nota: Esta sección puede ser editada en la medida que le permita trabajar con sus funciones en ctypes\n",
        "# Por ejemplo, puede crear un nuevo L que haga el cast a un tipo numpy del tipo de dato que escoja\n",
        "# Arreglo\n",
        "L = [4, 10, 8, 35.3, 19, -5, 2, 32]\n",
        "# Valor de entrada\n",
        "N = 4\n",
        "\n",
        "print(\"Resultado en python\")\n",
        "print(\"Reemplazar por output de su función en Python\")\n",
        "\n",
        "print(\"Resultado en C\")\n",
        "print(\"Reemplazar por output de su función en C\")\n",
        "\n",
        "print(\"Resultado en ASM\")\n",
        "print(\"Reemplazar por output de su función en ASM\")\n",
        "\n"
      ]
    },
    {
      "attachments": {},
      "cell_type": "markdown",
      "metadata": {
        "id": "NBPZ-hkIN_Gz"
      },
      "source": [
        "(1.0 puntos) Análisis temporal: En 50 iteraciones generar una gráfica en donde se vea el tiempo de ejecución para un N = 1024. Crear una celda de texto y comentar acerca de la gráfica."
      ]
    },
    {
      "cell_type": "code",
      "execution_count": null,
      "metadata": {
        "id": "oOUP8_SAOE-b"
      },
      "outputs": [],
      "source": [
        "# Considerar que el arreglo podría no ser de enteros pero se puede utilizar la\n",
        "# función aleatoria de solo enteros para analizar temporalmente lo que sucede.\n",
        "# con el algoritmo. Puede hacer el cast que considere conveniente.\n",
        "Nuevo_L = np.random.randint(\"completar\")\n",
        "iteraciones = 50\n",
        "lista_py = []\n",
        "lista_c = []\n",
        "lista_asm = []\n",
        "for it in range(iteraciones):\n",
        "  \n",
        "  tic1 = time.perf_counter()\n",
        "  #colocar su función en python\n",
        "  toc1 = time.perf_counter()\n",
        "  lista_py.append(1e6*(toc1-tic1))\n",
        "\n",
        "  tic2 = time.perf_counter()\n",
        "  #colocar su función en C\n",
        "  toc2 = time.perf_counter()\n",
        "  lista_c.append(1e6*(toc2-tic2))\n",
        "\n",
        "  tic3 = time.perf_counter()\n",
        "  #colocar su función en ASM\n",
        "  toc3 = time.perf_counter()\n",
        "  lista_asm.append(1e6*(toc3-tic3))\n",
        "\n",
        "plt.plot(lista_py)\n",
        "plt.plot(lista_c)\n",
        "plt.plot(lista_asm)\n",
        "plt.legend(['Tiempo en Python, Tiempo en C', 'Tiempo en ASM'])\n",
        "plt.xlabel('iteraciones')\n",
        "plt.ylabel('[us]')\n",
        "plt.grid()\n",
        "plt.show()"
      ]
    },
    {
      "attachments": {},
      "cell_type": "markdown",
      "metadata": {
        "id": "xGqiFkhAPV-F"
      },
      "source": [
        " (2.0 puntos) Hallar el tiempo de ejecución y SpeedUP para un tamaño de arreglo de N = 512, 1024, 2048 y 4096. Crear una celda de texto y comentar acerca de sus resultados."
      ]
    },
    {
      "cell_type": "code",
      "execution_count": null,
      "metadata": {
        "id": "Sw3XWDbIPej-"
      },
      "outputs": [],
      "source": [
        "iteraciones = 30\n",
        "N_total = [512,1024,2048,4096]\n",
        "lista_py_total = []\n",
        "lista_c_total = []\n",
        "lista_asm_total = []\n",
        "for N in N_total:\n",
        "  Nuevo_L = np.random.randint(\"completar\")\n",
        "  lista_py = []\n",
        "  lista_c = []\n",
        "  lista_asm = []\n",
        "  for it in range(iteraciones):\n",
        "    \n",
        "    tic1 = time.perf_counter()\n",
        "    #colocar su función en python\n",
        "    toc1 = time.perf_counter()\n",
        "    lista_py.append(1e6*(toc1-tic1))\n",
        "\n",
        "    tic2 = time.perf_counter()\n",
        "    #colocar su función en C\n",
        "    toc2 = time.perf_counter()\n",
        "    lista_c.append(1e6*(toc2-tic2))\n",
        "\n",
        "    tic3 = time.perf_counter()\n",
        "    #colocar su función en ASM\n",
        "    toc3 = time.perf_counter()\n",
        "    lista_asm.append(1e6*(toc3-tic3))\n",
        "  lista_py_total.append(statistics.median(lista_py))\n",
        "  lista_c_total.append(statistics.median(lista_c))\n",
        "  lista_asm_total.append(statistics.median(lista_asm))\n",
        "\n",
        "  plt.plot(N_total, lista_py_total)\n",
        "  plt.plot(N_total, lista_c_total)\n",
        "  plt.plot(N_total, lista_asm_total)\n",
        "  plt.xlabel('N')\n",
        "  plt.ylabel('[us]')\n",
        "  plt.grid()\n",
        "  plt.show()"
      ]
    },
    {
      "cell_type": "code",
      "execution_count": null,
      "metadata": {
        "id": "Ci9TytMZR7MF"
      },
      "outputs": [],
      "source": [
        "  lista_SUp1_2 = [i//j for i,j in zip(lista_py_total, lista_c_total)]\n",
        "  lista_SUp1_3 = [i//j for i,j in zip(lista_py_total, lista_asm_total)]\n",
        "  \n",
        "  plt.plot(N_total, lista_py_total)\n",
        "  plt.plot(N_total, lista_c_total)\n",
        "  plt.plot(N_total, lista_asm_total)\n",
        "  plt.xlabel('N')\n",
        "  plt.ylabel('SpeedUP')\n",
        "  plt.grid()\n",
        "  plt.show()"
      ]
    }
  ],
  "metadata": {
    "colab": {
      "provenance": []
    },
    "kernelspec": {
      "display_name": "Python 3",
      "name": "python3"
    },
    "language_info": {
      "name": "python"
    }
  },
  "nbformat": 4,
  "nbformat_minor": 0
}
