{
 "cells": [
  {
   "cell_type": "code",
   "execution_count": 19,
   "metadata": {},
   "outputs": [
    {
     "name": "stdout",
     "output_type": "stream",
     "text": [
      "10\n",
      "b'\\x80\\x04\\x95\\x0e\\x00\\x00\\x00\\x00\\x00\\x00\\x00\\x8c\\n###$$$$###\\x94.'\n",
      "###$$$$###\n",
      "10\n",
      "b'I Saw Her Standing There'\n",
      "I Saw Her Standing There\n",
      "5016\n",
      "\n"
     ]
    }
   ],
   "source": [
    "import time\n",
    "import socket\n",
    "import time\n",
    "import pickle\n",
    "\n",
    "\n",
    "\n",
    "\n",
    "with open(\"pregunta1.txt\", \"r\") as f: #abrimos en solo lectura ya que solo extraemos datos\n",
    "        contenido = f.read() #guardamos en contenido\n",
    "\n",
    "filas = contenido.split(\"\\n\")#separamos en filas (cada que encuentre un enter/newline)\n",
    "data= \"###$$$$###\"\n",
    "print(len(data))\n",
    "byteado = pickle.dumps(data)\n",
    "print(byteado)\n",
    "desbyteado = pickle.loads(byteado)\n",
    "print(desbyteado)\n",
    "print(len(desbyteado))\n",
    "\n",
    "a=filas[0].encode('utf-8')\n",
    "print(a)\n",
    "b=a.decode('utf-8')\n",
    "print(b)\n",
    "\n",
    "\n",
    "\n",
    "print(len(filas))\n",
    "print(filas[5015]) #es la vacia de 0 a 5015 hay 516\n",
    "\n",
    "\n",
    "time.sleep(1) # espera en segundo"
   ]
  },
  {
   "cell_type": "code",
   "execution_count": 26,
   "metadata": {},
   "outputs": [
    {
     "name": "stdout",
     "output_type": "stream",
     "text": [
      "NUMERO: 6\n"
     ]
    }
   ],
   "source": [
    "dato= \"Misery\" #6bytees\n",
    "cant=str(len(dato)).encode('utf-8')\n",
    "print(F\"NUMERO: {cant.decode('utf-8')}\")"
   ]
  },
  {
   "cell_type": "code",
   "execution_count": null,
   "metadata": {},
   "outputs": [],
   "source": []
  }
 ],
 "metadata": {
  "kernelspec": {
   "display_name": "Python 3",
   "language": "python",
   "name": "python3"
  },
  "language_info": {
   "codemirror_mode": {
    "name": "ipython",
    "version": 3
   },
   "file_extension": ".py",
   "mimetype": "text/x-python",
   "name": "python",
   "nbconvert_exporter": "python",
   "pygments_lexer": "ipython3",
   "version": "3.10.6"
  },
  "orig_nbformat": 4
 },
 "nbformat": 4,
 "nbformat_minor": 2
}
