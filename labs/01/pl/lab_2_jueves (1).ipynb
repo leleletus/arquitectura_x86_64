{
  "nbformat": 4,
  "nbformat_minor": 0,
  "metadata": {
    "colab": {
      "provenance": []
    },
    "kernelspec": {
      "name": "python3",
      "display_name": "Python 3"
    },
    "language_info": {
      "name": "python"
    }
  },
  "cells": [
    {
      "cell_type": "markdown",
      "source": [
        "# Laboratorio 2\n",
        "\n",
        "## Funciones, iteraciones, condiciones de parada y memoria dinámica"
      ],
      "metadata": {
        "id": "UO_jqIfY_J7a"
      }
    },
    {
      "cell_type": "code",
      "execution_count": 34,
      "metadata": {
        "colab": {
          "base_uri": "https://localhost:8080/"
        },
        "id": "F3baeRyf-3nC",
        "outputId": "6f315572-66c6-4186-e02d-eab24c7847c3"
      },
      "outputs": [
        {
          "output_type": "stream",
          "name": "stdout",
          "text": [
            "Overwriting lab2.c\n"
          ]
        }
      ],
      "source": [
        "%%file lab2.c\n",
        "\n",
        "#include <math.h>\n",
        "#include <stdio.h>\n",
        "#include <stdlib.h>\n",
        "\n",
        "double s_formula(double ra){\n",
        "    return (ra / (1 - ra));\n",
        "}\n",
        "\n",
        "double s_for(int cant_terms, double* terms){\n",
        "    double s = 0;\n",
        "    for(int i = 0; i < cant_terms; i++){\n",
        "        s += 1 / (pow(2.0, (double)(i+1)));\n",
        "        terms[i] = s;\n",
        "    }\n",
        "    return s;\n",
        "}\n",
        "\n",
        "double s_while_1(double ref, double cota, double tol, int max_iter){\n",
        "    double s = 0;\n",
        "    int i = 0;\n",
        "    double term = 0.0;\n",
        "    double eps = 0.0;\n",
        "    while( 1 ){\n",
        "        term = 1 / (pow(2.0, (double)(i+1)));\n",
        "\n",
        "        if (term < cota){\n",
        "            break;\n",
        "        }\n",
        "\n",
        "        s += term;\n",
        "\n",
        "        eps = fabs(ref - s) / ref;\n",
        "\n",
        "        if (eps < tol) {\n",
        "            break;\n",
        "        }\n",
        "\n",
        "        i++;\n",
        "\n",
        "        if (i > max_iter){\n",
        "            break;\n",
        "        }\n",
        "    }\n",
        "    return s;\n",
        "}\n",
        "\n",
        "double s_while_2(double tol, int max_iter){\n",
        "    double s = 0;\n",
        "    int i = 0;\n",
        "    double eps = 1.0;\n",
        "    double s_ant = 0.0;\n",
        "    while( 1 ){ \n",
        "        s += 1 / (pow(2.0, (double)(i+1)));\n",
        "\n",
        "        if (i > 0){\n",
        "            eps = fabs(s_ant - s) / s_ant;\n",
        "        }\n",
        "\n",
        "        if (eps < tol) {\n",
        "            break;\n",
        "        }\n",
        "\n",
        "        s_ant = s;\n",
        "\n",
        "        i++;\n",
        "\n",
        "        if (i > max_iter){\n",
        "            break;\n",
        "        }\n",
        "    }\n",
        "    return s;\n",
        "}\n",
        "\n",
        "void print_terms(int N, double* terms){\n",
        "    printf(\"%lf\\t%lf\\t%lf\\t%lf\\n\", terms[N-4], terms[N-3], terms[N-2], terms[N-1]);\n",
        "}\n",
        "\n",
        "int main(){\n",
        "    \n",
        "    double ref = s_formula(0.5);\n",
        "    double tol = 1e-4;\n",
        "\n",
        "    int cant_terms = 8;\n",
        "    double* for_terms = (double*)malloc(sizeof(double)*cant_terms);\n",
        "\n",
        "    printf(\"ref:%lf\\n\", ref);\n",
        "    printf(\"s_for:%lf\\n\", s_for(cant_terms, for_terms));\n",
        "    print_terms(cant_terms, for_terms);\n",
        "    printf(\"s_while_1:%lf\\n\", s_while_1(ref, 0.005, tol, 10));\n",
        "    printf(\"s_while_2:%lf\\n\", s_while_2(tol, 10));\n",
        "    return 0;\n",
        "}"
      ]
    },
    {
      "cell_type": "code",
      "source": [
        "! gcc lab2.c -o lab2 -lm"
      ],
      "metadata": {
        "id": "FJ06VlSlAlGa"
      },
      "execution_count": 35,
      "outputs": []
    },
    {
      "cell_type": "code",
      "source": [
        "! ./lab2"
      ],
      "metadata": {
        "colab": {
          "base_uri": "https://localhost:8080/"
        },
        "id": "YbMjZeX1AqDQ",
        "outputId": "c47dafae-862b-432e-a931-ed979782af59"
      },
      "execution_count": 36,
      "outputs": [
        {
          "output_type": "stream",
          "name": "stdout",
          "text": [
            "ref:1.000000\n",
            "s_for:0.996094\n",
            "0.968750\t0.984375\t0.992188\t0.996094\n",
            "s_while_1:0.992188\n",
            "s_while_2:0.999512\n"
          ]
        }
      ]
    },
    {
      "cell_type": "code",
      "source": [
        "def s_for(cant_terms):\n",
        "  s = 0\n",
        "  l = []\n",
        "  for i in range(cant_terms):\n",
        "    s += 1.0 / (2.0 ** (i + 1))\n",
        "    l.append(s)\n",
        "  return s, l"
      ],
      "metadata": {
        "id": "yv4BoKXwAvCY"
      },
      "execution_count": 45,
      "outputs": []
    },
    {
      "cell_type": "code",
      "source": [
        "s, l = s_for(5)"
      ],
      "metadata": {
        "id": "peS-uXHpJ0DL"
      },
      "execution_count": 53,
      "outputs": []
    },
    {
      "cell_type": "code",
      "source": [
        "import matplotlib.pyplot as plt"
      ],
      "metadata": {
        "id": "RDQGY8k5K4oa"
      },
      "execution_count": 56,
      "outputs": []
    },
    {
      "cell_type": "code",
      "source": [
        "plt.plot([1,2,3,4,5], l, '-.o')\n",
        "plt.title('Serie Geométrica')\n",
        "plt.grid(True)"
      ],
      "metadata": {
        "colab": {
          "base_uri": "https://localhost:8080/",
          "height": 452
        },
        "id": "uyy0jGUZK9xq",
        "outputId": "779475a7-4bed-49c4-fa07-3b1419935238"
      },
      "execution_count": 63,
      "outputs": [
        {
          "output_type": "display_data",
          "data": {
            "text/plain": [
              "<Figure size 640x480 with 1 Axes>"
            ],
            "image/png": "[encoded data removed]"
          },
          "metadata": {}
        }
      ]
    }
  ]
}