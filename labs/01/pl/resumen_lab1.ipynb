{
 "cells": [
  {
   "attachments": {},
   "cell_type": "markdown",
   "metadata": {},
   "source": [
    "Lab 1 consideraciones:\n",
    "\n",
    "Para comentar en c //\n",
    "\n",
    "Para comentar en python #\n",
    "\n",
    "Para comentar en bash #\n",
    "\n",
    "Para comentar en assembly ;\n",
    "\n"
   ]
  },
  {
   "cell_type": "code",
   "execution_count": 23,
   "metadata": {},
   "outputs": [
    {
     "name": "stdout",
     "output_type": "stream",
     "text": [
      "archivo\t\t LAB1_20172404.zip    pregunta1.c   resumen_lab1.ipynb\n",
      "calcula_final\t Lab1_dirigido.ipynb  pregunta2.py\n",
      "calcula_final.c  Lab1.pdf\t      pregunta3.sh\n"
     ]
    }
   ],
   "source": [
    "#para ver que archivos hay en la direccion del terminal\n",
    "! ls\n",
    "# se muestran todos los archivos  y directorios (folders) desde donde se ejecuto el comando"
   ]
  },
  {
   "cell_type": "code",
   "execution_count": 27,
   "metadata": {},
   "outputs": [
    {
     "name": "stdout",
     "output_type": "stream",
     "text": [
      "rm: cannot remove 'archivo': No such file or directory\n"
     ]
    }
   ],
   "source": [
    "#si deseamos crear una direccion (\"folder\") usamos:\n",
    "! mkdir archivo\n",
    "\n",
    "#para remover/borrar directorios vacios:\n",
    "! rmdir archivo\n"
   ]
  },
  {
   "cell_type": "code",
   "execution_count": 58,
   "metadata": {},
   "outputs": [],
   "source": [
    "!mkdir -p archivo   # crea  direccion/\"folder\" y todos los que sean necesarios\n",
    "!touch archivo/a.txt #crea el archivo\n",
    "\n",
    "# Elimina el directorio llamado \"archivo\" y su contenido de forma recursiva -r\n",
    "!rm -r archivo "
   ]
  },
  {
   "cell_type": "code",
   "execution_count": 32,
   "metadata": {},
   "outputs": [
    {
     "data": {
      "application/json": {
       "cell": {
        "!": "OSMagics",
        "HTML": "Other",
        "SVG": "Other",
        "bash": "Other",
        "capture": "ExecutionMagics",
        "debug": "ExecutionMagics",
        "file": "Other",
        "html": "DisplayMagics",
        "javascript": "DisplayMagics",
        "js": "DisplayMagics",
        "latex": "DisplayMagics",
        "markdown": "DisplayMagics",
        "perl": "Other",
        "prun": "ExecutionMagics",
        "pypy": "Other",
        "python": "Other",
        "python2": "Other",
        "python3": "Other",
        "ruby": "Other",
        "script": "ScriptMagics",
        "sh": "Other",
        "svg": "DisplayMagics",
        "sx": "OSMagics",
        "system": "OSMagics",
        "time": "ExecutionMagics",
        "timeit": "ExecutionMagics",
        "writefile": "OSMagics"
       },
       "line": {
        "alias": "OSMagics",
        "alias_magic": "BasicMagics",
        "autoawait": "AsyncMagics",
        "autocall": "AutoMagics",
        "automagic": "AutoMagics",
        "autosave": "KernelMagics",
        "bookmark": "OSMagics",
        "cat": "Other",
        "cd": "OSMagics",
        "clear": "KernelMagics",
        "colors": "BasicMagics",
        "conda": "PackagingMagics",
        "config": "ConfigMagics",
        "connect_info": "KernelMagics",
        "cp": "Other",
        "debug": "ExecutionMagics",
        "dhist": "OSMagics",
        "dirs": "OSMagics",
        "doctest_mode": "BasicMagics",
        "ed": "Other",
        "edit": "KernelMagics",
        "env": "OSMagics",
        "gui": "BasicMagics",
        "hist": "Other",
        "history": "HistoryMagics",
        "killbgscripts": "ScriptMagics",
        "ldir": "Other",
        "less": "KernelMagics",
        "lf": "Other",
        "lk": "Other",
        "ll": "Other",
        "load": "CodeMagics",
        "load_ext": "ExtensionMagics",
        "loadpy": "CodeMagics",
        "logoff": "LoggingMagics",
        "logon": "LoggingMagics",
        "logstart": "LoggingMagics",
        "logstate": "LoggingMagics",
        "logstop": "LoggingMagics",
        "ls": "Other",
        "lsmagic": "BasicMagics",
        "lx": "Other",
        "macro": "ExecutionMagics",
        "magic": "BasicMagics",
        "man": "KernelMagics",
        "matplotlib": "PylabMagics",
        "mkdir": "Other",
        "more": "KernelMagics",
        "mv": "Other",
        "notebook": "BasicMagics",
        "page": "BasicMagics",
        "pastebin": "CodeMagics",
        "pdb": "ExecutionMagics",
        "pdef": "NamespaceMagics",
        "pdoc": "NamespaceMagics",
        "pfile": "NamespaceMagics",
        "pinfo": "NamespaceMagics",
        "pinfo2": "NamespaceMagics",
        "pip": "PackagingMagics",
        "popd": "OSMagics",
        "pprint": "BasicMagics",
        "precision": "BasicMagics",
        "prun": "ExecutionMagics",
        "psearch": "NamespaceMagics",
        "psource": "NamespaceMagics",
        "pushd": "OSMagics",
        "pwd": "OSMagics",
        "pycat": "OSMagics",
        "pylab": "PylabMagics",
        "qtconsole": "KernelMagics",
        "quickref": "BasicMagics",
        "recall": "HistoryMagics",
        "rehashx": "OSMagics",
        "reload_ext": "ExtensionMagics",
        "rep": "Other",
        "rerun": "HistoryMagics",
        "reset": "NamespaceMagics",
        "reset_selective": "NamespaceMagics",
        "rm": "Other",
        "rmdir": "Other",
        "run": "ExecutionMagics",
        "save": "CodeMagics",
        "sc": "OSMagics",
        "set_env": "OSMagics",
        "store": "StoreMagics",
        "sx": "OSMagics",
        "system": "OSMagics",
        "tb": "ExecutionMagics",
        "time": "ExecutionMagics",
        "timeit": "ExecutionMagics",
        "unalias": "OSMagics",
        "unload_ext": "ExtensionMagics",
        "who": "NamespaceMagics",
        "who_ls": "NamespaceMagics",
        "whos": "NamespaceMagics",
        "xdel": "NamespaceMagics",
        "xmode": "BasicMagics"
       }
      },
      "text/plain": [
       "Available line magics:\n",
       "%alias  %alias_magic  %autoawait  %autocall  %automagic  %autosave  %bookmark  %cat  %cd  %clear  %colors  %conda  %config  %connect_info  %cp  %debug  %dhist  %dirs  %doctest_mode  %ed  %edit  %env  %gui  %hist  %history  %killbgscripts  %ldir  %less  %lf  %lk  %ll  %load  %load_ext  %loadpy  %logoff  %logon  %logstart  %logstate  %logstop  %ls  %lsmagic  %lx  %macro  %magic  %man  %matplotlib  %mkdir  %more  %mv  %notebook  %page  %pastebin  %pdb  %pdef  %pdoc  %pfile  %pinfo  %pinfo2  %pip  %popd  %pprint  %precision  %prun  %psearch  %psource  %pushd  %pwd  %pycat  %pylab  %qtconsole  %quickref  %recall  %rehashx  %reload_ext  %rep  %rerun  %reset  %reset_selective  %rm  %rmdir  %run  %save  %sc  %set_env  %store  %sx  %system  %tb  %time  %timeit  %unalias  %unload_ext  %who  %who_ls  %whos  %xdel  %xmode\n",
       "\n",
       "Available cell magics:\n",
       "%%!  %%HTML  %%SVG  %%bash  %%capture  %%debug  %%file  %%html  %%javascript  %%js  %%latex  %%markdown  %%perl  %%prun  %%pypy  %%python  %%python2  %%python3  %%ruby  %%script  %%sh  %%svg  %%sx  %%system  %%time  %%timeit  %%writefile\n",
       "\n",
       "Automagic is ON, % prefix IS NOT needed for line magics."
      ]
     },
     "execution_count": 32,
     "metadata": {},
     "output_type": "execute_result"
    }
   ],
   "source": [
    "#para ver todos los \"comandos magicos\"\n",
    "%lsmagic"
   ]
  },
  {
   "cell_type": "code",
   "execution_count": 55,
   "metadata": {},
   "outputs": [
    {
     "name": "stdout",
     "output_type": "stream",
     "text": [
      "Hola mundo\n",
      "total 144\n",
      "-rwxrwxr-x 1 djvemo djvemo 16136 Mar 23 20:35 calcula_final\n",
      "-rw-rw-r-- 1 djvemo djvemo   529 Mar 23 20:35 calcula_final.c\n",
      "-rw-r--r-- 1 root   root    2826 Mar 24 19:38 LAB1_20172404.zip\n",
      "-rw-rw-r-- 1 djvemo djvemo 12523 May  8 14:38 Lab1_dirigido.ipynb\n",
      "-rw-rw-r-- 1 djvemo djvemo 79249 May  8 14:38 Lab1.pdf\n",
      "-rw-rw-r-- 1 djvemo djvemo  3295 Mar 24 19:24 pregunta1.c\n",
      "-rw-rw-r-- 1 djvemo djvemo  1410 Mar 24 19:25 pregunta2.py\n",
      "-rw-rw-r-- 1 djvemo djvemo  1220 Mar 24 19:36 pregunta3.sh\n",
      "-rw-rw-r-- 1 djvemo djvemo  8846 May  8 15:10 resumen_lab1.ipynb\n",
      "/home/djvemo/arqui/labs/01/pl\n",
      "/home/djvemo/arqui/labs/01\n"
     ]
    }
   ],
   "source": [
    "%%bash \n",
    "#para ejecurar comandos shell en una celda\n",
    "#%%shell  #para ejecutar comandos shell en google colab\n",
    "\n",
    "echo \"Hola mundo\" #que escriba en la consola, tambien puede escribir en documentos vacios\n",
    "ls -l #muestra información detallada sobre cada archivo y directorio en el directorio especificado\n",
    "#permisos, propietario, grupo al que le pertenece, tamaño en bytes, fecha y hora, nombre\n",
    "\n",
    "pwd #muestra en que directorio se encuentra el terminal\n",
    "cd .. #retrocede , sale de un sub directorio\n",
    "pwd"
   ]
  },
  {
   "cell_type": "code",
   "execution_count": 73,
   "metadata": {},
   "outputs": [
    {
     "name": "stdout",
     "output_type": "stream",
     "text": [
      "/home/djvemo\n",
      "/home/djvemo/arqui/clases_1/semana01\n",
      "/home/djvemo/arqui/clases_1/semana03\n",
      "/home/djvemo/arqui/clases_1/semana01\n",
      "/home/djvemo/arqui/clases_1\n"
     ]
    }
   ],
   "source": [
    "%%bash\n",
    "#%%shell  #para ejecutar comandos shell en google colab\n",
    "\n",
    "cd ~            #(va al home)\n",
    "pwd #para ver dnde estoy\n",
    "cd ~/arqui/clases_1/semana01    #(~ desde el directorio default , en este caso home/djvemo ingresa al dir arqui )\n",
    "pwd #para ver donde estoy\n",
    "cd ~/arqui/clases_1/semana03 #cambiando\n",
    "pwd #para ver donde estoy\n",
    "cd -         #(regresa al directorio anterior) y te muestra a donde fue\n",
    "cd ..        #(retrocede)\n",
    "pwd #para ver a donde te retrocedio"
   ]
  },
  {
   "cell_type": "code",
   "execution_count": 92,
   "metadata": {},
   "outputs": [
    {
     "name": "stdout",
     "output_type": "stream",
     "text": [
      "Creamos archivo pollo.h\n",
      "ejecutamos tree\n",
      "\u001b[01;34m.\u001b[0m\n",
      "├── \u001b[00ma.drawio\u001b[0m\n",
      "├── \u001b[01;32mcalcula_final\u001b[0m\n",
      "├── \u001b[00mcalcula_final.c\u001b[0m\n",
      "├── \u001b[01;31mLAB1_20172404.zip\u001b[0m\n",
      "├── \u001b[00mLab1_dirigido.ipynb\u001b[0m\n",
      "├── \u001b[00mLab1.pdf\u001b[0m\n",
      "├── \u001b[00mpollo.h\u001b[0m\n",
      "├── \u001b[00mpregunta1.c\u001b[0m\n",
      "├── \u001b[00mpregunta2.py\u001b[0m\n",
      "├── \u001b[00mpregunta3.sh\u001b[0m\n",
      "└── \u001b[00mresumen_lab1.ipynb\u001b[0m\n",
      "\n",
      "0 directories, 11 files\n",
      "buscamos el archivo pollo\n",
      "./pollo.h\n",
      "listamos los archivos en esta direccion\n",
      "a.drawio\n",
      "calcula_final\n",
      "calcula_final.c\n",
      "LAB1_20172404.zip\n",
      "Lab1_dirigido.ipynb\n",
      "Lab1.pdf\n",
      "pregunta1.c\n",
      "pregunta2.py\n",
      "pregunta3.sh\n",
      "resumen_lab1.ipynb\n"
     ]
    }
   ],
   "source": [
    "%%bash\n",
    "\n",
    "echo \"Creamos archivo pollo.h\"\n",
    "touch pollo.h #creamos un file\n",
    "echo \"ejecutamos tree\"\n",
    "tree     #(muestra todo desde ese lugar para adelante)\n",
    "echo \"buscamos el archivo pollo\"\n",
    "find -name pollo.h -print #(busca (/ despues de find si deseas buscar desde raiz y con su) con nombre pollo.h final y muestra dir)\n",
    "cp pollo.h pollo2.h #copia un archivo  \"a\" con otro nombre \"b\"\n",
    "cp pollo.h pollo2.h ~/arqui/labs/01 #(copia varios archivos a la dirección)\n",
    "rm pollo.h pollo2.h     #(borra archivo)\n",
    "echo \"listamos los archivos en esta direccion\"\n",
    "ls\n",
    "\n",
    "\n"
   ]
  },
  {
   "cell_type": "code",
   "execution_count": 96,
   "metadata": {},
   "outputs": [],
   "source": [
    "%%bash\n",
    "touch script.sh #creamos un archivo de tipo script\n",
    "chmod +x script.sh     #(para volverlo ejecutable como un .sh)\n",
    "bash script.sh    #para ejecutar el arhivo con atributo ejecutable\n",
    "./script.sh      #otra forma y mas usada de ejecutar\n",
    "history -c     #borra el historial de comandos usados\n",
    "\n",
    "\n",
    "\n"
   ]
  },
  {
   "cell_type": "code",
   "execution_count": null,
   "metadata": {},
   "outputs": [],
   "source": [
    "Aprendiendo a utilizar chmod para cambiar atributos/permisos\n",
    "\n",
    "chmod     ( octal, con simbolos ,cambiar de modos /permisos usuariogrupos otros)\n",
    "\n",
    "Parámetros -R (recursivo, todos los de adentro)  -v (verbose)\n",
    "\n",
    "Lectura 4, escritura 2 y ejecución 1, 0 sin permisos, ,a suma de estos ambos\n",
    "\n",
    "Usuario o propietario, grupo y otros (ejemplo chmod 744 usuario todo, demás lectura)\n",
    "\n",
    "Si usamos símbolos (u de user, g de group, o de other, a de all)\n",
    "\n",
    " + - = (añade remueve asigna) r w x (leer escribir ejecutar)\n",
    "\n",
    "Ejemplo chmod a+ rw    (todos lean y escriben)\n"
   ]
  }
 ],
 "metadata": {
  "kernelspec": {
   "display_name": "Python 3",
   "language": "python",
   "name": "python3"
  },
  "language_info": {
   "codemirror_mode": {
    "name": "ipython",
    "version": 3
   },
   "file_extension": ".py",
   "mimetype": "text/x-python",
   "name": "python",
   "nbconvert_exporter": "python",
   "pygments_lexer": "ipython3",
   "version": "3.10.6"
  },
  "orig_nbformat": 4
 },
 "nbformat": 4,
 "nbformat_minor": 2
}
