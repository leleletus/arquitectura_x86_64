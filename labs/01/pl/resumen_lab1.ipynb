{
 "cells": [
  {
   "attachments": {},
   "cell_type": "markdown",
   "metadata": {},
   "source": [
    "Lab 1 consideraciones:\n",
    "\n",
    "Para comentar en c //\n",
    "\n",
    "Para comentar en python #\n",
    "\n",
    "Para comentar en bash #\n",
    "\n",
    "Para comentar en assembly ;\n",
    "\n"
   ]
  },
  {
   "cell_type": "code",
   "execution_count": 74,
   "metadata": {},
   "outputs": [
    {
     "name": "stdout",
     "output_type": "stream",
     "text": [
      "calcula_final\t  hola_mundo.py        nota_final.sh  primo.py\n",
      "calcula_final.c   hola_mundo.sh        pregunta1.c    resumen_lab1.ipynb\n",
      "calcula_final.py  Lab1\t\t       pregunta2.py   script.sh\n",
      "exp_primo.sh\t  LAB1_20172404.zip    pregunta3.sh\n",
      "hola_mundo\t  Lab1_dirigido.ipynb  primo\n",
      "hola_mundo.c\t  Lab1.pdf\t       primo.c\n"
     ]
    }
   ],
   "source": [
    "#para ver que archivos hay en la direccion del terminal\n",
    "! ls\n",
    "# se muestran todos los archivos  y directorios (folders) desde donde se ejecuto el comando"
   ]
  },
  {
   "cell_type": "code",
   "execution_count": 75,
   "metadata": {},
   "outputs": [],
   "source": [
    "#si deseamos crear una direccion (\"folder\") usamos:\n",
    "! mkdir archivo\n",
    "\n",
    "#para remover/borrar directorios vacios:\n",
    "! rmdir archivo\n"
   ]
  },
  {
   "cell_type": "code",
   "execution_count": 76,
   "metadata": {},
   "outputs": [],
   "source": [
    "!mkdir -p archivo   # crea  direccion/\"folder\" y todos los que sean necesarios\n",
    "!touch archivo/a.txt #crea el archivo\n",
    "\n",
    "# Elimina el directorio llamado \"archivo\" y su contenido de forma recursiva -r\n",
    "!rm -r archivo "
   ]
  },
  {
   "cell_type": "code",
   "execution_count": 77,
   "metadata": {},
   "outputs": [
    {
     "data": {
      "application/json": {
       "cell": {
        "!": "OSMagics",
        "HTML": "Other",
        "SVG": "Other",
        "bash": "Other",
        "capture": "ExecutionMagics",
        "debug": "ExecutionMagics",
        "file": "Other",
        "html": "DisplayMagics",
        "javascript": "DisplayMagics",
        "js": "DisplayMagics",
        "latex": "DisplayMagics",
        "markdown": "DisplayMagics",
        "perl": "Other",
        "prun": "ExecutionMagics",
        "pypy": "Other",
        "python": "Other",
        "python2": "Other",
        "python3": "Other",
        "ruby": "Other",
        "script": "ScriptMagics",
        "sh": "Other",
        "svg": "DisplayMagics",
        "sx": "OSMagics",
        "system": "OSMagics",
        "time": "ExecutionMagics",
        "timeit": "ExecutionMagics",
        "writefile": "OSMagics"
       },
       "line": {
        "alias": "OSMagics",
        "alias_magic": "BasicMagics",
        "autoawait": "AsyncMagics",
        "autocall": "AutoMagics",
        "automagic": "AutoMagics",
        "autosave": "KernelMagics",
        "bookmark": "OSMagics",
        "cat": "Other",
        "cd": "OSMagics",
        "clear": "KernelMagics",
        "colors": "BasicMagics",
        "conda": "PackagingMagics",
        "config": "ConfigMagics",
        "connect_info": "KernelMagics",
        "cp": "Other",
        "debug": "ExecutionMagics",
        "dhist": "OSMagics",
        "dirs": "OSMagics",
        "doctest_mode": "BasicMagics",
        "ed": "Other",
        "edit": "KernelMagics",
        "env": "OSMagics",
        "gui": "BasicMagics",
        "hist": "Other",
        "history": "HistoryMagics",
        "killbgscripts": "ScriptMagics",
        "ldir": "Other",
        "less": "KernelMagics",
        "lf": "Other",
        "lk": "Other",
        "ll": "Other",
        "load": "CodeMagics",
        "load_ext": "ExtensionMagics",
        "loadpy": "CodeMagics",
        "logoff": "LoggingMagics",
        "logon": "LoggingMagics",
        "logstart": "LoggingMagics",
        "logstate": "LoggingMagics",
        "logstop": "LoggingMagics",
        "ls": "Other",
        "lsmagic": "BasicMagics",
        "lx": "Other",
        "macro": "ExecutionMagics",
        "magic": "BasicMagics",
        "man": "KernelMagics",
        "matplotlib": "PylabMagics",
        "mkdir": "Other",
        "more": "KernelMagics",
        "mv": "Other",
        "notebook": "BasicMagics",
        "page": "BasicMagics",
        "pastebin": "CodeMagics",
        "pdb": "ExecutionMagics",
        "pdef": "NamespaceMagics",
        "pdoc": "NamespaceMagics",
        "pfile": "NamespaceMagics",
        "pinfo": "NamespaceMagics",
        "pinfo2": "NamespaceMagics",
        "pip": "PackagingMagics",
        "popd": "OSMagics",
        "pprint": "BasicMagics",
        "precision": "BasicMagics",
        "prun": "ExecutionMagics",
        "psearch": "NamespaceMagics",
        "psource": "NamespaceMagics",
        "pushd": "OSMagics",
        "pwd": "OSMagics",
        "pycat": "OSMagics",
        "pylab": "PylabMagics",
        "qtconsole": "KernelMagics",
        "quickref": "BasicMagics",
        "recall": "HistoryMagics",
        "rehashx": "OSMagics",
        "reload_ext": "ExtensionMagics",
        "rep": "Other",
        "rerun": "HistoryMagics",
        "reset": "NamespaceMagics",
        "reset_selective": "NamespaceMagics",
        "rm": "Other",
        "rmdir": "Other",
        "run": "ExecutionMagics",
        "save": "CodeMagics",
        "sc": "OSMagics",
        "set_env": "OSMagics",
        "store": "StoreMagics",
        "sx": "OSMagics",
        "system": "OSMagics",
        "tb": "ExecutionMagics",
        "time": "ExecutionMagics",
        "timeit": "ExecutionMagics",
        "unalias": "OSMagics",
        "unload_ext": "ExtensionMagics",
        "who": "NamespaceMagics",
        "who_ls": "NamespaceMagics",
        "whos": "NamespaceMagics",
        "xdel": "NamespaceMagics",
        "xmode": "BasicMagics"
       }
      },
      "text/plain": [
       "Available line magics:\n",
       "%alias  %alias_magic  %autoawait  %autocall  %automagic  %autosave  %bookmark  %cat  %cd  %clear  %colors  %conda  %config  %connect_info  %cp  %debug  %dhist  %dirs  %doctest_mode  %ed  %edit  %env  %gui  %hist  %history  %killbgscripts  %ldir  %less  %lf  %lk  %ll  %load  %load_ext  %loadpy  %logoff  %logon  %logstart  %logstate  %logstop  %ls  %lsmagic  %lx  %macro  %magic  %man  %matplotlib  %mkdir  %more  %mv  %notebook  %page  %pastebin  %pdb  %pdef  %pdoc  %pfile  %pinfo  %pinfo2  %pip  %popd  %pprint  %precision  %prun  %psearch  %psource  %pushd  %pwd  %pycat  %pylab  %qtconsole  %quickref  %recall  %rehashx  %reload_ext  %rep  %rerun  %reset  %reset_selective  %rm  %rmdir  %run  %save  %sc  %set_env  %store  %sx  %system  %tb  %time  %timeit  %unalias  %unload_ext  %who  %who_ls  %whos  %xdel  %xmode\n",
       "\n",
       "Available cell magics:\n",
       "%%!  %%HTML  %%SVG  %%bash  %%capture  %%debug  %%file  %%html  %%javascript  %%js  %%latex  %%markdown  %%perl  %%prun  %%pypy  %%python  %%python2  %%python3  %%ruby  %%script  %%sh  %%svg  %%sx  %%system  %%time  %%timeit  %%writefile\n",
       "\n",
       "Automagic is ON, % prefix IS NOT needed for line magics."
      ]
     },
     "execution_count": 77,
     "metadata": {},
     "output_type": "execute_result"
    }
   ],
   "source": [
    "#para ver todos los \"comandos magicos\"\n",
    "%lsmagic"
   ]
  },
  {
   "cell_type": "code",
   "execution_count": 78,
   "metadata": {},
   "outputs": [
    {
     "name": "stdout",
     "output_type": "stream",
     "text": [
      "Hola mundo\n",
      "total 236\n",
      "-rwxrwxr-x 1 djvemo djvemo 16088 May 14 23:33 calcula_final\n",
      "-rw-rw-r-- 1 djvemo djvemo   566 May 14 23:33 calcula_final.c\n",
      "-rw-rw-r-- 1 djvemo djvemo   499 May 14 23:29 calcula_final.py\n",
      "-rw-rw-r-- 1 djvemo djvemo   880 May 15 02:04 exp_primo.sh\n",
      "-rwxrwxr-x 1 djvemo djvemo 16008 May 15 01:36 hola_mundo\n",
      "-rw-rw-r-- 1 djvemo djvemo   578 May 15 01:36 hola_mundo.c\n",
      "-rw-rw-r-- 1 djvemo djvemo    89 May 14 21:40 hola_mundo.py\n",
      "-rw-rw-r-- 1 djvemo djvemo    58 May 14 23:00 hola_mundo.sh\n",
      "drwxrwxr-x 2 djvemo djvemo  4096 May 15 02:08 Lab1\n",
      "-rw-r--r-- 1 root   root    2826 Mar 24 19:38 LAB1_20172404.zip\n",
      "-rw-rw-r-- 1 djvemo djvemo 12593 May  8 15:56 Lab1_dirigido.ipynb\n",
      "-rw-rw-r-- 1 djvemo djvemo 79249 May  8 14:38 Lab1.pdf\n",
      "-rw-rw-r-- 1 djvemo djvemo   100 May 14 23:34 nota_final.sh\n",
      "-rw-rw-r-- 1 djvemo djvemo  3295 Mar 24 19:24 pregunta1.c\n",
      "-rw-rw-r-- 1 djvemo djvemo  1410 Mar 24 19:25 pregunta2.py\n",
      "-rw-rw-r-- 1 djvemo djvemo  1220 Mar 24 19:36 pregunta3.sh\n",
      "-rwxrwxr-x 1 djvemo djvemo 16048 May 15 01:44 primo\n",
      "-rw-rw-r-- 1 djvemo djvemo  1267 May 15 01:44 primo.c\n",
      "-rw-rw-r-- 1 djvemo djvemo   741 May 15 01:50 primo.py\n",
      "-rw-rw-r-- 1 djvemo djvemo 36839 May 15 02:09 resumen_lab1.ipynb\n",
      "-rwxrwxr-x 1 djvemo djvemo     0 May 14 23:26 script.sh\n",
      "/home/djvemo/arqui/labs/01/pl\n",
      "/home/djvemo/arqui/labs/01\n"
     ]
    }
   ],
   "source": [
    "%%bash \n",
    "#para ejecurar comandos shell en una celda\n",
    "#%%shell  #para ejecutar comandos shell en google colab\n",
    "\n",
    "echo \"Hola mundo\" #que escriba en la consola, tambien puede escribir en documentos vacios\n",
    "ls -l #muestra información detallada sobre cada archivo y directorio en el directorio especificado\n",
    "#permisos, propietario, grupo al que le pertenece, tamaño en bytes, fecha y hora, nombre\n",
    "\n",
    "pwd #muestra en que directorio se encuentra el terminal\n",
    "cd .. #retrocede , sale de un sub directorio\n",
    "pwd"
   ]
  },
  {
   "cell_type": "code",
   "execution_count": 79,
   "metadata": {},
   "outputs": [
    {
     "name": "stdout",
     "output_type": "stream",
     "text": [
      "/home/djvemo\n",
      "/home/djvemo/arqui/clases_1/semana01\n",
      "/home/djvemo/arqui/clases_1/semana03\n",
      "/home/djvemo/arqui/clases_1/semana01\n",
      "/home/djvemo/arqui/clases_1\n"
     ]
    }
   ],
   "source": [
    "%%bash\n",
    "#%%shell  #para ejecutar comandos shell en google colab\n",
    "\n",
    "cd ~            #(va al home)\n",
    "pwd #para ver dnde estoy\n",
    "cd ~/arqui/clases_1/semana01    #(~ desde el directorio default , en este caso home/djvemo ingresa al dir arqui )\n",
    "pwd #para ver donde estoy\n",
    "cd ~/arqui/clases_1/semana03 #cambiando\n",
    "pwd #para ver donde estoy\n",
    "cd -         #(regresa al directorio anterior) y te muestra a donde fue\n",
    "cd ..        #(retrocede)\n",
    "pwd #para ver a donde te retrocedio"
   ]
  },
  {
   "cell_type": "code",
   "execution_count": 80,
   "metadata": {},
   "outputs": [
    {
     "name": "stdout",
     "output_type": "stream",
     "text": [
      "Creamos archivo pollo.h\n",
      "ejecutamos tree\n",
      "\u001b[01;34m.\u001b[0m\n",
      "├── \u001b[01;32mcalcula_final\u001b[0m\n",
      "├── \u001b[00mcalcula_final.c\u001b[0m\n",
      "├── \u001b[00mcalcula_final.py\u001b[0m\n",
      "├── \u001b[00mexp_primo.sh\u001b[0m\n",
      "├── \u001b[01;32mhola_mundo\u001b[0m\n",
      "├── \u001b[00mhola_mundo.c\u001b[0m\n",
      "├── \u001b[00mhola_mundo.py\u001b[0m\n",
      "├── \u001b[00mhola_mundo.sh\u001b[0m\n",
      "├── \u001b[01;34mLab1\u001b[0m\n",
      "│   ├── \u001b[00mexp_primo.sh\u001b[0m\n",
      "│   ├── \u001b[00mprimo.c\u001b[0m\n",
      "│   └── \u001b[00mprimo.py\u001b[0m\n",
      "├── \u001b[01;31mLAB1_20172404.zip\u001b[0m\n",
      "├── \u001b[00mLab1_dirigido.ipynb\u001b[0m\n",
      "├── \u001b[00mLab1.pdf\u001b[0m\n",
      "├── \u001b[00mnota_final.sh\u001b[0m\n",
      "├── \u001b[00mpollo.h\u001b[0m\n",
      "├── \u001b[00mpregunta1.c\u001b[0m\n",
      "├── \u001b[00mpregunta2.py\u001b[0m\n",
      "├── \u001b[00mpregunta3.sh\u001b[0m\n",
      "├── \u001b[01;32mprimo\u001b[0m\n",
      "├── \u001b[00mprimo.c\u001b[0m\n",
      "├── \u001b[00mprimo.py\u001b[0m\n",
      "├── \u001b[00mresumen_lab1.ipynb\u001b[0m\n",
      "└── \u001b[01;32mscript.sh\u001b[0m\n",
      "\n",
      "1 directory, 24 files\n",
      "buscamos el archivo pollo\n",
      "./pollo.h\n",
      "listamos los archivos en esta direccion\n",
      "calcula_final\n",
      "calcula_final.c\n",
      "calcula_final.py\n",
      "exp_primo.sh\n",
      "hola_mundo\n",
      "hola_mundo.c\n",
      "hola_mundo.py\n",
      "hola_mundo.sh\n",
      "Lab1\n",
      "LAB1_20172404.zip\n",
      "Lab1_dirigido.ipynb\n",
      "Lab1.pdf\n",
      "nota_final.sh\n",
      "pregunta1.c\n",
      "pregunta2.py\n",
      "pregunta3.sh\n",
      "primo\n",
      "primo.c\n",
      "primo.py\n",
      "resumen_lab1.ipynb\n",
      "script.sh\n"
     ]
    }
   ],
   "source": [
    "%%bash\n",
    "\n",
    "#(para escribir puros comandos en jupyter %%shell en colab)\n",
    "\n",
    "echo \"Creamos archivo pollo.h\"\n",
    "touch pollo.h #creamos un file\n",
    "echo \"ejecutamos tree\"\n",
    "tree     #(muestra todo desde ese lugar para adelante)\n",
    "echo \"buscamos el archivo pollo\"\n",
    "find -name pollo.h -print #(busca (/ despues de find si deseas buscar desde raiz y con su) con nombre pollo.h final y muestra dir)\n",
    "cp pollo.h pollo2.h #copia un archivo  \"a\" con otro nombre \"b\"\n",
    "cp pollo.h pollo2.h ~/arqui/labs/01 #(copia varios archivos a la dirección)\n",
    "rm pollo.h pollo2.h     #(borra archivo)\n",
    "echo \"listamos los archivos en esta direccion\"\n",
    "ls\n",
    "\n",
    "\n"
   ]
  },
  {
   "cell_type": "code",
   "execution_count": 81,
   "metadata": {},
   "outputs": [],
   "source": [
    "%%bash\n",
    "touch script.sh #creamos un archivo de tipo script\n",
    "chmod +x script.sh     #(para volverlo ejecutable como un .sh)\n",
    "bash script.sh    #para ejecutar el arhivo con atributo ejecutable\n",
    "./script.sh      #otra forma y mas usada de ejecutar\n",
    "history -c     #borra el historial de comandos usados\n",
    "\n",
    "\n",
    "\n"
   ]
  },
  {
   "attachments": {},
   "cell_type": "markdown",
   "metadata": {},
   "source": [
    "# Aprendiendo a utilizar chmod para cambiar atributos/permisos\n",
    "\n",
    "## chmod \n",
    "( octal, con simbolos ,cambiar de modos /permisos usuario grupos otros)\n",
    "\n",
    "## Parámetros \n",
    "-R (recursivo, todos los de adentro)\n",
    "\n",
    "-v (verbose)\n",
    "\n",
    "Lectura 4, escritura 2 y ejecución 1, 0 sin permisos, a  (all) suma de todos estos\n",
    "\n",
    "Usuario o propietario, grupo y otros (ejemplo chmod 744 usuario todo, demás lectura)\n",
    "\n",
    "Si usamos símbolos (u de user, g de group, o de other, a de all)\n",
    "\n",
    " +,-,=  (añade remueve asigna)   r w x (leer escribir ejecutar)\n",
    "\n",
    "Ejemplo chmod a+ rw    (a todos les agrega que lean y escriben)\n"
   ]
  },
  {
   "attachments": {},
   "cell_type": "markdown",
   "metadata": {},
   "source": [
    "# 1) Hacer programas “Hello World” en C, Python, y Bash."
   ]
  },
  {
   "cell_type": "code",
   "execution_count": 82,
   "metadata": {},
   "outputs": [
    {
     "name": "stdout",
     "output_type": "stream",
     "text": [
      "Overwriting hola_mundo.py\n"
     ]
    }
   ],
   "source": [
    "%%file hola_mundo.py\n",
    "#creando un archivo en python\n",
    "#al usar file genera un nuevo archivo\n",
    "\n",
    "print(\"Hola Diego\")"
   ]
  },
  {
   "cell_type": "code",
   "execution_count": 83,
   "metadata": {},
   "outputs": [
    {
     "name": "stdout",
     "output_type": "stream",
     "text": [
      "Hola Diego\n"
     ]
    }
   ],
   "source": [
    "#para ejecutar en terminal\n",
    "! python3 hola_mundo.py\n"
   ]
  },
  {
   "cell_type": "code",
   "execution_count": 84,
   "metadata": {},
   "outputs": [
    {
     "name": "stdout",
     "output_type": "stream",
     "text": [
      "Overwriting hola_mundo.c\n"
     ]
    }
   ],
   "source": [
    "%%file hola_mundo.c\n",
    "\n",
    "//creando un archivo .c\n",
    "//lo mas recomendado es editarlo directamente\n",
    "#include <stdio.h> //libreria basica\n",
    "\n",
    "int main(int argc, char *argv[]){\n",
    "    printf(\"Hola mundo\\r\\n\");\n",
    "\n",
    "    //calculando el tamaño de cada tipo\n",
    "    printf(\"El tamaño de un short es: %zu bytes\\n\", sizeof(short));\n",
    "    printf(\"El tamaño de un int es: %zu bytes\\n\", sizeof(int));\n",
    "    printf(\"El tamaño de un float es: %zu bytes\\n\", sizeof(float));\n",
    "    printf(\"El tamaño de un long es: %zu bytes\\n\", sizeof(long));\n",
    "    printf(\"El tamaño de un double es: %zu bytes\\n\", sizeof(double));\n",
    "    \n",
    "\n",
    "    return 0;\n",
    "}\n"
   ]
  },
  {
   "cell_type": "code",
   "execution_count": 85,
   "metadata": {},
   "outputs": [],
   "source": [
    "#para compilar \n",
    "! gcc hola_mundo.c -o hola_mundo\n"
   ]
  },
  {
   "cell_type": "code",
   "execution_count": 86,
   "metadata": {},
   "outputs": [
    {
     "name": "stdout",
     "output_type": "stream",
     "text": [
      "Hola mundo\n",
      "El tamaño de un short es: 2 bytes\n",
      "El tamaño de un int es: 4 bytes\n",
      "El tamaño de un float es: 4 bytes\n",
      "El tamaño de un long es: 8 bytes\n",
      "El tamaño de un double es: 8 bytes\n"
     ]
    }
   ],
   "source": [
    "#para ejecutar el ejecutable creado\n",
    "! ./hola_mundo"
   ]
  },
  {
   "cell_type": "code",
   "execution_count": 87,
   "metadata": {},
   "outputs": [
    {
     "name": "stdout",
     "output_type": "stream",
     "text": [
      "Overwriting hola_mundo.sh\n"
     ]
    }
   ],
   "source": [
    "%%file hola_mundo.sh\n",
    "#creando un bash (sh)\n",
    "\n",
    "#!/usr/bin/bash\n",
    "\n",
    "echo \"Hola mundo\""
   ]
  },
  {
   "cell_type": "code",
   "execution_count": 88,
   "metadata": {},
   "outputs": [
    {
     "name": "stdout",
     "output_type": "stream",
     "text": [
      "Hola mundo\n"
     ]
    }
   ],
   "source": [
    "#ejecutando el .sh\n",
    "! bash hola_mundo.sh"
   ]
  },
  {
   "attachments": {},
   "cell_type": "markdown",
   "metadata": {},
   "source": [
    "# 2) calcular el promedio de 2 números que se ingresan vía el terminal "
   ]
  },
  {
   "cell_type": "code",
   "execution_count": 89,
   "metadata": {},
   "outputs": [
    {
     "name": "stdout",
     "output_type": "stream",
     "text": [
      "Overwriting calcula_final.py\n"
     ]
    }
   ],
   "source": [
    "%%file calcula_final.py\n",
    "#en python\n",
    "\n",
    "import sys #para recibir parametros de entrada\n",
    "\n",
    "def nota_del_final(a, b):\n",
    "  res = (110 - 3*a - 3*b) / 4\n",
    "  print(\"Calculando por cuánto me voy:\", res)\n",
    "  return res\n",
    "\n",
    "if len(sys.argv) != 3: #siempre la mimsa funcion es un parametro asi serian 2 + name\n",
    "  print(\"Debe ingresar exactamente 2 notas\") #de no recibir 2 mostrar esto\n",
    "  sys.exit(0) #se acaba\n",
    "\n",
    "x = int(sys.argv[1]) #guardamos el primero  cast de entero para pasarlo a entero\n",
    "y = int(sys.argv[2]) #guardamos el segundo\n",
    "\n",
    "resultado = nota_del_final(x, y)\n",
    "print(resultado)"
   ]
  },
  {
   "cell_type": "code",
   "execution_count": 90,
   "metadata": {},
   "outputs": [
    {
     "name": "stdout",
     "output_type": "stream",
     "text": [
      "Calculando por cuánto me voy: 5.75\n",
      "5.75\n"
     ]
    }
   ],
   "source": [
    "! python3 calcula_final.py 10 19"
   ]
  },
  {
   "cell_type": "code",
   "execution_count": 91,
   "metadata": {},
   "outputs": [
    {
     "name": "stdout",
     "output_type": "stream",
     "text": [
      "Overwriting calcula_final.c\n"
     ]
    }
   ],
   "source": [
    "%%file calcula_final.c\n",
    "//en C\n",
    "\n",
    "#include <stdio.h>\n",
    "#include <stdlib.h>\n",
    "\n",
    "int nota_del_final(int a, int b){\n",
    "    return (110 - 3*a - 3*b) / 4;\n",
    "}\n",
    "\n",
    "int main(int argc, char *argv[]){ //el primero cantidad(count) y el segundo los argumentos\n",
    "    \n",
    "  if(argc != 3){ //argc es 3 = 2 argumentos + name\n",
    "      printf(\"Debe ingresar exactamente 2 notas\\r\\n\");\n",
    "      return 0;\n",
    "  }\n",
    "\n",
    "  int x = atoi(argv[1]); //guardamos en la primera\n",
    "  int y = atoi(argv[2]); //atoi convierte cadena a entero\n",
    "  //ya que lo recibe como ascii o utf-8 convertimos al numero\n",
    "\n",
    "  printf(\"Me voy por: %d\", nota_del_final(x, y));\n",
    "}"
   ]
  },
  {
   "cell_type": "code",
   "execution_count": 92,
   "metadata": {},
   "outputs": [],
   "source": [
    "! gcc calcula_final.c -o calcula_final"
   ]
  },
  {
   "cell_type": "code",
   "execution_count": 93,
   "metadata": {},
   "outputs": [
    {
     "name": "stdout",
     "output_type": "stream",
     "text": [
      "Me voy por: 5"
     ]
    }
   ],
   "source": [
    "! ./calcula_final 10 19"
   ]
  },
  {
   "cell_type": "code",
   "execution_count": 94,
   "metadata": {},
   "outputs": [
    {
     "name": "stdout",
     "output_type": "stream",
     "text": [
      "Overwriting nota_final.sh\n"
     ]
    }
   ],
   "source": [
    "%%file nota_final.sh\n",
    "#ahora haciendo en bash\n",
    "\n",
    "#!/usr/bin/bash\n",
    "\n",
    "time python3 calcula_final.py $1 $2\n",
    "./calcula_final $1 $2"
   ]
  },
  {
   "cell_type": "code",
   "execution_count": 95,
   "metadata": {},
   "outputs": [
    {
     "name": "stdout",
     "output_type": "stream",
     "text": [
      "Calculando por cuánto me voy: -2.5\n",
      "-2.5\n",
      "\n",
      "real\t0m0.196s\n",
      "user\t0m0.052s\n",
      "sys\t0m0.001s\n",
      "Me voy por: -2"
     ]
    }
   ],
   "source": [
    "! bash nota_final.sh 20 20"
   ]
  },
  {
   "attachments": {},
   "cell_type": "markdown",
   "metadata": {},
   "source": [
    "# Codificar el programa en C primo.c el cual solo imprima el mensaje “El número X es primo”, siendo X un número ingresado por terminal. Sugerencia: Utilizar el operador %"
   ]
  },
  {
   "cell_type": "code",
   "execution_count": 96,
   "metadata": {},
   "outputs": [
    {
     "name": "stdout",
     "output_type": "stream",
     "text": [
      "Overwriting primo.c\n"
     ]
    }
   ],
   "source": [
    "%%file primo.c\n",
    "\n",
    "#include <stdio.h>\n",
    "#include <stdlib.h>\n",
    "\n",
    "\n",
    "int main(int argc, char *argv[]) { //siempre igual si recibiremos argumentos\n",
    "    // Verificar si se ingresó un argumento\n",
    "    if (argc != 2) { //verificamos si ingreso 1 (el name (siempre fijo y primero + argumento))\n",
    "        printf(\"Ingrese solo 1 numero\\n\" );\n",
    "        return 0; //acabamos\n",
    "    }\n",
    "\n",
    "    // Convertir el argumento a un entero\n",
    "    int n = atoi(argv[1]); //guardamos el argumento ingresado como numero entero (ascii to integer)\n",
    "    int es_primo = 1; //1 es verdadero y 0 falso\n",
    "\n",
    "    // Verificar si el número es primo\n",
    "    if (n <= 1) {\n",
    "        es_primo = 0; // numeros como el 1 o menores no son primos\n",
    "    } else {\n",
    "        for (int i = 2; i * i <= n; i++) { //desde el 2 puede ser primo\n",
    "            if (n % i == 0) { //calculamos el cuadrado desde 2 hasta el numero y verificamos si tiene division perfecta\n",
    "                es_primo = 0; //si lo tiene quiere decir que tiene un divisor aparte del 0 y si mismo\n",
    "                break; //apenas encontramos 1 divisor sabemos que no sera primo y se acaba\n",
    "            }\n",
    "        }\n",
    "    }\n",
    "\n",
    "    // Imprimir el resultado\n",
    "    if (es_primo) {\n",
    "        printf(\"El número %d es primo\\n\", n);\n",
    "    } else {\n",
    "        printf(\"El número %d no es primo\\n\", n);\n",
    "    }\n",
    "\n",
    "    return 0;\n",
    "}"
   ]
  },
  {
   "cell_type": "code",
   "execution_count": 97,
   "metadata": {},
   "outputs": [],
   "source": [
    "! gcc primo.c -o primo"
   ]
  },
  {
   "cell_type": "code",
   "execution_count": 98,
   "metadata": {},
   "outputs": [
    {
     "name": "stdout",
     "output_type": "stream",
     "text": [
      "El número 9 no es primo\n"
     ]
    }
   ],
   "source": [
    "! ./primo 9"
   ]
  },
  {
   "attachments": {},
   "cell_type": "markdown",
   "metadata": {},
   "source": [
    "# Codificar un programa en Python3 primo.py el cual que solo imprima el mensaje “El número X es primo”, siendo X un número ingresado por terminal. Sugerencia: Utilizar el operador %."
   ]
  },
  {
   "cell_type": "code",
   "execution_count": 99,
   "metadata": {},
   "outputs": [
    {
     "name": "stdout",
     "output_type": "stream",
     "text": [
      "Overwriting primo.py\n"
     ]
    }
   ],
   "source": [
    "%%file primo.py\n",
    "\n",
    "import sys\n",
    "\n",
    "def main():\n",
    "    # Verificar si se ingresó un argumento\n",
    "    if len(sys.argv) != 2:\n",
    "        print(\"Ingrese solo 1 numero\")\n",
    "        return\n",
    "\n",
    "    # Convertir el argumento a un entero\n",
    "    n = int(sys.argv[1])\n",
    "    es_primo = 1\n",
    "\n",
    "    # Verificar si el número es primo\n",
    "    if n <= 1:\n",
    "        es_primo = 0\n",
    "    else:\n",
    "        for i in range(2, int(n**(0.5))+1): #calcula la raiz cuadrada y le suma 1 y lo redondea abajo\n",
    "            if n % i == 0: # si encuentra algun divisor\n",
    "                es_primo = 0 #entonces no es primo \n",
    "                break\n",
    "\n",
    "    # Imprimir el resultado\n",
    "    if es_primo:\n",
    "        print(f\"El número {n} es primo\")\n",
    "    else:\n",
    "        print(f\"El número {n} no es primo\")\n",
    "\n",
    "\n",
    "if __name__ == \"__main__\":\n",
    "    main()\n",
    "#para poder ejecutarlo directamente como independiente 0\n",
    "#poderlo llamar como modulo y usar la funcion cuando desee\n"
   ]
  },
  {
   "cell_type": "code",
   "execution_count": 100,
   "metadata": {},
   "outputs": [
    {
     "name": "stdout",
     "output_type": "stream",
     "text": [
      "El número 6 no es primo\n"
     ]
    }
   ],
   "source": [
    "! python3 primo.py 6"
   ]
  },
  {
   "attachments": {},
   "cell_type": "markdown",
   "metadata": {},
   "source": [
    "# Codificar el programa de BASH exp_primo.sh que halle los numeros primos del 1 al 100 utilizando los programas de los incisos anteriores. Considerar que debe generar un for-loop para cada uno. Calcular el tiempo de ejecución de cada uno. Nota: Para el programa en C, utilizar únicamente el ejecutable\n"
   ]
  },
  {
   "cell_type": "code",
   "execution_count": 101,
   "metadata": {},
   "outputs": [
    {
     "name": "stdout",
     "output_type": "stream",
     "text": [
      "Overwriting exp_primo.sh\n"
     ]
    }
   ],
   "source": [
    "%%file exp_primo.sh\n",
    "\n",
    "#!/bin/bash  #siempre para indicar bash\n",
    "\n",
    "\n",
    "# Encontrar los números primos del 1 al 100 con primo.c\n",
    "echo \"Números primos del 1 al 100 (primo.c):\" #para mostrar en terminal\n",
    "start=$(date +%s.%N) #obtenemos un timepo de inicio\n",
    "for i in {1..100}; do #repetimos las 100 veces\n",
    "    ./primo $i #ejecutamos pasandole el parametro\n",
    "done #acaba el for\n",
    "end=$(date +%s.%N) #obtenemos tiempo final\n",
    "runtime=$(echo \"$end - $start\" | bc) #echo lo imprime, bc calculamos la diferencia\n",
    "echo \"Tiempo de ejecución: $runtime segundos\" #mostramos tiempos\n",
    "#time (ejecutable) mide el tiempo de ejecucion del scriot,py,c \n",
    "\n",
    "\n",
    "# Encontrar los números primos del 1 al 100 con primo.py\n",
    "echo \"Números primos del 1 al 100 (primo.py):\"\n",
    "start=$(date +%s.%N)\n",
    "for i in {1..100}; do\n",
    "    python3 primo.py $i\n",
    "done\n",
    "end=$(date +%s.%N)\n",
    "runtime=$(echo \"$end - $start\" | bc)\n",
    "echo \"Tiempo de ejecución: $runtime segundos\""
   ]
  },
  {
   "cell_type": "code",
   "execution_count": 102,
   "metadata": {},
   "outputs": [
    {
     "name": "stdout",
     "output_type": "stream",
     "text": [
      "Números primos del 1 al 100 (primo.c):\n",
      "El número 1 no es primo\n",
      "El número 2 es primo\n",
      "El número 3 es primo\n",
      "El número 4 no es primo\n",
      "El número 5 es primo\n",
      "El número 6 no es primo\n",
      "El número 7 es primo\n",
      "El número 8 no es primo\n",
      "El número 9 no es primo\n",
      "El número 10 no es primo\n",
      "El número 11 es primo\n",
      "El número 12 no es primo\n",
      "El número 13 es primo\n",
      "El número 14 no es primo\n",
      "El número 15 no es primo\n",
      "El número 16 no es primo\n",
      "El número 17 es primo\n",
      "El número 18 no es primo\n",
      "El número 19 es primo\n",
      "El número 20 no es primo\n",
      "El número 21 no es primo\n",
      "El número 22 no es primo\n",
      "El número 23 es primo\n",
      "El número 24 no es primo\n",
      "El número 25 no es primo\n",
      "El número 26 no es primo\n",
      "El número 27 no es primo\n",
      "El número 28 no es primo\n",
      "El número 29 es primo\n",
      "El número 30 no es primo\n",
      "El número 31 es primo\n",
      "El número 32 no es primo\n",
      "El número 33 no es primo\n",
      "El número 34 no es primo\n",
      "El número 35 no es primo\n",
      "El número 36 no es primo\n",
      "El número 37 es primo\n",
      "El número 38 no es primo\n",
      "El número 39 no es primo\n",
      "El número 40 no es primo\n",
      "El número 41 es primo\n",
      "El número 42 no es primo\n",
      "El número 43 es primo\n",
      "El número 44 no es primo\n",
      "El número 45 no es primo\n",
      "El número 46 no es primo\n",
      "El número 47 es primo\n",
      "El número 48 no es primo\n",
      "El número 49 no es primo\n",
      "El número 50 no es primo\n",
      "El número 51 no es primo\n",
      "El número 52 no es primo\n",
      "El número 53 es primo\n",
      "El número 54 no es primo\n",
      "El número 55 no es primo\n",
      "El número 56 no es primo\n",
      "El número 57 no es primo\n",
      "El número 58 no es primo\n",
      "El número 59 es primo\n",
      "El número 60 no es primo\n",
      "El número 61 es primo\n",
      "El número 62 no es primo\n",
      "El número 63 no es primo\n",
      "El número 64 no es primo\n",
      "El número 65 no es primo\n",
      "El número 66 no es primo\n",
      "El número 67 es primo\n",
      "El número 68 no es primo\n",
      "El número 69 no es primo\n",
      "El número 70 no es primo\n",
      "El número 71 es primo\n",
      "El número 72 no es primo\n",
      "El número 73 es primo\n",
      "El número 74 no es primo\n",
      "El número 75 no es primo\n",
      "El número 76 no es primo\n",
      "El número 77 no es primo\n",
      "El número 78 no es primo\n",
      "El número 79 es primo\n",
      "El número 80 no es primo\n",
      "El número 81 no es primo\n",
      "El número 82 no es primo\n",
      "El número 83 es primo\n",
      "El número 84 no es primo\n",
      "El número 85 no es primo\n",
      "El número 86 no es primo\n",
      "El número 87 no es primo\n",
      "El número 88 no es primo\n",
      "El número 89 es primo\n",
      "El número 90 no es primo\n",
      "El número 91 no es primo\n",
      "El número 92 no es primo\n",
      "El número 93 no es primo\n",
      "El número 94 no es primo\n",
      "El número 95 no es primo\n",
      "El número 96 no es primo\n",
      "El número 97 es primo\n",
      "El número 98 no es primo\n",
      "El número 99 no es primo\n",
      "El número 100 no es primo\n",
      "Tiempo de ejecución: .119929339 segundos\n",
      "Números primos del 1 al 100 (primo.py):\n",
      "El número 1 no es primo\n",
      "El número 2 es primo\n",
      "El número 3 es primo\n",
      "El número 4 no es primo\n",
      "El número 5 es primo\n",
      "El número 6 no es primo\n",
      "El número 7 es primo\n",
      "El número 8 no es primo\n",
      "El número 9 no es primo\n",
      "El número 10 no es primo\n",
      "El número 11 es primo\n",
      "El número 12 no es primo\n",
      "El número 13 es primo\n",
      "El número 14 no es primo\n",
      "El número 15 no es primo\n",
      "El número 16 no es primo\n",
      "El número 17 es primo\n",
      "El número 18 no es primo\n",
      "El número 19 es primo\n",
      "El número 20 no es primo\n",
      "El número 21 no es primo\n",
      "El número 22 no es primo\n",
      "El número 23 es primo\n",
      "El número 24 no es primo\n",
      "El número 25 no es primo\n",
      "El número 26 no es primo\n",
      "El número 27 no es primo\n",
      "El número 28 no es primo\n",
      "El número 29 es primo\n",
      "El número 30 no es primo\n",
      "El número 31 es primo\n",
      "El número 32 no es primo\n",
      "El número 33 no es primo\n",
      "El número 34 no es primo\n",
      "El número 35 no es primo\n",
      "El número 36 no es primo\n",
      "El número 37 es primo\n",
      "El número 38 no es primo\n",
      "El número 39 no es primo\n",
      "El número 40 no es primo\n",
      "El número 41 es primo\n",
      "El número 42 no es primo\n",
      "El número 43 es primo\n",
      "El número 44 no es primo\n",
      "El número 45 no es primo\n",
      "El número 46 no es primo\n",
      "El número 47 es primo\n",
      "El número 48 no es primo\n",
      "El número 49 no es primo\n",
      "El número 50 no es primo\n",
      "El número 51 no es primo\n",
      "El número 52 no es primo\n",
      "El número 53 es primo\n",
      "El número 54 no es primo\n",
      "El número 55 no es primo\n",
      "El número 56 no es primo\n",
      "El número 57 no es primo\n",
      "El número 58 no es primo\n",
      "El número 59 es primo\n",
      "El número 60 no es primo\n",
      "El número 61 es primo\n",
      "El número 62 no es primo\n",
      "El número 63 no es primo\n",
      "El número 64 no es primo\n",
      "El número 65 no es primo\n",
      "El número 66 no es primo\n",
      "El número 67 es primo\n",
      "El número 68 no es primo\n",
      "El número 69 no es primo\n",
      "El número 70 no es primo\n",
      "El número 71 es primo\n",
      "El número 72 no es primo\n",
      "El número 73 es primo\n",
      "El número 74 no es primo\n",
      "El número 75 no es primo\n",
      "El número 76 no es primo\n",
      "El número 77 no es primo\n",
      "El número 78 no es primo\n",
      "El número 79 es primo\n",
      "El número 80 no es primo\n",
      "El número 81 no es primo\n",
      "El número 82 no es primo\n",
      "El número 83 es primo\n",
      "El número 84 no es primo\n",
      "El número 85 no es primo\n",
      "El número 86 no es primo\n",
      "El número 87 no es primo\n",
      "El número 88 no es primo\n",
      "El número 89 es primo\n",
      "El número 90 no es primo\n",
      "El número 91 no es primo\n",
      "El número 92 no es primo\n",
      "El número 93 no es primo\n",
      "El número 94 no es primo\n",
      "El número 95 no es primo\n",
      "El número 96 no es primo\n",
      "El número 97 es primo\n",
      "El número 98 no es primo\n",
      "El número 99 no es primo\n",
      "El número 100 no es primo\n",
      "Tiempo de ejecución: 4.195833038 segundos\n"
     ]
    }
   ],
   "source": [
    "!bash exp_primo.sh"
   ]
  },
  {
   "attachments": {},
   "cell_type": "markdown",
   "metadata": {},
   "source": [
    "# Mostrar los permisos que tiene actualmente exp_primo.sh.\n"
   ]
  },
  {
   "cell_type": "code",
   "execution_count": 103,
   "metadata": {},
   "outputs": [
    {
     "name": "stdout",
     "output_type": "stream",
     "text": [
      "-rw-rw-r-- 1 djvemo djvemo 880 May 15 02:09 exp_primo.sh\n"
     ]
    }
   ],
   "source": [
    "#mostrando permisos\n",
    "! ls -l exp_primo.sh"
   ]
  },
  {
   "attachments": {},
   "cell_type": "markdown",
   "metadata": {},
   "source": [
    "# Crear la carpeta Lab1 y copie todos los archivos de dicha experiencia a la carpeta creada y que ingrese a dicha carpeta."
   ]
  },
  {
   "cell_type": "code",
   "execution_count": 104,
   "metadata": {},
   "outputs": [
    {
     "name": "stdout",
     "output_type": "stream",
     "text": [
      "mkdir: cannot create directory ‘Lab1’: File exists\n"
     ]
    }
   ],
   "source": [
    "!mkdir Lab1\n",
    "!cp primo.c primo.py exp_primo.sh Lab1"
   ]
  },
  {
   "attachments": {},
   "cell_type": "markdown",
   "metadata": {},
   "source": [
    "# Dentro de la carpeta Lab1, cambiar los permisos del script exp_primo.sh habilitando, al menos, permisos de lectura, escritura y ejecución de usuario"
   ]
  },
  {
   "cell_type": "code",
   "execution_count": 109,
   "metadata": {},
   "outputs": [
    {
     "name": "stdout",
     "output_type": "stream",
     "text": [
      "total 12\n",
      "-rwxrw-r-- 1 djvemo djvemo  880 May 15 02:10 exp_primo.sh\n",
      "-rwxrw-r-- 1 djvemo djvemo 1267 May 15 02:10 primo.c\n",
      "-rwxrw-r-- 1 djvemo djvemo  851 May 15 02:10 primo.py\n"
     ]
    }
   ],
   "source": [
    "!chmod -R u+rwx Lab1\n",
    "!ls -l Lab1"
   ]
  },
  {
   "cell_type": "markdown",
   "metadata": {},
   "source": [
    "# Parte Calificada"
   ]
  },
  {
   "attachments": {},
   "cell_type": "markdown",
   "metadata": {},
   "source": [
    "Pregunta 1 (6 puntos):\n",
    "Desarrollar un programa en C el cual trabajará con 3 argumentos de entrada (A B C) que se ingresan desde la terminal de Linux, donde:\n",
    "\n",
    "● A: límite inferior del rango evaluar\n",
    "\n",
    "● B: límite superior del rango evaluar\n",
    "\n",
    "● C: opción (1-> para contar primos dentro del rango, 2 -> contar potencias de 2 dentro del rango, 3-> contar potencias de 3, k-> contar potencias de k)\n",
    "\n",
    "Ejemplo:\n",
    "\n",
    "Input: 1 12 1\n",
    "\n",
    "Output: Hay 5 números primos en este rango\n",
    "\n",
    "Input: 1 12 2\n",
    "\n",
    "Output: Hay 4 potencias de 2 en este rango\n",
    "\n",
    "Output: 7 100 3\n",
    "\n",
    "Output: Hay 3 potencias de 3 en este rango\n",
    "\n",
    "El archivo con la solución del problema deberá llamarse pregunta1.c\n",
    "\n"
   ]
  },
  {
   "cell_type": "code",
   "execution_count": 111,
   "metadata": {},
   "outputs": [
    {
     "name": "stdout",
     "output_type": "stream",
     "text": [
      "Overwriting pregunta1.c\n"
     ]
    }
   ],
   "source": [
    "%%file pregunta1.c\n",
    "\n",
    "#include <stdio.h>\n",
    "#include <stdlib.h>\n",
    "#include <math.h> //agregamos -lm para que el compilador incluya la libreria\n",
    "\n",
    "int calcula_primos(int lim_inf, int lim_sup); // invocamos al inicio las funciones creadas\n",
    "int calcula_potencias(int lim_inf, int lim_sup, int base);\n",
    "\n",
    "\n",
    "int main(int argc, char *argv[]) { //pasamos los argumentos ingresados\n",
    "    if (argc != 4) {// compr0bamos que sean 3 argumentos ingresados + el nombre \n",
    "        printf(\"Debe ingresar 3 argumentos de entrada\\n\"); // de no ingresarse los 3 argumentos mostrar el mensaje de error\n",
    "        exit(1);\n",
    "    } else {\n",
    "        int lim_inf = atoi(argv[1]); //convertimos los argumentos de ascii a entero y guardamos en variables\n",
    "        int lim_sup = atoi(argv[2]);\n",
    "        int opcion = atoi(argv[3]);\n",
    "\n",
    "        if (opcion == 1) { // de ingresarse como opcion 1 , se calcula los numeros primos en ese rango\n",
    "            printf(\"Hay %d numeros primos en este rango\\n\", calcula_primos(lim_inf, lim_sup)); \n",
    "        } else if (opcion >= 2) { // de ingresarse un valor mayor o igual a 2 se calcula la cantidad de potencias en ese rango del numero proporcionado\n",
    "            printf(\"Hay %d potencias de %d en este rango\\n\", calcula_potencias(lim_inf, lim_sup, opcion), opcion);\n",
    "        }\n",
    "    }\n",
    "    return 0; //finalizando correctamente su ejecucion retornamos 0 \n",
    "}\n",
    "\n",
    "\n",
    "int calcula_primos(int lim_inf, int lim_sup) { //funcion que calcula la cantida de primos\n",
    "    int cantidad_primos = 0;\n",
    "    for (int i = lim_inf; i <= lim_sup; i++) { // contamos desde el limite inferior al superior de 1 en 1\n",
    "        int valida_primo = 0;\n",
    "        if (i <= 1) { // si el numero es menor o igual de 1 no es primo ya que los primos son desde el 2 en adelante\n",
    "            valida_primo = 0;\n",
    "        } else { //de ser 2 o mayores entonces contamos cuantos son\n",
    "            for (int j = 2; j <= i; j++) { // por cada valor i que existe en el rango , lo vamos a analizar si es un numero primo o no\n",
    "                if (i % j == 0) { // comprobamos si es que todos los numeros menores o iguales a el son divisores  \n",
    "                    valida_primo++;// cada que encontremos un divisor desde el 2 lo agregamos a esta variable\n",
    "                }// como un primo solo tiene de divisores el mismo y el 1 y como empezamos desde el 2 solo debe tener 1 divisor\n",
    "            }\n",
    "        }\n",
    "        if (valida_primo == 1) {// solo sera primo si es que tiene de divisor a el mismo a parte del 1, por eso si si valor es 1, es primo , si es mayor no seria\n",
    "            cantidad_primos++; // ya que comprobamos que tenemos un primo vamos aumentando la cantidad de primos encontrados\n",
    "        }\n",
    "    }\n",
    "    return cantidad_primos; //retornamos el valor\n",
    "}\n",
    "\n",
    "int calcula_potencias(int lim_inf, int lim_sup, int base) {\n",
    "    int cantidad_potencias = 0;\n",
    "    for (int i = 0; i <= lim_sup; i++) {// empezamos el indice desde 0 hasta el rango maximo\n",
    "    //se podria dividir repetidasveces el numero entre la base para saber el maximo valor del indice pero se decidio a fuerza bruta\n",
    "        int elevado = pow(base, i);// calculamos la potencia\n",
    "        if (elevado <= lim_sup && elevado >= lim_inf) { //si la potencia se encuentra dentro del rango\n",
    "            cantidad_potencias++;//aumenta la cantidad de potencias encontradas\n",
    "        }\n",
    "    }\n",
    "    return cantidad_potencias; //retorna la cantidad encontrada\n",
    "}\n"
   ]
  },
  {
   "cell_type": "code",
   "execution_count": 112,
   "metadata": {},
   "outputs": [],
   "source": [
    "! gcc pregunta1.c -lm -o pregunta1"
   ]
  },
  {
   "cell_type": "code",
   "execution_count": 114,
   "metadata": {},
   "outputs": [
    {
     "name": "stdout",
     "output_type": "stream",
     "text": [
      "Hay 5 numeros primos en este rango\n",
      "Hay 4 potencias de 2 en este rango\n",
      "Hay 3 potencias de 3 en este rango\n"
     ]
    }
   ],
   "source": [
    "! ./pregunta1 1 12 1\n",
    "! ./pregunta1 1 12 2\n",
    "! ./pregunta1 7 100 3"
   ]
  },
  {
   "attachments": {},
   "cell_type": "markdown",
   "metadata": {},
   "source": [
    "Pregunta 2 (5 puntos): Solucione el mismo ejercicio de la pregunta 1, pero esta vez en\n",
    "lenguaje Python. Su archivo deberá llamarse pregunta2.py"
   ]
  },
  {
   "cell_type": "code",
   "execution_count": 115,
   "metadata": {},
   "outputs": [
    {
     "name": "stdout",
     "output_type": "stream",
     "text": [
      "Overwriting pregunta2.py\n"
     ]
    }
   ],
   "source": [
    "%%file pregunta2.py\n",
    "\n",
    "import sys  # importamos lo del systema\n",
    "\n",
    "def calcula_primos(lim_inf, lim_sup): # hago la conversion de mi codigo en c pero en formato para python\n",
    "    cantidad_primos=0\n",
    "    #el limite superior no lo incluye por eso +1\n",
    "    for i in range (lim_inf, lim_sup+1,1): #desde un rango y que vaya de 1 en 1, \n",
    "        valida_primo=0\n",
    "        if i<=1:\n",
    "            valida_primo=0\n",
    "        else:\n",
    "            for j in range (2, i+1, 1):\n",
    "                if i % j ==0:\n",
    "                    valida_primo+=1\n",
    "        if valida_primo==1:\n",
    "            cantidad_primos+=1\n",
    "    return cantidad_primos\n",
    "\n",
    "def calcula_potencias(lim_inf, lim_sup, base):\n",
    "    cantidad_potencias=0\n",
    "    for i in range (0,lim_sup+1,1):\n",
    "        elevado = pow(base,i) #tambien se puede usar el **\n",
    "        if elevado<=lim_sup and elevado>=lim_inf : # && es and en python\n",
    "            cantidad_potencias+=1\n",
    "    return cantidad_potencias\n",
    "\n",
    "\n",
    "if len(sys.argv) != 4: #comprobamos cuiantos argumentos llegaron, default es 1 (el name)\n",
    "    sys.exit(\"Debe ingresar 3 argumentos de entrada\")\n",
    "else:\n",
    "    lim_inf = int (sys.argv[1])\n",
    "    lim_sup = int (sys.argv[2])\n",
    "    opcion  = int (sys.argv[3])\n",
    "\n",
    "    if opcion==1 : # usamos f para dar formato con las variables en llaves\n",
    "        print(f\"Hay {calcula_primos(lim_inf,lim_sup)} numeros primos en este rango\")\n",
    "    elif opcion >=2 :\n",
    "        print(f\"Hay {calcula_potencias(lim_inf, lim_sup, opcion)} potencias de {opcion} en este rango\")"
   ]
  },
  {
   "cell_type": "code",
   "execution_count": 116,
   "metadata": {},
   "outputs": [
    {
     "name": "stdout",
     "output_type": "stream",
     "text": [
      "Hay 5 numeros primos en este rango\n",
      "Hay 4 potencias de 2 en este rango\n",
      "Hay 3 potencias de 3 en este rango\n"
     ]
    }
   ],
   "source": [
    "! python3 pregunta2.py 1 12 1\n",
    "! python3 pregunta2.py 1 12 2\n",
    "! python3 pregunta2.py 7 100 3"
   ]
  },
  {
   "attachments": {},
   "cell_type": "markdown",
   "metadata": {},
   "source": [
    "Pregunta 3 (9 puntos)\n",
    "Codificar el script de bash pregunta3.sh el cual debe realizar lo siguiente:\n",
    "\n",
    "a) (1.0 punto) Recibir como parámetro de entrada su código PUCP e Imprimir su nombre\n",
    "completo seguido de su código ingresado.\n",
    "\n",
    "b) (1.0 punto) Crear los directorios Pregunta1 y Pregunta2. Los directorios deberán tener\n",
    "permisos de lectura, escritura, y ejecución para todos.\n",
    "\n",
    "c) (1.0 punto) Copiar todos los archivos de la pregunta 1 en el directorio Pregunta1.\n",
    "\n",
    "d) (1.5 punto) Generar el archivo ejecutable de la pregunta 2 en el directorio Pregunta2.\n",
    "\n",
    "e) (1.5 punto) Ejecutar su programa en C con la opción 1 100 4 y calcular el tiempo de\n",
    "ejecución utilizando la librería time de bash.\n",
    "\n",
    "f) (1.5 punto) Ejecutar su programa en Python con la opción 1 100 4 y calcular el tiempo\n",
    "de ejecución utilizando el comando time en el script de bash.\n",
    "\n",
    "g) (1.5 punto) Agregar un condicional para que, en caso su programa reciba menos de 3\n",
    "argumentos de entrada, en el terminal se imprima “Debe ingresar 3 argumentos de entrada\"\n"
   ]
  },
  {
   "cell_type": "code",
   "execution_count": 117,
   "metadata": {},
   "outputs": [
    {
     "name": "stdout",
     "output_type": "stream",
     "text": [
      "Overwriting pregunta3.sh\n"
     ]
    }
   ],
   "source": [
    "%%file pregunta3.sh\n",
    "\n",
    "#!/bin/sh\n",
    "\n",
    "# a) el parametro que recibe que debe ser el codigo lo muestra\n",
    "echo \"Diego Josué Vera Moreno $1\" \n",
    "\n",
    "\n",
    "#b) creamos los directorios\n",
    "mkdir Pregunta1\n",
    "mkdir Pregunta2\n",
    "#cambiamos los permisos a rwx a todos\n",
    "chmod 777 Pregunta1\n",
    "chmod 777 Pregunta2\n",
    "\n",
    "\n",
    "#c) copiamos todos los archivos de la pregunta 1 y 2\n",
    "cp pregunta1.c Pregunta1 #copiamos el c al directorio\n",
    "cp pregunta2.py Pregunta2 #copiamos tambien el py\n",
    "\n",
    "\n",
    "#para generar el codigo del programa2.py en el directorio Pregunta 2 se usaria: \n",
    "#echo \"aqui iria todo el codigo \" >> Pregunta2/pregunta2.py\n",
    "#solo que cada que se usen comillas dentro del codigo de python\n",
    "#se deberia agregar \\ antes de estas para que echo sepa que queremos\n",
    "#escribir el caracter comilas\n",
    "\n",
    "\n",
    "#d) generar el ejecutable de la pregunta 1 en el directorio Pregunta1\n",
    "gcc pregunta1.c -lm -o Pregunta1/pregunta1  # -lm para usar la libreria math.h\n",
    "\n",
    "#e) ejecutamos el programa con 1 100 4 en c con time\n",
    "time ./Pregunta1/pregunta1 1 100 4\n",
    "\n",
    "#f)ejecutamos el programa en python con 1 100 4 con time\n",
    "time python3 Pregunta2/pregunta2.py 1 100 4\n",
    "\n",
    "# se agrego los condicionales a los mismos archivos a menos que se deba\n",
    "#en bash agregar que seria \n",
    "#if $# != 3; then echo \"Debe ingresar 3 argumentos de entrada\""
   ]
  },
  {
   "cell_type": "code",
   "execution_count": 118,
   "metadata": {},
   "outputs": [
    {
     "name": "stdout",
     "output_type": "stream",
     "text": [
      "Diego Josué Vera Moreno \n",
      "Hay 4 potencias de 4 en este rango\n",
      "\n",
      "real\t0m0.002s\n",
      "user\t0m0.002s\n",
      "sys\t0m0.000s\n",
      "Hay 4 potencias de 4 en este rango\n",
      "\n",
      "real\t0m0.046s\n",
      "user\t0m0.038s\n",
      "sys\t0m0.008s\n"
     ]
    }
   ],
   "source": [
    "! bash pregunta3.sh"
   ]
  }
 ],
 "metadata": {
  "kernelspec": {
   "display_name": "Python 3",
   "language": "python",
   "name": "python3"
  },
  "language_info": {
   "codemirror_mode": {
    "name": "ipython",
    "version": 3
   },
   "file_extension": ".py",
   "mimetype": "text/x-python",
   "name": "python",
   "nbconvert_exporter": "python",
   "pygments_lexer": "ipython3",
   "version": "3.10.6"
  },
  "orig_nbformat": 4
 },
 "nbformat": 4,
 "nbformat_minor": 2
}
