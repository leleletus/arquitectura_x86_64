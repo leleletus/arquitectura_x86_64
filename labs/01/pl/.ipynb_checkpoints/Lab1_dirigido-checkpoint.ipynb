{
  "cells": [
    {
      "cell_type": "code",
      "execution_count": 3,
      "metadata": {
        "colab": {
          "base_uri": "https://localhost:8080/"
        },
        "id": "7_yY9Ay-9sCo",
        "outputId": "ec9e9525-6c0b-43ae-983c-ccb456d53614"
      },
      "outputs": [
        {
          "name": "stdout",
          "output_type": "stream",
          "text": [
            "hola.txt  sample_data\n"
          ]
        }
      ],
      "source": [
        "! ls"
      ]
    },
    {
      "cell_type": "code",
      "execution_count": 5,
      "metadata": {
        "colab": {
          "base_uri": "https://localhost:8080/"
        },
        "id": "WcdDnxc5-dSQ",
        "outputId": "b26b9806-cd74-4608-9786-065ae1176992"
      },
      "outputs": [
        {
          "name": "stdout",
          "output_type": "stream",
          "text": [
            "mkdir: cannot create directory ‘arqui’: File exists\n"
          ]
        }
      ],
      "source": [
        "! mkdir arqui"
      ]
    },
    {
      "cell_type": "code",
      "execution_count": 6,
      "metadata": {
        "colab": {
          "base_uri": "https://localhost:8080/"
        },
        "id": "-y31jHjp-ndR",
        "outputId": "ef49856b-2e4a-4791-8d82-ea31e2a70ac4"
      },
      "outputs": [
        {
          "name": "stdout",
          "output_type": "stream",
          "text": [
            "arqui  hola.txt  sample_data\n"
          ]
        }
      ],
      "source": [
        "! ls"
      ]
    },
    {
      "cell_type": "code",
      "execution_count": 1,
      "metadata": {
        "colab": {
          "base_uri": "https://localhost:8080/"
        },
        "id": "Xpz7VfTB-qzY",
        "outputId": "90b78213-a891-44d1-e4ec-8e571e738e71"
      },
      "outputs": [
        {
          "name": "stderr",
          "output_type": "stream",
          "text": [
            "UsageError: Cell magic `%%shell` not found.\n"
          ]
        }
      ],
      "source": [
        "%%shell\n",
        "cd arqui\n",
        "pwd\n",
        "cd ..\n",
        "pwd"
      ]
    },
    {
      "cell_type": "code",
      "execution_count": 17,
      "metadata": {
        "colab": {
          "base_uri": "https://localhost:8080/"
        },
        "id": "EH5a2cYN_0T5",
        "outputId": "e3e3a11a-c068-4a7c-d046-54befce7d7cb"
      },
      "outputs": [
        {
          "name": "stdout",
          "output_type": "stream",
          "text": [
            "Overwriting hola_mundo.py\n"
          ]
        }
      ],
      "source": [
        "%%file hola_mundo.py\n",
        "\n",
        "print(\"Hola Richard\")"
      ]
    },
    {
      "cell_type": "code",
      "execution_count": 30,
      "metadata": {
        "colab": {
          "base_uri": "https://localhost:8080/"
        },
        "id": "kY5Dhwhi_6uw",
        "outputId": "468f247b-b207-4476-8cf2-cb57fe13daf4"
      },
      "outputs": [
        {
          "name": "stdout",
          "output_type": "stream",
          "text": [
            "Hola Pierre\n"
          ]
        }
      ],
      "source": [
        "! python3 hola_mundo.py"
      ]
    },
    {
      "cell_type": "code",
      "execution_count": 22,
      "metadata": {
        "colab": {
          "base_uri": "https://localhost:8080/"
        },
        "id": "r2UghR6eAgRA",
        "outputId": "1c471f5a-a22a-4a12-83e6-69dce4c6cfe9"
      },
      "outputs": [
        {
          "name": "stdout",
          "output_type": "stream",
          "text": [
            "Overwriting hola_mundo.c\n"
          ]
        }
      ],
      "source": [
        "%%file hola_mundo.c\n",
        "\n",
        "#include <stdio.h>\n",
        "\n",
        "int main(int argc, char *argv[]){\n",
        "    printf(\"Hola mundo\\r\\n\");\n",
        "    return 0;\n",
        "}\n"
      ]
    },
    {
      "cell_type": "code",
      "execution_count": 25,
      "metadata": {
        "id": "10CO8tv3BayJ"
      },
      "outputs": [],
      "source": [
        "! gcc  -o hola_mundo hola_mundo.c "
      ]
    },
    {
      "cell_type": "code",
      "execution_count": 26,
      "metadata": {
        "colab": {
          "base_uri": "https://localhost:8080/"
        },
        "id": "CV8RhKEPBvQQ",
        "outputId": "7c4c1fca-5ca9-4757-ba36-70a1166b7fd3"
      },
      "outputs": [
        {
          "name": "stdout",
          "output_type": "stream",
          "text": [
            "Hola mundo\r\n"
          ]
        }
      ],
      "source": [
        "! ./hola_mundo"
      ]
    },
    {
      "cell_type": "code",
      "execution_count": 28,
      "metadata": {
        "colab": {
          "base_uri": "https://localhost:8080/"
        },
        "id": "GzPRiq36DA-y",
        "outputId": "179aec68-b804-421a-b470-1e5a4d6a0f77"
      },
      "outputs": [
        {
          "name": "stdout",
          "output_type": "stream",
          "text": [
            "Writing hola_mundo.sh\n"
          ]
        }
      ],
      "source": [
        "%%file hola_mundo.sh\n",
        "\n",
        "#!/usr/bin/bash\n",
        "\n",
        "echo \"Hola mundo\""
      ]
    },
    {
      "cell_type": "code",
      "execution_count": 29,
      "metadata": {
        "colab": {
          "base_uri": "https://localhost:8080/"
        },
        "id": "0hQ6mWijDI76",
        "outputId": "f2522fbd-44de-4761-9566-d4b4b843577b"
      },
      "outputs": [
        {
          "name": "stdout",
          "output_type": "stream",
          "text": [
            "Hola mundo\n"
          ]
        }
      ],
      "source": [
        "! bash hola_mundo.sh"
      ]
    },
    {
      "cell_type": "code",
      "execution_count": 31,
      "metadata": {
        "colab": {
          "base_uri": "https://localhost:8080/"
        },
        "id": "VxHW1BknEQjS",
        "outputId": "34ea2eab-e8ef-480b-d03e-aa101dc4a079"
      },
      "outputs": [
        {
          "name": "stdout",
          "output_type": "stream",
          "text": [
            "total 40\n",
            "drwxr-xr-x 2 root root  4096 Mar 24 00:17 arqui\n",
            "-rwxr-xr-x 1 root root 16704 Mar 24 00:36 hola_mundo\n",
            "-rw-r--r-- 1 root root   101 Mar 24 00:35 hola_mundo.c\n",
            "-rw-r--r-- 1 root root    22 Mar 24 00:40 hola_mundo.py\n",
            "-rw-r--r-- 1 root root    36 Mar 24 00:38 hola_mundo.sh\n",
            "-rw-r--r-- 1 root root     0 Mar 24 00:16 hola.txt\n",
            "drwxr-xr-x 1 root root  4096 Mar 22 13:39 sample_data\n"
          ]
        }
      ],
      "source": [
        "! ls -l"
      ]
    },
    {
      "cell_type": "code",
      "execution_count": 32,
      "metadata": {
        "id": "2riIw7YQET4Z"
      },
      "outputs": [],
      "source": [
        "! chmod 655 hola_mundo "
      ]
    },
    {
      "cell_type": "code",
      "execution_count": 35,
      "metadata": {
        "colab": {
          "base_uri": "https://localhost:8080/"
        },
        "id": "mv1PgSu9GUqi",
        "outputId": "25b925d0-3ea3-4c27-d8f6-e0124d769761"
      },
      "outputs": [
        {
          "name": "stdout",
          "output_type": "stream",
          "text": [
            "Hola mundo\r\n"
          ]
        }
      ],
      "source": [
        "! ./hola_mundo"
      ]
    },
    {
      "cell_type": "code",
      "execution_count": 61,
      "metadata": {
        "colab": {
          "base_uri": "https://localhost:8080/"
        },
        "id": "PyiQlNtaICFB",
        "outputId": "a270a65e-56a7-4ff0-e7eb-b721286ee023"
      },
      "outputs": [
        {
          "name": "stdout",
          "output_type": "stream",
          "text": [
            "Overwriting calcula_final.py\n"
          ]
        }
      ],
      "source": [
        "%%file calcula_final.py\n",
        "\n",
        "import sys\n",
        "\n",
        "def nota_del_final(a, b):\n",
        "  res = (110 - 3*a - 3*b) / 4\n",
        "  print(\"Calculando por cuánto me voy:\", res)\n",
        "  return res\n",
        "\n",
        "if len(sys.argv) != 3:\n",
        "  print(\"Debe ingresar exactamente 2 notas\")\n",
        "  sys.exit(0)\n",
        "\n",
        "x = int(sys.argv[1])\n",
        "y = int(sys.argv[2])\n",
        "\n",
        "resultado = nota_del_final(x, y)\n",
        "print(resultado)\n"
      ]
    },
    {
      "cell_type": "code",
      "execution_count": 63,
      "metadata": {
        "colab": {
          "base_uri": "https://localhost:8080/"
        },
        "id": "M0BwDi2-JDAR",
        "outputId": "1ccf58a3-441d-446c-95b0-5e980385c53d"
      },
      "outputs": [
        {
          "name": "stdout",
          "output_type": "stream",
          "text": [
            "Calculando por cuánto me voy: 5.75\n",
            "5.75\n"
          ]
        }
      ],
      "source": [
        "! python3 calcula_final.py 10 19"
      ]
    },
    {
      "cell_type": "code",
      "execution_count": 55,
      "metadata": {
        "colab": {
          "base_uri": "https://localhost:8080/"
        },
        "id": "303IURtxNcsE",
        "outputId": "68321e3e-9406-4b61-88e7-7e8fff06b619"
      },
      "outputs": [
        {
          "name": "stdout",
          "output_type": "stream",
          "text": [
            "Writing calcula_final.c\n"
          ]
        }
      ],
      "source": [
        "%%file calcula_final.c\n",
        "\n",
        "#include <stdio.h>\n",
        "#include <stdlib.h>\n",
        "\n",
        "int nota_del_final(int a, int b){\n",
        "    return (110 - 3*a - 3*b) / 4;\n",
        "}\n",
        "\n",
        "int main(int argc, char *argv[]){\n",
        "    \n",
        "  if(argc != 3){\n",
        "      printf(\"Debe ingresar exactamente 2 notas\\r\\n\");\n",
        "      return 0;\n",
        "  }\n",
        "\n",
        "  int x = atoi(argv[1]);\n",
        "  int y = atoi(argv[2]);\n",
        "\n",
        "  printf(\"Me voy por: %d\", nota_del_final(x, y));\n",
        "}"
      ]
    },
    {
      "cell_type": "code",
      "execution_count": 59,
      "metadata": {
        "id": "Vyga4C3zOKO4"
      },
      "outputs": [],
      "source": [
        "! gcc calcula_final.c -o calcula_final"
      ]
    },
    {
      "cell_type": "code",
      "execution_count": 64,
      "metadata": {
        "colab": {
          "base_uri": "https://localhost:8080/"
        },
        "id": "J5lhbZbLOV-Y",
        "outputId": "7ae0763c-33f8-4e7f-d0e5-901099037316"
      },
      "outputs": [
        {
          "name": "stdout",
          "output_type": "stream",
          "text": [
            "Me voy por: 5"
          ]
        }
      ],
      "source": [
        "! ./calcula_final 10 19"
      ]
    },
    {
      "cell_type": "code",
      "execution_count": 75,
      "metadata": {
        "colab": {
          "base_uri": "https://localhost:8080/"
        },
        "id": "FGiK-qMPQec5",
        "outputId": "5e1ada32-ba21-457f-849d-5dbed4a6aab7"
      },
      "outputs": [
        {
          "name": "stdout",
          "output_type": "stream",
          "text": [
            "Overwriting nota_final.sh\n"
          ]
        }
      ],
      "source": [
        "%%file nota_final.sh\n",
        "\n",
        "#!/usr/bin/bash\n",
        "\n",
        "time python3 calcula_final.py $1 $2\n",
        "./calcula_final $1 $2"
      ]
    },
    {
      "cell_type": "code",
      "execution_count": 77,
      "metadata": {
        "colab": {
          "base_uri": "https://localhost:8080/"
        },
        "id": "-k7w-GKfRNR4",
        "outputId": "bcead4e7-706c-46f7-c12e-4c746b05a4c6"
      },
      "outputs": [
        {
          "name": "stdout",
          "output_type": "stream",
          "text": [
            "Calculando por cuánto me voy: 5.75\n",
            "5.75\n",
            "\n",
            "real\t0m0.066s\n",
            "user\t0m0.058s\n",
            "sys\t0m0.008s\n",
            "Me voy por: 5"
          ]
        }
      ],
      "source": [
        "! bash nota_final.sh 20 20"
      ]
    }
  ],
  "metadata": {
    "colab": {
      "provenance": []
    },
    "kernelspec": {
      "display_name": "Python 3",
      "name": "python3"
    },
    "language_info": {
      "codemirror_mode": {
        "name": "ipython",
        "version": 3
      },
      "file_extension": ".py",
      "mimetype": "text/x-python",
      "name": "python",
      "nbconvert_exporter": "python",
      "pygments_lexer": "ipython3",
      "version": "3.10.6"
    }
  },
  "nbformat": 4,
  "nbformat_minor": 0
}
