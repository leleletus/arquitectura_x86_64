{
 "cells": [
  {
   "cell_type": "markdown",
   "id": "7d0b1bee-692f-4efd-bf63-e6702a911704",
   "metadata": {},
   "source": [
    "Creeado por: Diego Vera 20172404"
   ]
  },
  {
   "cell_type": "markdown",
   "id": "41b8ce24-9cc5-49e6-9d9a-fba09f22b5ec",
   "metadata": {},
   "source": [
    "Pregunta 1:\n",
    "\n",
    "Se le brinda dos códigos en C: Programa1_1.c y Programa1_2.c. Ambos generan el mismo\n",
    "resultado pero se han implementado de diferentes maneras. Se le pide lo siguiente:"
   ]
  },
  {
   "cell_type": "markdown",
   "id": "779a6b68-d58d-4b99-bf32-b940ba3bfd53",
   "metadata": {},
   "source": [
    "1) (1.0 punto) Incluir la medición de tiempo desde C considerando únicamente el\n",
    "cálculo de la suma para ambos programas. Imprimir el tiempo de ejecución al\n",
    "ejecutar los programas. Utilice las unidades que mejor se ajusten al tiempo de\n",
    "ejecución de su PC. No usar más de dos decimales.\n"
   ]
  },
  {
   "cell_type": "markdown",
   "id": "930a627d-95e7-4d1c-a529-c8b45e63e5b6",
   "metadata": {},
   "source": [
    "Mediciones para Programa1_1:"
   ]
  },
  {
   "cell_type": "code",
   "execution_count": 171,
   "id": "d929b24a-972a-47c8-bf3c-b30d6d94d34e",
   "metadata": {},
   "outputs": [
    {
     "name": "stdout",
     "output_type": "stream",
     "text": [
      "Overwriting Programa1_1.c\n"
     ]
    }
   ],
   "source": [
    "%%file Programa1_1.c\n",
    "\n",
    "#include <stdio.h>\n",
    "#include <time.h> //para tomar mediciones del tiempo\n",
    "\n",
    "#define N 1000000\n",
    "\n",
    "int main() {\n",
    "  int sum = 0;\n",
    "  int array[N];\n",
    "\n",
    "  // Initialize the array\n",
    "  for (int i = 0; i < N; i++) {\n",
    "    array[i] = i;\n",
    "  }\n",
    "    \n",
    "  struct timespec ti, tf;\n",
    "  double elapsed;\n",
    "\n",
    "  clock_gettime(CLOCK_REALTIME, &ti);\n",
    "  // Calculate the sum of the array\n",
    "  for (int i = 0; i < N; i++) {\n",
    "    sum += array[i];\n",
    "  }\n",
    "  clock_gettime(CLOCK_REALTIME, &tf);\n",
    "  \n",
    "  elapsed = (tf.tv_sec - ti.tv_sec) * 1e9 + (tf.tv_nsec - ti.tv_nsec);\n",
    "    printf(\"el tiempo en mili que toma la función en C es %.2lf\\n\", elapsed*1e-6);\n",
    "  \n",
    "\n",
    "  // Print the sum\n",
    "  printf(\"Sum: %d\\n\", sum);\n",
    "\n",
    "  return 0;\n",
    "}\n",
    "\n"
   ]
  },
  {
   "cell_type": "code",
   "execution_count": 172,
   "id": "1313d4cb",
   "metadata": {},
   "outputs": [],
   "source": [
    "! gcc Programa1_1.c -o Programa1_1"
   ]
  },
  {
   "cell_type": "code",
   "execution_count": 174,
   "id": "03e71539",
   "metadata": {},
   "outputs": [
    {
     "name": "stdout",
     "output_type": "stream",
     "text": [
      "el tiempo en mili que toma la función en C es 4.62\n",
      "Sum: 1783293664\n"
     ]
    }
   ],
   "source": [
    "! ./Programa1_1"
   ]
  },
  {
   "cell_type": "markdown",
   "id": "e1f10b28-b7d9-4e1d-a94a-089be0f2b145",
   "metadata": {},
   "source": [
    "Mediciones en Programa1_2:"
   ]
  },
  {
   "cell_type": "code",
   "execution_count": 180,
   "id": "1871a646-1dfb-434c-9056-a751bc78cf8a",
   "metadata": {},
   "outputs": [
    {
     "name": "stdout",
     "output_type": "stream",
     "text": [
      "Overwriting Programa1_2.c\n"
     ]
    }
   ],
   "source": [
    "%%file Programa1_2.c\n",
    "\n",
    "#include <stdio.h>\n",
    "#include <time.h> \n",
    "\n",
    "#define N 1000000\n",
    "\n",
    "int main() {\n",
    "  int sum = 0;\n",
    "\n",
    "  struct timespec ti, tf;\n",
    "  double elapsed;\n",
    "\n",
    "  clock_gettime(CLOCK_REALTIME, &ti);\n",
    "  // Calculate the sum of the array\n",
    "  for (int i = 0; i < N; i++) {\n",
    "    sum += i;\n",
    "  }\n",
    "  clock_gettime(CLOCK_REALTIME, &tf);\n",
    "  \n",
    "  elapsed = (tf.tv_sec - ti.tv_sec) * 1e9 + (tf.tv_nsec - ti.tv_nsec);\n",
    "  printf(\"el tiempo en mili que toma la función en C es %.2lf\\n\", elapsed*1e-6);\n",
    "\n",
    "  // Print the sum\n",
    "  printf(\"Sum: %d\\n\", sum);\n",
    "\n",
    "  return 0;\n",
    "}\n",
    "\n"
   ]
  },
  {
   "cell_type": "code",
   "execution_count": 181,
   "id": "0b4feeb2",
   "metadata": {},
   "outputs": [],
   "source": [
    "! gcc Programa1_2.c -o Programa1_2"
   ]
  },
  {
   "cell_type": "code",
   "execution_count": 182,
   "id": "22bfd517",
   "metadata": {},
   "outputs": [
    {
     "name": "stdout",
     "output_type": "stream",
     "text": [
      "el tiempo en mili que toma la función en C es 3.69\n",
      "Sum: 1783293664\n"
     ]
    }
   ],
   "source": [
    "! ./Programa1_2"
   ]
  },
  {
   "cell_type": "markdown",
   "id": "483833cb-3252-47de-89b7-17600dd5081f",
   "metadata": {},
   "source": [
    "2) (1.0 punto) Realizar 15 ejecuciones desde el terminal para ambos archivos\n",
    "ejecutables. Realizar una captura de pantalla de su ejecución. Los tiempos en su\n",
    "imagen deben ser visibles."
   ]
  },
  {
   "cell_type": "markdown",
   "id": "6b7f633c",
   "metadata": {},
   "source": [
    "Para el 1:"
   ]
  },
  {
   "cell_type": "code",
   "execution_count": 183,
   "id": "0c163b64",
   "metadata": {},
   "outputs": [
    {
     "name": "stdout",
     "output_type": "stream",
     "text": [
      "el tiempo en mili que toma la función en C es 4.31\n",
      "Sum: 1783293664\n",
      "el tiempo en mili que toma la función en C es 3.87\n",
      "Sum: 1783293664\n",
      "el tiempo en mili que toma la función en C es 3.93\n",
      "Sum: 1783293664\n",
      "el tiempo en mili que toma la función en C es 3.91\n",
      "Sum: 1783293664\n",
      "el tiempo en mili que toma la función en C es 3.97\n",
      "Sum: 1783293664\n",
      "el tiempo en mili que toma la función en C es 3.96\n",
      "Sum: 1783293664\n",
      "el tiempo en mili que toma la función en C es 3.86\n",
      "Sum: 1783293664\n",
      "el tiempo en mili que toma la función en C es 4.04\n",
      "Sum: 1783293664\n",
      "el tiempo en mili que toma la función en C es 3.99\n",
      "Sum: 1783293664\n",
      "el tiempo en mili que toma la función en C es 3.95\n",
      "Sum: 1783293664\n",
      "el tiempo en mili que toma la función en C es 3.91\n",
      "Sum: 1783293664\n",
      "el tiempo en mili que toma la función en C es 4.01\n",
      "Sum: 1783293664\n",
      "el tiempo en mili que toma la función en C es 3.92\n",
      "Sum: 1783293664\n",
      "el tiempo en mili que toma la función en C es 4.05\n",
      "Sum: 1783293664\n",
      "el tiempo en mili que toma la función en C es 3.84\n",
      "Sum: 1783293664\n"
     ]
    }
   ],
   "source": [
    "#Un for desde jupyter\n",
    "for i in range (15):\n",
    "    !./Programa1_1"
   ]
  },
  {
   "cell_type": "markdown",
   "id": "2e8dcbf0",
   "metadata": {},
   "source": [
    "Para el 2:"
   ]
  },
  {
   "cell_type": "code",
   "execution_count": 184,
   "id": "b07d89a1",
   "metadata": {},
   "outputs": [
    {
     "name": "stdout",
     "output_type": "stream",
     "text": [
      "el tiempo en mili que toma la función en C es 3.72\n",
      "Sum: 1783293664\n",
      "el tiempo en mili que toma la función en C es 3.75\n",
      "Sum: 1783293664\n",
      "el tiempo en mili que toma la función en C es 3.93\n",
      "Sum: 1783293664\n",
      "el tiempo en mili que toma la función en C es 4.01\n",
      "Sum: 1783293664\n",
      "el tiempo en mili que toma la función en C es 3.92\n",
      "Sum: 1783293664\n",
      "el tiempo en mili que toma la función en C es 4.09\n",
      "Sum: 1783293664\n",
      "el tiempo en mili que toma la función en C es 4.25\n",
      "Sum: 1783293664\n",
      "el tiempo en mili que toma la función en C es 4.22\n",
      "Sum: 1783293664\n",
      "el tiempo en mili que toma la función en C es 3.91\n",
      "Sum: 1783293664\n",
      "el tiempo en mili que toma la función en C es 3.76\n",
      "Sum: 1783293664\n",
      "el tiempo en mili que toma la función en C es 3.94\n",
      "Sum: 1783293664\n",
      "el tiempo en mili que toma la función en C es 3.76\n",
      "Sum: 1783293664\n",
      "el tiempo en mili que toma la función en C es 4.28\n",
      "Sum: 1783293664\n",
      "el tiempo en mili que toma la función en C es 4.11\n",
      "Sum: 1783293664\n",
      "el tiempo en mili que toma la función en C es 4.10\n",
      "Sum: 1783293664\n"
     ]
    }
   ],
   "source": [
    "#de manera alternativa con un for desde jupyter\n",
    "for i in range (15):\n",
    "    !./Programa1_2"
   ]
  },
  {
   "cell_type": "markdown",
   "id": "83148f5d-706c-4be9-9aaa-ab061ed17b15",
   "metadata": {},
   "source": [
    "3) (1.0 punto) Adjuntar una tabla con todas las mediciones."
   ]
  },
  {
   "cell_type": "markdown",
   "id": "dd34e282",
   "metadata": {},
   "source": [
    "| Programa1_1 | Programa1_2 |\n",
    "|:-----------:|:-----------:|\n",
    "|    4.31     |     3.72    |\n",
    "|    3.87     |     3.75    |\n",
    "|    3.93     |     3.93    |\n",
    "|    3.91     |     4.01    |\n",
    "|    3.97     |     3.92    |\n",
    "|    4.96     |     4.09    |\n",
    "|    3.86     |     4.25    |\n",
    "|    4.04     |     4.22    |\n",
    "|    3.99     |     3.91    |\n",
    "|    3.95     |     3.76    |\n",
    "|    3.91     |     3.94    |\n",
    "|    4.01     |     3.76    |\n",
    "|    3.92     |     4.28    |\n",
    "|    4.05     |     4.11    |\n",
    "|    3.84     |     4.10    |"
   ]
  },
  {
   "cell_type": "markdown",
   "id": "2cbf4721-2849-490b-8420-77cfe67f241c",
   "metadata": {},
   "source": [
    "4) (1.0 punto) Explicar cómo se relaciona el Programa1_1.c con los conceptos de\n",
    "localidad temporal y localidad espacial."
   ]
  },
  {
   "cell_type": "code",
   "execution_count": 185,
   "id": "62bb1d84",
   "metadata": {},
   "outputs": [
    {
     "data": {
      "text/plain": [
       "4.034666666666666"
      ]
     },
     "execution_count": 185,
     "metadata": {},
     "output_type": "execute_result"
    }
   ],
   "source": [
    "#sacando promedio\n",
    "(4.31+3.87+3.93+3.91+3.97+4.96+3.86+4.04+3.99+3.95+3.91+4.01+3.92+4.05+3.84)/15"
   ]
  },
  {
   "attachments": {},
   "cell_type": "markdown",
   "id": "871455be",
   "metadata": {},
   "source": [
    "Para el programa1_1 calculando el promedio de las 15 tenemos como resultado: 4.035\n",
    "\n",
    "Analizando el programa vemos que inicialmente en el main se declara la variable suma y el arreglo con n terminos, al declarar el arreglo hacemos mas facil la localidad espacial para los valores del arreglo y mas si los utilizamos los más proximos\n",
    "\n",
    "Dentro del for se inicializa el arreglo guardandole los valores\n",
    "Al utilizar el for y guardar valores se hace buena practica de localidad espacial ya que posiciones de memoria cercanos van a ser accedidos ya que se declaro anteriormente \n",
    "\n",
    "Entre mas pequeño es el buble , mejor es la localidad espacial\n",
    "\n",
    "\n",
    "Las mediciones son tomadas unicamente en la funcion que calcula la suma de los valores del termino."
   ]
  },
  {
   "cell_type": "markdown",
   "id": "e419bf35-722f-49aa-96a0-0cf0a1454b1b",
   "metadata": {},
   "source": [
    "5) (1.0 punto) Explicar cómo se relaciona el Programa1_2.c con los conceptos de\n",
    "localidad temporal y localidad espacial.\n"
   ]
  },
  {
   "cell_type": "code",
   "execution_count": 186,
   "id": "05fe7d05",
   "metadata": {},
   "outputs": [
    {
     "data": {
      "text/plain": [
       "3.983333333333333"
      ]
     },
     "execution_count": 186,
     "metadata": {},
     "output_type": "execute_result"
    }
   ],
   "source": [
    "#sacando promedio\n",
    "(3.72+3.75+3.93+4.01+3.92+4.09+4.25+4.22+3.91+3.76+3.94+3.76+4.28+4.11+4.10)/15"
   ]
  },
  {
   "cell_type": "markdown",
   "id": "7d830eae",
   "metadata": {},
   "source": [
    "El tiempo promedio es de 3.98\n",
    "\n",
    "Analizando el programa podemos apreciar que directamente se declara la variable suma y se va directamente al bucle para calcular el valor de la suma de N terminos.\n",
    "Directamente la localidad temporal se es usada ya que al usar una direccion para darle el valor a i , luego nuevamente se accede a esta para guardar su valor en la variable suma principalmente."
   ]
  },
  {
   "cell_type": "markdown",
   "id": "f720e53a-60a2-4ff7-bc81-c323b3aa0470",
   "metadata": {},
   "source": [
    "6) (1.0 punto) Utilizar el comando getconf -a | grep CACHE en el terminal y verificar el\n",
    "tamaño de bloque de su computador. Recordar que el tamaño de bloque en el nivel\n",
    "1 se ve en la línea LEVEL1_DCACHE_LINESIZE (en bytes). Adjuntar captura de\n",
    "pantalla"
   ]
  },
  {
   "cell_type": "code",
   "execution_count": 188,
   "id": "e65ea81e-b9f6-4e10-809c-48d9fbd78e0f",
   "metadata": {},
   "outputs": [
    {
     "name": "stdout",
     "output_type": "stream",
     "text": [
      "LEVEL1_ICACHE_SIZE                 32768\n",
      "LEVEL1_ICACHE_ASSOC                \n",
      "LEVEL1_ICACHE_LINESIZE             32\n",
      "LEVEL1_DCACHE_SIZE                 32768\n",
      "LEVEL1_DCACHE_ASSOC                8\n",
      "LEVEL1_DCACHE_LINESIZE             64\n",
      "LEVEL2_CACHE_SIZE                  262144\n",
      "LEVEL2_CACHE_ASSOC                 8\n",
      "LEVEL2_CACHE_LINESIZE              64\n",
      "LEVEL3_CACHE_SIZE                  4194304\n",
      "LEVEL3_CACHE_ASSOC                 12\n",
      "LEVEL3_CACHE_LINESIZE              64\n",
      "LEVEL4_CACHE_SIZE                  0\n",
      "LEVEL4_CACHE_ASSOC                 \n",
      "LEVEL4_CACHE_LINESIZE              \n"
     ]
    }
   ],
   "source": [
    "#Se utilizo el comando para no adjuntar captura:\n",
    "!getconf -a | grep CACHE"
   ]
  },
  {
   "attachments": {},
   "cell_type": "markdown",
   "id": "d0623cf7",
   "metadata": {},
   "source": [
    "Podemos apreciar que LEVEL1_DCACHE_LINESIZE =32 bytes mientras que su tamaño es 32 KiB que serian 32*1024=32768 bytes\n",
    "tambien podemos apreciar su tamaño usando lscpu desde terminal\n",
    "\n",
    "\n",
    "## P1.6 (0/1.0)\n",
    "-Error, el tamaño total de la caché de datos es de 64 KiB, el tamaño de bloque es de 64 bytes.\n"
   ]
  },
  {
   "cell_type": "markdown",
   "id": "ef5e78d7-b796-4602-8d03-8cfc6c743816",
   "metadata": {},
   "source": [
    "7) (2.0 punto) Conociendo los datos previos, ¿es posible saber en qué momento se\n",
    "produce hit o miss? De ser posible, comentar el ejemplo, de no serlo, explicar\n",
    "porqué.\n"
   ]
  },
  {
   "attachments": {},
   "cell_type": "markdown",
   "id": "0396a759-85c0-40ab-a724-6bbf869fb4bf",
   "metadata": {},
   "source": [
    "No,porque nos falta saber el tipo de mapeo que utiliza pero de brindarnos esta informacion, esto es posible ya que sabemos el tamaño de la cache que son de 32KiB y tambien sabemos su linesize que es de 32 bytes\n",
    "\n",
    "\n",
    "## P1.7 (2/2.0)\n"
   ]
  },
  {
   "cell_type": "markdown",
   "id": "40f4cf8a-b50b-4026-94f7-6dc3f6c9ddb2",
   "metadata": {},
   "source": [
    "8) (4.0 puntos) Basándose en todas las respuestas de los incisos anteriores, ¿qué\n",
    "implementación genera mejores tiempos de ejecución? Justificar su respuesta.\n"
   ]
  },
  {
   "attachments": {},
   "cell_type": "markdown",
   "id": "54667410-53d0-4701-a244-fe6acc2bc98c",
   "metadata": {},
   "source": [
    "Por el tiempo promedio calculado parece generar mejores tiempos el Programa1_2 , es decir la segunda alternativa. Esta diferencia es practicamente insignificante y esto se debe practicamente que son muy similares la unica diferencia que tienen es que en el programa numero 1 se utiliza un arreglo unidimencional antes. Hacer esto es una muy buena practica ya que ayuda a tener mejores tiempos aprovechando la localidad espacial pero lastimosamente estas mejoras significativas de tiempo son mucho mas notorias cuando el arreglo es de mas dimenciones es decir bidimencional o se emplearian mas funciones. Al no ser este el caso en un tiempo de prueba de solo 15 repeticiones podemos ver que las diferencias no son tan marcadas.\n",
    "\n",
    "Incluso puede llegar a ser mas lento el primero ya que en las instrucciones está buscando el arreglo[i] y luego a su valor sumarlo con suma yt actualizar esta variable, mientras que en el segundo directamente al valor de suma le suma el valor de i, es decir tiene que acceder a menos posiciones de memoria.\n",
    "\n",
    "Para programas mas complejos deberia tener mejor rendimiento el primero.\n",
    "\n",
    "\n",
    "## P1.8 (0/4.0)\n",
    "-Está suponiendo que el orden del arreglo es en grupos, lo cual no necesariamente es correcto. El acceso a memoria del arreglo es lo hace demorar su programa.\n"
   ]
  },
  {
   "cell_type": "markdown",
   "id": "4ffff745-93b6-46fe-9d80-58831d9cebc4",
   "metadata": {},
   "source": [
    "9) (3.0 puntos) ¿Cómo influye el tipo de datos del arreglo en este ejercicio? Esperaría\n",
    "resultados similares para un tipo char, short, long? Comentar acerca de su\n",
    "respuesta."
   ]
  },
  {
   "attachments": {},
   "cell_type": "markdown",
   "id": "77390ec1-f261-4a01-8544-1490edc2da93",
   "metadata": {},
   "source": [
    "Influye bastante ya que para un arreglo o variables seguidas se tiene una posicion de memoria alejada segun el tamaño de su variable. Es decir que en la memoria cache alcanzarian mas bloques de variables si es que estas tuvieran un tipo mas pequeño. \n",
    "En el ejemplo se utiliza int para enteros que tiene un tamaño de 32 bits es decir que cada variable ocupa una posicion de memoria de 32 bits.\n",
    "\n",
    "Al tener una memoria cache de 32 bytes line size con 32KiB si utilizar alguno de mayor tamaño ejemplo double de 64 bits = 8 bytes ocuparian mas espacio y para tipos mas grandes todabia mas, reduciria la cantidad de variables que pueden estar por bloques en la memoria cache y aumentaria los tiempos de lectura y escritura, mientras por otra parte al ser mas pequeños deberia ayudar a reducir estos tiempos ya que pueden entrar mas valores\n",
    "\n",
    "\n",
    "\n",
    "## P1.9 (3/3.0)"
   ]
  }
 ],
 "metadata": {
  "kernelspec": {
   "display_name": "Python 3 (ipykernel)",
   "language": "python",
   "name": "python3"
  },
  "language_info": {
   "codemirror_mode": {
    "name": "ipython",
    "version": 3
   },
   "file_extension": ".py",
   "mimetype": "text/x-python",
   "name": "python",
   "nbconvert_exporter": "python",
   "pygments_lexer": "ipython3",
   "version": "3.10.6"
  }
 },
 "nbformat": 4,
 "nbformat_minor": 5
}
