{
 "cells": [
  {
   "cell_type": "markdown",
   "id": "7d0b1bee-692f-4efd-bf63-e6702a911704",
   "metadata": {},
   "source": [
    "Creeado por: Diego Vera 20172404"
   ]
  },
  {
   "cell_type": "markdown",
   "id": "41b8ce24-9cc5-49e6-9d9a-fba09f22b5ec",
   "metadata": {},
   "source": [
    "Pregunta 1:\n",
    "\n",
    "Se le brinda dos códigos en C: Programa1_1.c y Programa1_2.c. Ambos generan el mismo\n",
    "resultado pero se han implementado de diferentes maneras. Se le pide lo siguiente:"
   ]
  },
  {
   "cell_type": "markdown",
   "id": "779a6b68-d58d-4b99-bf32-b940ba3bfd53",
   "metadata": {},
   "source": [
    "1) (1.0 punto) Incluir la medición de tiempo desde C considerando únicamente el\n",
    "cálculo de la suma para ambos programas. Imprimir el tiempo de ejecución al\n",
    "ejecutar los programas. Utilice las unidades que mejor se ajusten al tiempo de\n",
    "ejecución de su PC. No usar más de dos decimales.\n"
   ]
  },
  {
   "cell_type": "code",
   "execution_count": null,
   "id": "930a627d-95e7-4d1c-a529-c8b45e63e5b6",
   "metadata": {},
   "outputs": [],
   "source": [
    "Mediciones para Programa1_1:"
   ]
  },
  {
   "cell_type": "code",
   "execution_count": 3,
   "id": "d929b24a-972a-47c8-bf3c-b30d6d94d34e",
   "metadata": {},
   "outputs": [
    {
     "name": "stdout",
     "output_type": "stream",
     "text": [
      "Overwriting Programa1_1.c\n"
     ]
    }
   ],
   "source": [
    "%%file Programa1_1.c\n",
    "\n",
    "#include <stdio.h>\n",
    "#include <time.h> //para tomar mediciones del tiempo\n",
    "\n",
    "#define N 1000000\n",
    "\n",
    "int main() {\n",
    "  int sum = 0;\n",
    "  int array[N];\n",
    "\n",
    "  // Initialize the array\n",
    "  for (int i = 0; i < N; i++) {\n",
    "    array[i] = i;\n",
    "  }\n",
    "    \n",
    "    \n",
    "  // Calculate the sum of the array\n",
    "  for (int i = 0; i < N; i++) {\n",
    "    sum += array[i];\n",
    "  }\n",
    "\n",
    "  // Print the sum\n",
    "  printf(\"Sum: %d\\n\", sum);\n",
    "\n",
    "  return 0;\n",
    "}\n",
    "\n"
   ]
  },
  {
   "cell_type": "markdown",
   "id": "e1f10b28-b7d9-4e1d-a94a-089be0f2b145",
   "metadata": {},
   "source": [
    "Mediciones en Programa1_2:"
   ]
  },
  {
   "cell_type": "code",
   "execution_count": 4,
   "id": "1871a646-1dfb-434c-9056-a751bc78cf8a",
   "metadata": {},
   "outputs": [
    {
     "name": "stdout",
     "output_type": "stream",
     "text": [
      "Overwriting Programa1_2.c\n"
     ]
    }
   ],
   "source": [
    "%%file Programa1_2.c\n",
    "\n",
    "#include <stdio.h>\n",
    "\n",
    "#define N 1000000\n",
    "\n",
    "int main() {\n",
    "  int sum = 0;\n",
    "\n",
    "  // Calculate the sum of the array\n",
    "  for (int i = 0; i < N; i++) {\n",
    "    sum += i;\n",
    "  }\n",
    "\n",
    "  // Print the sum\n",
    "  printf(\"Sum: %d\\n\", sum);\n",
    "\n",
    "  return 0;\n",
    "}\n",
    "\n"
   ]
  },
  {
   "cell_type": "markdown",
   "id": "483833cb-3252-47de-89b7-17600dd5081f",
   "metadata": {},
   "source": [
    "2) (1.0 punto) Realizar 15 ejecuciones desde el terminal para ambos archivos\n",
    "ejecutables. Realizar una captura de pantalla de su ejecución. Los tiempos en su\n",
    "imagen deben ser visibles."
   ]
  },
  {
   "cell_type": "code",
   "execution_count": null,
   "id": "72304509-32ac-4863-b69e-2f9fbe041967",
   "metadata": {},
   "outputs": [],
   "source": []
  },
  {
   "cell_type": "markdown",
   "id": "83148f5d-706c-4be9-9aaa-ab061ed17b15",
   "metadata": {},
   "source": [
    "3) (1.0 punto) Adjuntar una tabla con todas las mediciones."
   ]
  },
  {
   "cell_type": "code",
   "execution_count": null,
   "id": "98115f9b-12d3-4ed5-b4b9-402437f2fcbb",
   "metadata": {},
   "outputs": [],
   "source": []
  },
  {
   "cell_type": "markdown",
   "id": "2cbf4721-2849-490b-8420-77cfe67f241c",
   "metadata": {},
   "source": [
    "4) (1.0 punto) Explicar cómo se relaciona el Programa1_1.c con los conceptos de\n",
    "localidad temporal y localidad espacial."
   ]
  },
  {
   "cell_type": "code",
   "execution_count": null,
   "id": "1aa536f4-41de-4b0a-b7cb-db7b9e70b3a1",
   "metadata": {},
   "outputs": [],
   "source": []
  },
  {
   "cell_type": "markdown",
   "id": "e419bf35-722f-49aa-96a0-0cf0a1454b1b",
   "metadata": {},
   "source": [
    "5) (1.0 punto) Explicar cómo se relaciona el Programa1_2.c con los conceptos de\n",
    "localidad temporal y localidad espacial.\n"
   ]
  },
  {
   "cell_type": "code",
   "execution_count": null,
   "id": "3af82310-81b5-4048-9373-78766ed66acc",
   "metadata": {},
   "outputs": [],
   "source": []
  },
  {
   "cell_type": "markdown",
   "id": "f720e53a-60a2-4ff7-bc81-c323b3aa0470",
   "metadata": {},
   "source": [
    "6) (1.0 punto) Utilizar el comando getconf -a | grep CACHE en el terminal y verificar el\n",
    "tamaño de bloque de su computador. Recordar que el tamaño de bloque en el nivel\n",
    "1 se ve en la línea LEVEL1_DCACHE_LINESIZE (en bytes). Adjuntar captura de\n",
    "pantalla"
   ]
  },
  {
   "cell_type": "code",
   "execution_count": null,
   "id": "e65ea81e-b9f6-4e10-809c-48d9fbd78e0f",
   "metadata": {},
   "outputs": [],
   "source": []
  },
  {
   "cell_type": "raw",
   "id": "ef5e78d7-b796-4602-8d03-8cfc6c743816",
   "metadata": {},
   "source": [
    "7) (2.0 punto) Conociendo los datos previos, ¿es posible saber en qué momento se\n",
    "produce hit o miss? De ser posible, comentar el ejemplo, de no serlo, explicar\n",
    "porqué.\n"
   ]
  },
  {
   "cell_type": "code",
   "execution_count": null,
   "id": "0396a759-85c0-40ab-a724-6bbf869fb4bf",
   "metadata": {},
   "outputs": [],
   "source": []
  },
  {
   "cell_type": "markdown",
   "id": "40f4cf8a-b50b-4026-94f7-6dc3f6c9ddb2",
   "metadata": {},
   "source": [
    "8) (4.0 puntos) Basándose en todas las respuestas de los incisos anteriores, ¿qué\n",
    "implementación genera mejores tiempos de ejecución? Justificar su respuesta.\n"
   ]
  },
  {
   "cell_type": "code",
   "execution_count": null,
   "id": "54667410-53d0-4701-a244-fe6acc2bc98c",
   "metadata": {},
   "outputs": [],
   "source": []
  },
  {
   "cell_type": "markdown",
   "id": "4ffff745-93b6-46fe-9d80-58831d9cebc4",
   "metadata": {},
   "source": [
    "9) (3.0 puntos) ¿Cómo influye el tipo de datos del arreglo en este ejercicio? Esperaría\n",
    "resultados similares para un tipo char, short, long? Comentar acerca de su\n",
    "respuesta."
   ]
  },
  {
   "cell_type": "code",
   "execution_count": null,
   "id": "77390ec1-f261-4a01-8544-1490edc2da93",
   "metadata": {},
   "outputs": [],
   "source": []
  },
  {
   "cell_type": "markdown",
   "id": "092b511e-7435-4bf8-8069-edd63dfcb13f",
   "metadata": {},
   "source": [
    "Fin"
   ]
  }
 ],
 "metadata": {
  "kernelspec": {
   "display_name": "Python 3 (ipykernel)",
   "language": "python",
   "name": "python3"
  },
  "language_info": {
   "codemirror_mode": {
    "name": "ipython",
    "version": 3
   },
   "file_extension": ".py",
   "mimetype": "text/x-python",
   "name": "python",
   "nbconvert_exporter": "python",
   "pygments_lexer": "ipython3",
   "version": "3.10.11"
  }
 },
 "nbformat": 4,
 "nbformat_minor": 5
}
