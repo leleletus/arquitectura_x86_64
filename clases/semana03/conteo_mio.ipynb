{
  "cells": [
    {
      "cell_type": "markdown",
      "metadata": {
        "id": "RuTlwQPaIdLw"
      },
      "source": [
        "# Uso de OBJDUMP para inspección de binarios"
      ]
    },
    {
      "cell_type": "code",
      "execution_count": 1,
      "metadata": {
        "colab": {
          "base_uri": "https://localhost:8080/"
        },
        "id": "AvC50XRZKxcE",
        "outputId": "47d09c73-33ed-43fb-a66c-5832aa5707bd"
      },
      "outputs": [
        {
          "name": "stdout",
          "output_type": "stream",
          "text": [
            "Architecture:            x86_64\n",
            "  CPU op-mode(s):        32-bit, 64-bit\n",
            "  Address sizes:         36 bits physical, 48 bits virtual\n",
            "  Byte Order:            Little Endian\n",
            "CPU(s):                  4\n",
            "  On-line CPU(s) list:   0-3\n",
            "Vendor ID:               GenuineIntel\n",
            "  Model name:            Intel(R) Core(TM) i3 CPU       M 350  @ 2.27GHz\n",
            "    CPU family:          6\n",
            "    Model:               37\n",
            "    Thread(s) per core:  2\n",
            "    Core(s) per socket:  2\n",
            "    Socket(s):           1\n",
            "    Stepping:            2\n",
            "    CPU max MHz:         2266.0000\n",
            "    CPU min MHz:         933.0000\n",
            "    BogoMIPS:            4522.13\n",
            "    Flags:               fpu vme de pse tsc msr pae mce cx8 apic sep mtrr pge mc\n",
            "                         a cmov pat pse36 clflush dts acpi mmx fxsr sse sse2 ht \n",
            "                         tm pbe syscall nx rdtscp lm constant_tsc arch_perfmon p\n",
            "                         ebs bts rep_good nopl xtopology nonstop_tsc cpuid aperf\n",
            "                         mperf pni dtes64 monitor ds_cpl vmx est tm2 ssse3 cx16 \n",
            "                         xtpr pdcm sse4_1 sse4_2 popcnt lahf_lm pti ssbd ibrs ib\n",
            "                         pb stibp tpr_shadow vnmi flexpriority ept vpid dtherm a\n",
            "                         rat flush_l1d\n",
            "Virtualization features: \n",
            "  Virtualization:        VT-x\n",
            "Caches (sum of all):     \n",
            "  L1d:                   64 KiB (2 instances)\n",
            "  L1i:                   64 KiB (2 instances)\n",
            "  L2:                    512 KiB (2 instances)\n",
            "  L3:                    3 MiB (1 instance)\n",
            "NUMA:                    \n",
            "  NUMA node(s):          1\n",
            "  NUMA node0 CPU(s):     0-3\n",
            "Vulnerabilities:         \n",
            "  Itlb multihit:         KVM: Mitigation: VMX disabled\n",
            "  L1tf:                  Mitigation; PTE Inversion; VMX conditional cache flushe\n",
            "                         s, SMT vulnerable\n",
            "  Mds:                   Vulnerable: Clear CPU buffers attempted, no microcode; \n",
            "                         SMT vulnerable\n",
            "  Meltdown:              Mitigation; PTI\n",
            "  Mmio stale data:       Unknown: No mitigations\n",
            "  Retbleed:              Not affected\n",
            "  Spec store bypass:     Mitigation; Speculative Store Bypass disabled via prctl\n",
            "                          and seccomp\n",
            "  Spectre v1:            Mitigation; usercopy/swapgs barriers and __user pointer\n",
            "                          sanitization\n",
            "  Spectre v2:            Mitigation; Retpolines, IBPB conditional, IBRS_FW, STIB\n",
            "                         P conditional, RSB filling, PBRSB-eIBRS Not affected\n",
            "  Srbds:                 Not affected\n",
            "  Tsx async abort:       Not affected\n"
          ]
        }
      ],
      "source": [
        "! lscpu"
      ]
    },
    {
      "cell_type": "markdown",
      "metadata": {
        "id": "S4yi_hnxJEBE"
      },
      "source": [
        "Archivo de código C en el que suman los elementos de dos vectores de enteros, y el resultado se almacena en otro vector"
      ]
    },
    {
      "cell_type": "code",
      "execution_count": 3,
      "metadata": {
        "colab": {
          "base_uri": "https://localhost:8080/"
        },
        "id": "HdHattRsIr41",
        "outputId": "aeaa48ea-c2b9-4c9c-b0d1-708d70df4f49"
      },
      "outputs": [
        {
          "name": "stdout",
          "output_type": "stream",
          "text": [
            "Overwriting vec_sum.c\n"
          ]
        }
      ],
      "source": [
        "%%file vec_sum.c\n",
        "\n",
        "void vec_sum(int* a, int* b, int* c, int N){\n",
        "    for(int i = 0; i < N; i++){\n",
        "        c[i] = a[i] + b[i];\n",
        "    }\n",
        "}"
      ]
    },
    {
      "attachments": {},
      "cell_type": "markdown",
      "metadata": {
        "id": "MGidn9ZbJOTs"
      },
      "source": [
        "Se compila con las siguientes opciones:\n",
        "\n",
        "\n",
        "\n",
        "*   `-Os` para que ocupe menos espacio\n",
        "*   `-c` para que cree un `object file`\n",
        "*   `-o` para indicar el archivo de salida\n",
        "\n"
      ]
    },
    {
      "cell_type": "code",
      "execution_count": 4,
      "metadata": {
        "id": "DM4o845KI35g"
      },
      "outputs": [],
      "source": [
        "! gcc -Os -c vec_sum.c -o vec_sum.o"
      ]
    },
    {
      "cell_type": "markdown",
      "metadata": {
        "id": "DswnwUFvJdOf"
      },
      "source": [
        "Usar `objdump` para ver las instrucciones del `object file` generado con las siguientes opciones:\n",
        "\n",
        "\n",
        "\n",
        "*   `-M intel` para que use sintaxis de intel\n",
        "*   `-j .text` para que solo muestre el segmento de código\n",
        "*   `-D` para que muestre el disassembly\n",
        "\n"
      ]
    },
    {
      "cell_type": "code",
      "execution_count": 5,
      "metadata": {
        "colab": {
          "base_uri": "https://localhost:8080/"
        },
        "id": "NzrPI-G8I76Q",
        "outputId": "406d6345-66ce-4955-a9a4-455debf1fea8"
      },
      "outputs": [
        {
          "name": "stdout",
          "output_type": "stream",
          "text": [
            "\n",
            "vec_sum.o:     file format elf64-x86-64\n",
            "\n",
            "\n",
            "Disassembly of section .text:\n",
            "\n",
            "0000000000000000 <vec_sum>:\n",
            "   0:\tf3 0f 1e fa          \tendbr64 \n",
            "   4:\t31 c0                \txor    eax,eax\n",
            "   6:\t39 c1                \tcmp    ecx,eax\n",
            "   8:\t7e 11                \tjle    1b <vec_sum+0x1b>\n",
            "   a:\t44 8b 04 86          \tmov    r8d,DWORD PTR [rsi+rax*4]\n",
            "   e:\t44 03 04 87          \tadd    r8d,DWORD PTR [rdi+rax*4]\n",
            "  12:\t44 89 04 82          \tmov    DWORD PTR [rdx+rax*4],r8d\n",
            "  16:\t48 ff c0             \tinc    rax\n",
            "  19:\teb eb                \tjmp    6 <vec_sum+0x6>\n",
            "  1b:\tc3                   \tret    \n"
          ]
        }
      ],
      "source": [
        "! objdump -M intel -j .text -D vec_sum.o"
      ]
    },
    {
      "cell_type": "markdown",
      "metadata": {
        "id": "SQcVRaKOJyBv"
      },
      "source": [
        "Ahora usted analice la salida de `objdump` y cuente cuantas instrucciones ha ejecutado este código. Tenga en cuenta que la cantidad de instrucciones ejecutadas cambian con el valor de `N`."
      ]
    },
    {
      "cell_type": "markdown",
      "metadata": {
        "id": "USis8kWp2A5o"
      },
      "source": [
        "Luego de hacer una inspección para unos valores pequeños de N, se llega a la siguiente tabla.\n",
        "\n",
        "| N | #instrucciones |\n",
        "|:-:|:--------------:|\n",
        "| 0 |        5       |\n",
        "| 1 |       12       |\n",
        "| 2 |       19       |\n",
        "| 3 |       26       |\n",
        "\n",
        "Se podría decir que, en general, para este código la cantidad de instrucciones es `#instrucciones = 7 * N + 5`. Con esto, ya es posible calcular el CPI asociado a un tamaño `N`."
      ]
    },
    {
      "cell_type": "code",
      "execution_count": 6,
      "metadata": {
        "colab": {
          "base_uri": "https://localhost:8080/"
        },
        "id": "PbXu7A7g1IL2",
        "outputId": "1ee51920-a901-4b7b-ee01-ba32ec501efa"
      },
      "outputs": [
        {
          "name": "stdout",
          "output_type": "stream",
          "text": [
            "Writing test.c\n"
          ]
        }
      ],
      "source": [
        "%%file test.c\n",
        "\n",
        "#include <x86intrin.h>\n",
        "#include <stdio.h>\n",
        "#include <stdlib.h>\n",
        "#include <time.h>\n",
        "\n",
        "int* crear_arr(int N){\n",
        "    int* v = (int*)malloc(sizeof(int)*N);\n",
        "    for(int i = 0; i < N; i++){\n",
        "        v[i] = rand() % 9;\n",
        "    }\n",
        "    return v;    \n",
        "}\n",
        "\n",
        "void fill_arr(int* v, int N){\n",
        "    for(int i = 0; i < N; i++){\n",
        "        v[i] = rand() % 9;\n",
        "    }\n",
        "}\n",
        "\n",
        "\n",
        "void vec_sum(int* a, int* b, int* c, int N){\n",
        "    for(int i = 0; i < N; i++){\n",
        "        c[i] = a[i] + b[i];\n",
        "    }\n",
        "}\n",
        "\n",
        "int calc_num_instr(int N){\n",
        "    return 7*N+5;\n",
        "}\n",
        "\n",
        "double calcular_CPI(long int num_cic, int num_inst){\n",
        "    return (double)num_cic / (double)num_inst;\n",
        "}\n",
        "\n",
        "int main(){\n",
        "    \n",
        "    srand(time(NULL));\n",
        "\n",
        "    int N = 8;\n",
        "\n",
        "    int* a = crear_arr(N);\n",
        "    int* b = crear_arr(N);\n",
        "    int* c = crear_arr(N);\n",
        "\n",
        "    long int tic, toc, ciclos;\n",
        "\n",
        "    tic = __rdtsc();\n",
        "    vec_sum(a, b, c, N);\n",
        "    toc = __rdtsc();\n",
        "\n",
        "    ciclos = toc - tic;\n",
        "\n",
        "    int num_instr = calc_num_instr(N);\n",
        "\n",
        "    double CPI = calcular_CPI(ciclos, num_instr);\n",
        "\n",
        "    printf(\"#instrucciones:%d\\n\", num_instr);\n",
        "    printf(\"ciclos:%ld\\n\", ciclos);\n",
        "    printf(\"CPI:%lf\\n\",CPI);\n",
        "\n",
        "    return 0;\n",
        "}\n",
        "\n"
      ]
    },
    {
      "cell_type": "code",
      "execution_count": 7,
      "metadata": {
        "id": "iDEX9nW73MOo"
      },
      "outputs": [],
      "source": [
        "! gcc test.c -o test"
      ]
    },
    {
      "cell_type": "code",
      "execution_count": 14,
      "metadata": {
        "colab": {
          "base_uri": "https://localhost:8080/"
        },
        "id": "PL1xBk8T3Plk",
        "outputId": "a0f8be93-ec01-4648-e65b-dc21ddad81f4"
      },
      "outputs": [
        {
          "name": "stdout",
          "output_type": "stream",
          "text": [
            "#instrucciones:61\n",
            "ciclos:586\n",
            "CPI:9.606557\n"
          ]
        }
      ],
      "source": [
        "! ./test"
      ]
    },
    {
      "cell_type": "markdown",
      "metadata": {
        "id": "-D1AF4ng70jV"
      },
      "source": [
        "Note que esto es una aproximación muy ingenua, porque para medir el CPI deberíamos probar la función más de una vez y realizar un cálculo promedio."
      ]
    }
  ],
  "metadata": {
    "colab": {
      "provenance": []
    },
    "kernelspec": {
      "display_name": "Python 3",
      "name": "python3"
    },
    "language_info": {
      "codemirror_mode": {
        "name": "ipython",
        "version": 3
      },
      "file_extension": ".py",
      "mimetype": "text/x-python",
      "name": "python",
      "nbconvert_exporter": "python",
      "pygments_lexer": "ipython3",
      "version": "3.10.6"
    }
  },
  "nbformat": 4,
  "nbformat_minor": 0
}
