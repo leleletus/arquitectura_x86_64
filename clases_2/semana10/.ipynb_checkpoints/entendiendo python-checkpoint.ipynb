{
 "cells": [
  {
   "cell_type": "code",
   "execution_count": 1,
   "id": "334d7597-dc32-4b6e-a0c0-2dcf16340d2f",
   "metadata": {},
   "outputs": [
    {
     "name": "stdin",
     "output_type": "stream",
     "text": [
      "ingresame algo pe holas\n"
     ]
    }
   ],
   "source": [
    "data=input(\"ingresame algo pe\")"
   ]
  },
  {
   "cell_type": "code",
   "execution_count": 2,
   "id": "78a8bc08-3afc-45b4-aaff-7f1df997bbd7",
   "metadata": {},
   "outputs": [
    {
     "data": {
      "text/plain": [
       "str"
      ]
     },
     "execution_count": 2,
     "metadata": {},
     "output_type": "execute_result"
    }
   ],
   "source": [
    "type(data)"
   ]
  },
  {
   "cell_type": "code",
   "execution_count": 3,
   "id": "960db2a6-56ff-4cfd-984c-a6905d9ed0a7",
   "metadata": {},
   "outputs": [
    {
     "name": "stdout",
     "output_type": "stream",
     "text": [
      "holas\n"
     ]
    }
   ],
   "source": [
    "print(data)"
   ]
  },
  {
   "cell_type": "code",
   "execution_count": 4,
   "id": "7b800441-c4d0-407c-ace8-e56656ef04a6",
   "metadata": {},
   "outputs": [],
   "source": [
    "str_chain = \"esta es una ñ\""
   ]
  },
  {
   "cell_type": "code",
   "execution_count": 5,
   "id": "9f50066f-0a55-4105-9ebb-973cc1110444",
   "metadata": {},
   "outputs": [
    {
     "data": {
      "text/plain": [
       "'esta es una ñ'"
      ]
     },
     "execution_count": 5,
     "metadata": {},
     "output_type": "execute_result"
    }
   ],
   "source": [
    "str_chain"
   ]
  },
  {
   "cell_type": "code",
   "execution_count": 6,
   "id": "4da6be8d-7ef0-4593-a0ab-6067119f4afa",
   "metadata": {},
   "outputs": [
    {
     "data": {
      "text/plain": [
       "str"
      ]
     },
     "execution_count": 6,
     "metadata": {},
     "output_type": "execute_result"
    }
   ],
   "source": [
    "type(str_chain)"
   ]
  },
  {
   "cell_type": "code",
   "execution_count": 7,
   "id": "718209c0-eb4a-47b0-b23c-9e67b39d8c15",
   "metadata": {},
   "outputs": [],
   "source": [
    "str_bytes = str_chain.encode(\"utf-8\")"
   ]
  },
  {
   "cell_type": "code",
   "execution_count": 8,
   "id": "816234f9-8edf-48fc-b64d-e0d72021e245",
   "metadata": {},
   "outputs": [
    {
     "data": {
      "text/plain": [
       "b'esta es una \\xc3\\xb1'"
      ]
     },
     "execution_count": 8,
     "metadata": {},
     "output_type": "execute_result"
    }
   ],
   "source": [
    "str_bytes"
   ]
  },
  {
   "cell_type": "code",
   "execution_count": 10,
   "id": "e90ff01a-00af-43cc-b4b4-5e80bfd47fc0",
   "metadata": {},
   "outputs": [
    {
     "ename": "SyntaxError",
     "evalue": "bytes can only contain ASCII literal characters (1086028653.py, line 2)",
     "output_type": "error",
     "traceback": [
      "\u001b[0;36m  Cell \u001b[0;32mIn[10], line 2\u001b[0;36m\u001b[0m\n\u001b[0;31m    str_bytes1= b\"esta es ina ñ\"\u001b[0m\n\u001b[0m                                ^\u001b[0m\n\u001b[0;31mSyntaxError\u001b[0m\u001b[0;31m:\u001b[0m bytes can only contain ASCII literal characters\n"
     ]
    }
   ],
   "source": [
    " #si antepongo una ñ significa que la cadena no son de caracteres si no son bytes \n",
    "str_bytes1= b\"esta es una ñ\"\n",
    "#lo que viene a continuacion de \\X es un hexadecimal"
   ]
  },
  {
   "cell_type": "code",
   "execution_count": 11,
   "id": "7e1601d7-c027-446d-9e99-20eb783c9df6",
   "metadata": {},
   "outputs": [],
   "source": [
    "str_bytes1= b\"esta es una \\xc3\\xb1\""
   ]
  },
  {
   "cell_type": "code",
   "execution_count": 12,
   "id": "fcad0b66-17d8-472d-885e-7ef46d124a1f",
   "metadata": {},
   "outputs": [
    {
     "data": {
      "text/plain": [
       "b'esta es una \\xc3\\xb1'"
      ]
     },
     "execution_count": 12,
     "metadata": {},
     "output_type": "execute_result"
    }
   ],
   "source": [
    "str_bytes1"
   ]
  },
  {
   "cell_type": "code",
   "execution_count": 14,
   "id": "d1760cb8-c559-46fc-aa48-da0bdcc7fc40",
   "metadata": {},
   "outputs": [],
   "source": [
    "str_chain1= str_bytes1.decode(\"utf-8\")"
   ]
  },
  {
   "cell_type": "code",
   "execution_count": 15,
   "id": "6d83f76a-49e7-4514-a7c6-1885256e5f94",
   "metadata": {},
   "outputs": [
    {
     "data": {
      "text/plain": [
       "'esta es una ñ'"
      ]
     },
     "execution_count": 15,
     "metadata": {},
     "output_type": "execute_result"
    }
   ],
   "source": [
    "str_chain1"
   ]
  },
  {
   "cell_type": "code",
   "execution_count": 16,
   "id": "2c11657f-7855-4738-949c-4f532b836971",
   "metadata": {},
   "outputs": [
    {
     "ename": "UnicodeDecodeError",
     "evalue": "'ascii' codec can't decode byte 0xc3 in position 12: ordinal not in range(128)",
     "output_type": "error",
     "traceback": [
      "\u001b[0;31m---------------------------------------------------------------------------\u001b[0m",
      "\u001b[0;31mUnicodeDecodeError\u001b[0m                        Traceback (most recent call last)",
      "Cell \u001b[0;32mIn[16], line 1\u001b[0m\n\u001b[0;32m----> 1\u001b[0m str_chain_ascii\u001b[38;5;241m=\u001b[39m \u001b[43mstr_bytes\u001b[49m\u001b[38;5;241;43m.\u001b[39;49m\u001b[43mdecode\u001b[49m\u001b[43m(\u001b[49m\u001b[38;5;124;43m\"\u001b[39;49m\u001b[38;5;124;43mascii\u001b[39;49m\u001b[38;5;124;43m\"\u001b[39;49m\u001b[43m)\u001b[49m\n",
      "\u001b[0;31mUnicodeDecodeError\u001b[0m: 'ascii' codec can't decode byte 0xc3 in position 12: ordinal not in range(128)"
     ]
    }
   ],
   "source": [
    "str_chain_ascii= str_bytes.decode(\"ascii\")"
   ]
  },
  {
   "cell_type": "code",
   "execution_count": 22,
   "id": "743c1f20-06c3-445c-93b5-4bbf82ffbd60",
   "metadata": {},
   "outputs": [
    {
     "data": {
      "text/plain": [
       "'esta es una Ã±'"
      ]
     },
     "execution_count": 22,
     "metadata": {},
     "output_type": "execute_result"
    }
   ],
   "source": [
    "#para verlo en ascii extendido:\n",
    "str_chain_ansi= str_bytes.decode(\"cp1252\")\n",
    "# \"ansi\" en windows,\"cp1252\" o \"iso_8859_1\" si no funciona\n",
    "str_chain_ansi"
   ]
  },
  {
   "cell_type": "code",
   "execution_count": 27,
   "id": "c0f5a629-e418-4837-bda1-c46c2261125a",
   "metadata": {},
   "outputs": [
    {
     "name": "stdin",
     "output_type": "stream",
     "text": [
      "Ingrese un número:  18\n"
     ]
    },
    {
     "name": "stdout",
     "output_type": "stream",
     "text": [
      "EL numero ingresado es 18.0 de tipo <class 'float'>\n"
     ]
    }
   ],
   "source": [
    "#ejemplo\n",
    "\n",
    "from datetime import datetime\n",
    "import time\n",
    "\n",
    "if __name__ == \"__main__\":\n",
    "    #inicio = time.perf_counter()\n",
    "    num_flag = False\n",
    "    \n",
    "    while not num_flag:\n",
    "        num = input(\"Ingrese un número: \")\n",
    "        try:\n",
    "            num_val = float(num) #agarro el string que me devolvio el imput y lo vuelvo a un flotante\n",
    "            num_flag = True #valido que se obtuvo bien el numero , en caso contraro falla y vuelve a repetirse\n",
    "            \n",
    "        except ValueError: #si es que no se ejecuta todo el try , pasa algun error en medio , sale\n",
    "            print(f\"{datetime.now()}: Numero invalido --> {num}, ingrese uno bueno\")\n",
    "            pass\n",
    "        \n",
    "    print(f\"EL numero ingresado es {num_val} de tipo {type(num_val)}\")"
   ]
  },
  {
   "cell_type": "code",
   "execution_count": 31,
   "id": "094ddb17-7bb4-4985-a8a6-ee37a657732c",
   "metadata": {},
   "outputs": [],
   "source": [
    "! wget \"https://ca-times.brightspotcdn.com/dims4/default/c3f4b96/2147483647/strip/true/crop/1970x1108+39+0/resize/1200x675!/quality/80/?url=https%3A%2F%2Fcalifornia-times-brightspot.s3.amazonaws.com%2F12%2Fa5%2F79e097ccf62312d18a025f22ce48%2Fhoyla-recuento-11-cosas-aman-gatos-top-001\" -o gato.png\n"
   ]
  },
  {
   "cell_type": "code",
   "execution_count": 39,
   "id": "6bb47004-6671-46b4-975d-54473f266b58",
   "metadata": {},
   "outputs": [
    {
     "name": "stdout",
     "output_type": "stream",
     "text": [
      "LA SALUDOS DESDE AQUI EN ARQUI!!!\n"
     ]
    }
   ],
   "source": [
    "\n",
    "\n",
    "if __name__ == \"__main__\":\n",
    "    with open(\"README.md\", \"r\") as f:  #r es solo lectura\n",
    "        contenido = f.read()  #Hola saludos desde aqui en arqui!!!\n",
    "        print(contenido[2:].upper()) #apartir del segundo me corro\n"
   ]
  },
  {
   "cell_type": "code",
   "execution_count": 36,
   "id": "a432bfb6-ff03-4fe0-aa47-2e30d21ee424",
   "metadata": {},
   "outputs": [
    {
     "name": "stdout",
     "output_type": "stream",
     "text": [
      "Codigo,Lab1,Lab2,Lab3,Lab4,Lab5,Lab6,Lab7,Lab8,Lab9,Lab10,Lab11,Lab12,e1,e2\n",
      "20230001,20,15,14,16,9,12,7,14,20,16,20,8,18,5\n"
     ]
    }
   ],
   "source": [
    "\n",
    "if __name__ == \"__main__\":\n",
    "    with open(\"notas.csv\", \"r\") as f:  #r es solo lectura\n",
    "        contenido = f.read()\n",
    "        print(contenido)\n",
    "        \n",
    "\n",
    "        "
   ]
  },
  {
   "cell_type": "code",
   "execution_count": 38,
   "id": "7ddde55a-09b3-4854-bb60-080a34fe878f",
   "metadata": {},
   "outputs": [
    {
     "name": "stdout",
     "output_type": "stream",
     "text": [
      "Esta es la primera linea\n",
      "Esta es la segunda linea\n",
      "['ESTA ES LA PRIMERA LINEA', 'Esta es la segunda linea']\n"
     ]
    }
   ],
   "source": [
    "        \n",
    "        texto = \"Esta es la primera linea\\nEsta es la segunda linea\"\n",
    "        print(texto)\n",
    "        texto_lista = texto.split(\"\\n\")\n",
    "        texto_lista[0] = texto_lista[0].upper()\n",
    "              \n",
    "        print(f\"{texto_lista}\")"
   ]
  },
  {
   "cell_type": "code",
   "execution_count": null,
   "id": "a225dec0-8116-475e-b941-04a1c4e0baca",
   "metadata": {},
   "outputs": [],
   "source": [
    "def procesa_fila(fila: list[str]) -> list[float]:\n",
    "    nums=list()\n",
    "    for num_str in fila:\n",
    "        num= float(num_str)\n",
    "        nums.append(num)\n",
    "    return nums\n",
    "\n",
    "def calcula_nota_final(alumno: list[float]) -> float:\n",
    "    nota_lab=0\n",
    "    for i in range (1,13):\n",
    "        nota_lab += alumno[1]\n",
    "    nota_lab = nota_lab/13.0\n",
    "    nota_final =((5* nota_lab) + (2.5*alumno[13]) + (2.5*alumno[14]))/10.0\n",
    "    \n",
    "    return nota_final\n",
    "\n",
    "\n",
    "if __name__ == \"__main__\":\n",
    "    with open(\"notas.csv\", \"r\") as f:  #r es solo lectura\n",
    "        contenido = f.read()\n",
    "        \n",
    "        \n",
    "        nota_alumno = procesa_fila(fila)\n",
    "        alumnos.append(nota_alumno)\n",
    "        \n",
    "        \n",
    "    \n",
    "    #falta arreglar detalles finales e imprimir\n",
    "    notas_finales = list()\n",
    "    for alumno in alumnos:\n",
    "        nota=\n",
    "        notas_finales.appent(\n",
    "                       \n",
    "                       \n",
    "       \n",
    "     notas_finales.append(nota_final)\n",
    "        \n",
    "\n",
    "        "
   ]
  },
  {
   "cell_type": "code",
   "execution_count": null,
   "id": "9a6630d7-6f0c-43b8-a452-c93d11202675",
   "metadata": {},
   "outputs": [],
   "source": []
  },
  {
   "cell_type": "code",
   "execution_count": null,
   "id": "0df93415-fbb4-4156-b12f-dfefe2c3489a",
   "metadata": {},
   "outputs": [],
   "source": []
  }
 ],
 "metadata": {
  "kernelspec": {
   "display_name": "Python 3 (ipykernel)",
   "language": "python",
   "name": "python3"
  },
  "language_info": {
   "codemirror_mode": {
    "name": "ipython",
    "version": 3
   },
   "file_extension": ".py",
   "mimetype": "text/x-python",
   "name": "python",
   "nbconvert_exporter": "python",
   "pygments_lexer": "ipython3",
   "version": "3.10.11"
  }
 },
 "nbformat": 4,
 "nbformat_minor": 5
}
